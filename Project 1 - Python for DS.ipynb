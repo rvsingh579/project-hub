{
 "cells": [
  {
   "cell_type": "markdown",
   "id": "cd619030",
   "metadata": {},
   "source": [
    "---\n",
    "---\n",
    "\n",
    "<center><h1> Project : File Handling & String Manipulation </h1></center>\n",
    "\n",
    "---"
   ]
  },
  {
   "cell_type": "markdown",
   "id": "37462fd8",
   "metadata": {},
   "source": [
    "## ***Q. A sample script of Game of Thrones was taken from the page and stored in the file conv.txt in the dataset provided. Your task is to read the file and do the following:***"
   ]
  },
  {
   "cell_type": "markdown",
   "id": "3a2ec8ac",
   "metadata": {},
   "source": [
    "### ***1. Find out the number of unique characters in the sample conversation?***"
   ]
  },
  {
   "cell_type": "code",
   "execution_count": null,
   "id": "8eb0cfdd",
   "metadata": {},
   "outputs": [],
   "source": [
    "# In conv.txt file, we observe that the dialogues and characters are separated by a `:`,\n",
    "# on which we will use split function and append the separated characters in a blank list.\n",
    "\n",
    "name_list = []\n",
    "\n",
    "with open('dataset/conv.txt', 'r') as text:\n",
    "    \n",
    "    for i in text:\n",
    "        if i[0]== '\\n':\n",
    "            pass\n",
    "        else:\n",
    "            name_list.append(i.split(':')[0])"
   ]
  },
  {
   "cell_type": "code",
   "execution_count": null,
   "id": "6faf20c7",
   "metadata": {},
   "outputs": [],
   "source": [
    "name_set = set(name_list)"
   ]
  },
  {
   "cell_type": "code",
   "execution_count": null,
   "id": "2c3882f3",
   "metadata": {},
   "outputs": [],
   "source": [
    "len(name_set)"
   ]
  },
  {
   "cell_type": "markdown",
   "id": "b4dc5368",
   "metadata": {},
   "source": [
    "#### The total number of characters in the given text file is 17."
   ]
  },
  {
   "cell_type": "markdown",
   "id": "23f95624",
   "metadata": {},
   "source": [
    "---\n",
    "---\n",
    "### ***2. Create a new text file for each of the characters with their name and store the unique words said by them in their respective file. Store one word in one line***\n"
   ]
  },
  {
   "cell_type": "code",
   "execution_count": null,
   "id": "ff3fe7af",
   "metadata": {},
   "outputs": [],
   "source": [
    "# In the given text file we will again split the character and dialogue and append them in a blank list, which will create\n",
    "# a nested list comprising list of each dialogue along with\n",
    "# its speaker on the 1st and 0th index respectively.\n",
    "\n",
    "conversation = []\n",
    "\n",
    "with open('dataset/conv.txt', 'r') as text:\n",
    "    \n",
    "    for i in text:\n",
    "        if i[0]== '\\n':\n",
    "            pass\n",
    "        else:\n",
    "            conversation.append(i.split(': '))"
   ]
  },
  {
   "cell_type": "code",
   "execution_count": null,
   "id": "495b2eed",
   "metadata": {
    "scrolled": true
   },
   "outputs": [],
   "source": [
    "# Now we will compare the 0th index containing names in \"conversation\" with the names in \"name_set\" created in above question\n",
    "# in a nested for loop. If the 0th index will match, 1st index of that list will be converted to string and\n",
    "# appended in the blank string \"dialogue_str\" in each loop.\n",
    "\n",
    "for i in name_set:\n",
    "    dialogue_str = \"\"\n",
    "    for j in conversation:\n",
    "        if j[0] == i:\n",
    "            dialogue_str = dialogue_str+str(j[1])\n",
    "\n",
    "# Now \"dialogue_str\" will be cleaned and all the words will be converted to uppercase/ lowercase in order to avoid\n",
    "# repetition due to case difference and then splitted to individual words.\n",
    "    \n",
    "    dialogue_str = dialogue_str.replace('!', '').replace(\".\",\"\").replace(\",\",\"\").replace(\"?\", \"\").upper()\n",
    "    dialogue_split = dialogue_str.split()\n",
    "\n",
    "# Convert these individual words present inside \"dialogue_split\" in to a set for getting unique words named \"dialogue_set\".\n",
    "    dialogue_set = set(dialogue_split)\n",
    "    \n",
    "# Insert these words from \"dialogue_set\" using for loop, creating respective text files by creating a file writing path\n",
    "# in 'w' mode, then close the file for the 'for loop'.\n",
    "    file = open(i+'.txt','w')\n",
    "    for k in dialogue_set:\n",
    "        file.write(k + '\\n')\n",
    "    file.close()"
   ]
  }
 ],
 "metadata": {
  "kernelspec": {
   "display_name": "Python 3",
   "language": "python",
   "name": "python3"
  },
  "language_info": {
   "codemirror_mode": {
    "name": "ipython",
    "version": 3
   },
   "file_extension": ".py",
   "mimetype": "text/x-python",
   "name": "python",
   "nbconvert_exporter": "python",
   "pygments_lexer": "ipython3",
   "version": "3.9.5"
  }
 },
 "nbformat": 4,
 "nbformat_minor": 5
}
