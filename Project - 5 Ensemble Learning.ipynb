{
 "cells": [
  {
   "cell_type": "markdown",
   "id": "8a5ca28c",
   "metadata": {},
   "source": [
    "<div style = \"text-align: right\"><h4>Job Oriented Specialisation in Data Science</h4></div>"
   ]
  },
  {
   "cell_type": "markdown",
   "id": "e66197d8",
   "metadata": {},
   "source": [
    "---\n",
    "<center><h1>Ensemble Learning</h1></center>\n",
    "\n",
    "---"
   ]
  },
  {
   "cell_type": "markdown",
   "id": "bfd003a2",
   "metadata": {},
   "source": [
    "## Project - Building Basic predictive models over the NYC Taxi Trip dataset.\n",
    "\n",
    "#### You are provided with the NYC Taxi Trip Dataset. This dataset contains information about the taxi trips that took place in different parts of New York City and how much time did that trip take to complete.\n",
    "#### In this project, the following are the tasks you have to complete and submit in a .zip file:\n",
    "1. Build a K-Nearest neighbours model for the given dataset and find the best value of K.\n",
    "2. Build a Linear model for the given dataset with regularisation.\n",
    "3. Build a Random Forest model for the given dataset.\n",
    "4. Build a Gradient Boosting model for the given dataset.\n",
    "5. Combine all the models above using the averaging technique to generate the final predictions."
   ]
  },
  {
   "cell_type": "code",
   "execution_count": 1,
   "id": "2083fc47",
   "metadata": {},
   "outputs": [],
   "source": [
    "# Importing libraries\n",
    "\n",
    "import pandas as pd\n",
    "import numpy as np\n",
    "import matplotlib.pyplot as plt\n",
    "%matplotlib inline\n",
    "import seaborn as sns\n",
    "import warnings\n",
    "warnings.filterwarnings('ignore')"
   ]
  },
  {
   "cell_type": "code",
   "execution_count": 2,
   "id": "7d7af8ff",
   "metadata": {},
   "outputs": [],
   "source": [
    "# Reading the dataset\n",
    "data = pd.read_csv('nyc_taxi_trip_duration Dataset.csv')"
   ]
  },
  {
   "cell_type": "code",
   "execution_count": 3,
   "id": "2214c3f2",
   "metadata": {},
   "outputs": [
    {
     "data": {
      "text/plain": [
       "(729322, 11)"
      ]
     },
     "execution_count": 3,
     "metadata": {},
     "output_type": "execute_result"
    }
   ],
   "source": [
    "# Checking the shape of data\n",
    "data.shape"
   ]
  },
  {
   "cell_type": "code",
   "execution_count": 4,
   "id": "d91e3b29",
   "metadata": {},
   "outputs": [
    {
     "data": {
      "text/html": [
       "<div>\n",
       "<style scoped>\n",
       "    .dataframe tbody tr th:only-of-type {\n",
       "        vertical-align: middle;\n",
       "    }\n",
       "\n",
       "    .dataframe tbody tr th {\n",
       "        vertical-align: top;\n",
       "    }\n",
       "\n",
       "    .dataframe thead th {\n",
       "        text-align: right;\n",
       "    }\n",
       "</style>\n",
       "<table border=\"1\" class=\"dataframe\">\n",
       "  <thead>\n",
       "    <tr style=\"text-align: right;\">\n",
       "      <th></th>\n",
       "      <th>id</th>\n",
       "      <th>vendor_id</th>\n",
       "      <th>pickup_datetime</th>\n",
       "      <th>dropoff_datetime</th>\n",
       "      <th>passenger_count</th>\n",
       "      <th>pickup_longitude</th>\n",
       "      <th>pickup_latitude</th>\n",
       "      <th>dropoff_longitude</th>\n",
       "      <th>dropoff_latitude</th>\n",
       "      <th>store_and_fwd_flag</th>\n",
       "      <th>trip_duration</th>\n",
       "    </tr>\n",
       "  </thead>\n",
       "  <tbody>\n",
       "    <tr>\n",
       "      <th>0</th>\n",
       "      <td>id1080784</td>\n",
       "      <td>2</td>\n",
       "      <td>2016-02-29 16:40:21</td>\n",
       "      <td>2016-02-29 16:47:01</td>\n",
       "      <td>1</td>\n",
       "      <td>-73.953918</td>\n",
       "      <td>40.778873</td>\n",
       "      <td>-73.963875</td>\n",
       "      <td>40.771164</td>\n",
       "      <td>N</td>\n",
       "      <td>400</td>\n",
       "    </tr>\n",
       "    <tr>\n",
       "      <th>1</th>\n",
       "      <td>id0889885</td>\n",
       "      <td>1</td>\n",
       "      <td>2016-03-11 23:35:37</td>\n",
       "      <td>2016-03-11 23:53:57</td>\n",
       "      <td>2</td>\n",
       "      <td>-73.988312</td>\n",
       "      <td>40.731743</td>\n",
       "      <td>-73.994751</td>\n",
       "      <td>40.694931</td>\n",
       "      <td>N</td>\n",
       "      <td>1100</td>\n",
       "    </tr>\n",
       "    <tr>\n",
       "      <th>2</th>\n",
       "      <td>id0857912</td>\n",
       "      <td>2</td>\n",
       "      <td>2016-02-21 17:59:33</td>\n",
       "      <td>2016-02-21 18:26:48</td>\n",
       "      <td>2</td>\n",
       "      <td>-73.997314</td>\n",
       "      <td>40.721458</td>\n",
       "      <td>-73.948029</td>\n",
       "      <td>40.774918</td>\n",
       "      <td>N</td>\n",
       "      <td>1635</td>\n",
       "    </tr>\n",
       "    <tr>\n",
       "      <th>3</th>\n",
       "      <td>id3744273</td>\n",
       "      <td>2</td>\n",
       "      <td>2016-01-05 09:44:31</td>\n",
       "      <td>2016-01-05 10:03:32</td>\n",
       "      <td>6</td>\n",
       "      <td>-73.961670</td>\n",
       "      <td>40.759720</td>\n",
       "      <td>-73.956779</td>\n",
       "      <td>40.780628</td>\n",
       "      <td>N</td>\n",
       "      <td>1141</td>\n",
       "    </tr>\n",
       "    <tr>\n",
       "      <th>4</th>\n",
       "      <td>id0232939</td>\n",
       "      <td>1</td>\n",
       "      <td>2016-02-17 06:42:23</td>\n",
       "      <td>2016-02-17 06:56:31</td>\n",
       "      <td>1</td>\n",
       "      <td>-74.017120</td>\n",
       "      <td>40.708469</td>\n",
       "      <td>-73.988182</td>\n",
       "      <td>40.740631</td>\n",
       "      <td>N</td>\n",
       "      <td>848</td>\n",
       "    </tr>\n",
       "  </tbody>\n",
       "</table>\n",
       "</div>"
      ],
      "text/plain": [
       "          id  vendor_id      pickup_datetime     dropoff_datetime  \\\n",
       "0  id1080784          2  2016-02-29 16:40:21  2016-02-29 16:47:01   \n",
       "1  id0889885          1  2016-03-11 23:35:37  2016-03-11 23:53:57   \n",
       "2  id0857912          2  2016-02-21 17:59:33  2016-02-21 18:26:48   \n",
       "3  id3744273          2  2016-01-05 09:44:31  2016-01-05 10:03:32   \n",
       "4  id0232939          1  2016-02-17 06:42:23  2016-02-17 06:56:31   \n",
       "\n",
       "   passenger_count  pickup_longitude  pickup_latitude  dropoff_longitude  \\\n",
       "0                1        -73.953918        40.778873         -73.963875   \n",
       "1                2        -73.988312        40.731743         -73.994751   \n",
       "2                2        -73.997314        40.721458         -73.948029   \n",
       "3                6        -73.961670        40.759720         -73.956779   \n",
       "4                1        -74.017120        40.708469         -73.988182   \n",
       "\n",
       "   dropoff_latitude store_and_fwd_flag  trip_duration  \n",
       "0         40.771164                  N            400  \n",
       "1         40.694931                  N           1100  \n",
       "2         40.774918                  N           1635  \n",
       "3         40.780628                  N           1141  \n",
       "4         40.740631                  N            848  "
      ]
     },
     "execution_count": 4,
     "metadata": {},
     "output_type": "execute_result"
    }
   ],
   "source": [
    "# Reading top five lines of the data\n",
    "data.head()"
   ]
  },
  {
   "cell_type": "markdown",
   "id": "050cfc30",
   "metadata": {},
   "source": [
    "### Data Preprocessing"
   ]
  },
  {
   "cell_type": "code",
   "execution_count": 5,
   "id": "b89952a4",
   "metadata": {},
   "outputs": [
    {
     "data": {
      "text/plain": [
       "id                    0\n",
       "vendor_id             0\n",
       "pickup_datetime       0\n",
       "dropoff_datetime      0\n",
       "passenger_count       0\n",
       "pickup_longitude      0\n",
       "pickup_latitude       0\n",
       "dropoff_longitude     0\n",
       "dropoff_latitude      0\n",
       "store_and_fwd_flag    0\n",
       "trip_duration         0\n",
       "dtype: int64"
      ]
     },
     "execution_count": 5,
     "metadata": {},
     "output_type": "execute_result"
    }
   ],
   "source": [
    "# Checking if there is any missing value\n",
    "data.isnull().sum()"
   ]
  },
  {
   "cell_type": "code",
   "execution_count": 6,
   "id": "af317e81",
   "metadata": {
    "scrolled": true
   },
   "outputs": [
    {
     "data": {
      "text/plain": [
       "id                     object\n",
       "vendor_id               int64\n",
       "pickup_datetime        object\n",
       "dropoff_datetime       object\n",
       "passenger_count         int64\n",
       "pickup_longitude      float64\n",
       "pickup_latitude       float64\n",
       "dropoff_longitude     float64\n",
       "dropoff_latitude      float64\n",
       "store_and_fwd_flag     object\n",
       "trip_duration           int64\n",
       "dtype: object"
      ]
     },
     "execution_count": 6,
     "metadata": {},
     "output_type": "execute_result"
    }
   ],
   "source": [
    "# Checking the type of each feature of dataset\n",
    "data.dtypes"
   ]
  },
  {
   "cell_type": "code",
   "execution_count": 7,
   "id": "2d00c387",
   "metadata": {},
   "outputs": [],
   "source": [
    "# Converting data types\n",
    "data['vendor_id'] = data['vendor_id'].astype('category')\n",
    "data['store_and_fwd_flag'] = data['store_and_fwd_flag'].astype('category')"
   ]
  },
  {
   "cell_type": "code",
   "execution_count": 8,
   "id": "6a9284e1",
   "metadata": {},
   "outputs": [],
   "source": [
    "# converting strings to datetime features\n",
    "\n",
    "data['pickup_datetime'] = pd.to_datetime(data.pickup_datetime)\n",
    "data['dropoff_datetime'] = pd.to_datetime(data.dropoff_datetime)"
   ]
  },
  {
   "cell_type": "code",
   "execution_count": 9,
   "id": "0a9db674",
   "metadata": {},
   "outputs": [],
   "source": [
    "# Extracting Weekday and Hour from the datetime feature\n",
    "data['day_of_week'] = data['pickup_datetime'].dt.weekday\n",
    "data['hour_of_day'] = data['pickup_datetime'].dt.hour"
   ]
  },
  {
   "cell_type": "code",
   "execution_count": 10,
   "id": "bac0e341",
   "metadata": {},
   "outputs": [],
   "source": [
    "# Dropping the id, pickup_datetime and dropoff_datetime feature\n",
    "data = data.drop(['pickup_datetime', 'dropoff_datetime', 'id'], axis = 1)"
   ]
  },
  {
   "cell_type": "code",
   "execution_count": 11,
   "id": "c66ffd99",
   "metadata": {
    "scrolled": true
   },
   "outputs": [
    {
     "data": {
      "text/html": [
       "<div>\n",
       "<style scoped>\n",
       "    .dataframe tbody tr th:only-of-type {\n",
       "        vertical-align: middle;\n",
       "    }\n",
       "\n",
       "    .dataframe tbody tr th {\n",
       "        vertical-align: top;\n",
       "    }\n",
       "\n",
       "    .dataframe thead th {\n",
       "        text-align: right;\n",
       "    }\n",
       "</style>\n",
       "<table border=\"1\" class=\"dataframe\">\n",
       "  <thead>\n",
       "    <tr style=\"text-align: right;\">\n",
       "      <th></th>\n",
       "      <th>vendor_id</th>\n",
       "      <th>passenger_count</th>\n",
       "      <th>pickup_longitude</th>\n",
       "      <th>pickup_latitude</th>\n",
       "      <th>dropoff_longitude</th>\n",
       "      <th>dropoff_latitude</th>\n",
       "      <th>store_and_fwd_flag</th>\n",
       "      <th>trip_duration</th>\n",
       "      <th>day_of_week</th>\n",
       "      <th>hour_of_day</th>\n",
       "    </tr>\n",
       "  </thead>\n",
       "  <tbody>\n",
       "    <tr>\n",
       "      <th>0</th>\n",
       "      <td>2</td>\n",
       "      <td>1</td>\n",
       "      <td>-73.953918</td>\n",
       "      <td>40.778873</td>\n",
       "      <td>-73.963875</td>\n",
       "      <td>40.771164</td>\n",
       "      <td>N</td>\n",
       "      <td>400</td>\n",
       "      <td>0</td>\n",
       "      <td>16</td>\n",
       "    </tr>\n",
       "    <tr>\n",
       "      <th>1</th>\n",
       "      <td>1</td>\n",
       "      <td>2</td>\n",
       "      <td>-73.988312</td>\n",
       "      <td>40.731743</td>\n",
       "      <td>-73.994751</td>\n",
       "      <td>40.694931</td>\n",
       "      <td>N</td>\n",
       "      <td>1100</td>\n",
       "      <td>4</td>\n",
       "      <td>23</td>\n",
       "    </tr>\n",
       "    <tr>\n",
       "      <th>2</th>\n",
       "      <td>2</td>\n",
       "      <td>2</td>\n",
       "      <td>-73.997314</td>\n",
       "      <td>40.721458</td>\n",
       "      <td>-73.948029</td>\n",
       "      <td>40.774918</td>\n",
       "      <td>N</td>\n",
       "      <td>1635</td>\n",
       "      <td>6</td>\n",
       "      <td>17</td>\n",
       "    </tr>\n",
       "    <tr>\n",
       "      <th>3</th>\n",
       "      <td>2</td>\n",
       "      <td>6</td>\n",
       "      <td>-73.961670</td>\n",
       "      <td>40.759720</td>\n",
       "      <td>-73.956779</td>\n",
       "      <td>40.780628</td>\n",
       "      <td>N</td>\n",
       "      <td>1141</td>\n",
       "      <td>1</td>\n",
       "      <td>9</td>\n",
       "    </tr>\n",
       "    <tr>\n",
       "      <th>4</th>\n",
       "      <td>1</td>\n",
       "      <td>1</td>\n",
       "      <td>-74.017120</td>\n",
       "      <td>40.708469</td>\n",
       "      <td>-73.988182</td>\n",
       "      <td>40.740631</td>\n",
       "      <td>N</td>\n",
       "      <td>848</td>\n",
       "      <td>2</td>\n",
       "      <td>6</td>\n",
       "    </tr>\n",
       "  </tbody>\n",
       "</table>\n",
       "</div>"
      ],
      "text/plain": [
       "  vendor_id  passenger_count  pickup_longitude  pickup_latitude  \\\n",
       "0         2                1        -73.953918        40.778873   \n",
       "1         1                2        -73.988312        40.731743   \n",
       "2         2                2        -73.997314        40.721458   \n",
       "3         2                6        -73.961670        40.759720   \n",
       "4         1                1        -74.017120        40.708469   \n",
       "\n",
       "   dropoff_longitude  dropoff_latitude store_and_fwd_flag  trip_duration  \\\n",
       "0         -73.963875         40.771164                  N            400   \n",
       "1         -73.994751         40.694931                  N           1100   \n",
       "2         -73.948029         40.774918                  N           1635   \n",
       "3         -73.956779         40.780628                  N           1141   \n",
       "4         -73.988182         40.740631                  N            848   \n",
       "\n",
       "   day_of_week  hour_of_day  \n",
       "0            0           16  \n",
       "1            4           23  \n",
       "2            6           17  \n",
       "3            1            9  \n",
       "4            2            6  "
      ]
     },
     "execution_count": 11,
     "metadata": {},
     "output_type": "execute_result"
    }
   ],
   "source": [
    "# Checking the dataframe\n",
    "data.head()"
   ]
  },
  {
   "cell_type": "code",
   "execution_count": 12,
   "id": "060fc65c",
   "metadata": {},
   "outputs": [],
   "source": [
    "# Importing the library which lets us calculate distance from geographical coordinates\n",
    "from geopy.distance import great_circle"
   ]
  },
  {
   "cell_type": "code",
   "execution_count": 13,
   "id": "3bf3e34d",
   "metadata": {},
   "outputs": [],
   "source": [
    "# Defining a function to take coordinates as inputs and return us distance\n",
    "def cal_distance(pickup_lat,pickup_long,dropoff_lat,dropoff_long):\n",
    "    start_coordinates=(pickup_lat,pickup_long)\n",
    "    stop_coordinates=(dropoff_lat,dropoff_long)\n",
    "    return great_circle(start_coordinates,stop_coordinates).km"
   ]
  },
  {
   "cell_type": "code",
   "execution_count": 14,
   "id": "2893059c",
   "metadata": {},
   "outputs": [],
   "source": [
    "# Applying the function to our dataset and creating the feature ‘distance’.\n",
    "data['distance'] = data.apply(lambda x: cal_distance(x['pickup_latitude'],x['pickup_longitude'],\n",
    "                                                     x['dropoff_latitude'],x['dropoff_longitude']), axis=1)"
   ]
  },
  {
   "cell_type": "code",
   "execution_count": 15,
   "id": "9f9b8ccd",
   "metadata": {},
   "outputs": [
    {
     "data": {
      "text/html": [
       "<div>\n",
       "<style scoped>\n",
       "    .dataframe tbody tr th:only-of-type {\n",
       "        vertical-align: middle;\n",
       "    }\n",
       "\n",
       "    .dataframe tbody tr th {\n",
       "        vertical-align: top;\n",
       "    }\n",
       "\n",
       "    .dataframe thead th {\n",
       "        text-align: right;\n",
       "    }\n",
       "</style>\n",
       "<table border=\"1\" class=\"dataframe\">\n",
       "  <thead>\n",
       "    <tr style=\"text-align: right;\">\n",
       "      <th></th>\n",
       "      <th>vendor_id</th>\n",
       "      <th>passenger_count</th>\n",
       "      <th>pickup_longitude</th>\n",
       "      <th>pickup_latitude</th>\n",
       "      <th>dropoff_longitude</th>\n",
       "      <th>dropoff_latitude</th>\n",
       "      <th>store_and_fwd_flag</th>\n",
       "      <th>trip_duration</th>\n",
       "      <th>day_of_week</th>\n",
       "      <th>hour_of_day</th>\n",
       "      <th>distance</th>\n",
       "    </tr>\n",
       "  </thead>\n",
       "  <tbody>\n",
       "    <tr>\n",
       "      <th>0</th>\n",
       "      <td>2</td>\n",
       "      <td>1</td>\n",
       "      <td>-73.953918</td>\n",
       "      <td>40.778873</td>\n",
       "      <td>-73.963875</td>\n",
       "      <td>40.771164</td>\n",
       "      <td>N</td>\n",
       "      <td>400</td>\n",
       "      <td>0</td>\n",
       "      <td>16</td>\n",
       "      <td>1.199074</td>\n",
       "    </tr>\n",
       "    <tr>\n",
       "      <th>1</th>\n",
       "      <td>1</td>\n",
       "      <td>2</td>\n",
       "      <td>-73.988312</td>\n",
       "      <td>40.731743</td>\n",
       "      <td>-73.994751</td>\n",
       "      <td>40.694931</td>\n",
       "      <td>N</td>\n",
       "      <td>1100</td>\n",
       "      <td>4</td>\n",
       "      <td>23</td>\n",
       "      <td>4.129117</td>\n",
       "    </tr>\n",
       "    <tr>\n",
       "      <th>2</th>\n",
       "      <td>2</td>\n",
       "      <td>2</td>\n",
       "      <td>-73.997314</td>\n",
       "      <td>40.721458</td>\n",
       "      <td>-73.948029</td>\n",
       "      <td>40.774918</td>\n",
       "      <td>N</td>\n",
       "      <td>1635</td>\n",
       "      <td>6</td>\n",
       "      <td>17</td>\n",
       "      <td>7.250763</td>\n",
       "    </tr>\n",
       "    <tr>\n",
       "      <th>3</th>\n",
       "      <td>2</td>\n",
       "      <td>6</td>\n",
       "      <td>-73.961670</td>\n",
       "      <td>40.759720</td>\n",
       "      <td>-73.956779</td>\n",
       "      <td>40.780628</td>\n",
       "      <td>N</td>\n",
       "      <td>1141</td>\n",
       "      <td>1</td>\n",
       "      <td>9</td>\n",
       "      <td>2.361101</td>\n",
       "    </tr>\n",
       "    <tr>\n",
       "      <th>4</th>\n",
       "      <td>1</td>\n",
       "      <td>1</td>\n",
       "      <td>-74.017120</td>\n",
       "      <td>40.708469</td>\n",
       "      <td>-73.988182</td>\n",
       "      <td>40.740631</td>\n",
       "      <td>N</td>\n",
       "      <td>848</td>\n",
       "      <td>2</td>\n",
       "      <td>6</td>\n",
       "      <td>4.328540</td>\n",
       "    </tr>\n",
       "  </tbody>\n",
       "</table>\n",
       "</div>"
      ],
      "text/plain": [
       "  vendor_id  passenger_count  pickup_longitude  pickup_latitude  \\\n",
       "0         2                1        -73.953918        40.778873   \n",
       "1         1                2        -73.988312        40.731743   \n",
       "2         2                2        -73.997314        40.721458   \n",
       "3         2                6        -73.961670        40.759720   \n",
       "4         1                1        -74.017120        40.708469   \n",
       "\n",
       "   dropoff_longitude  dropoff_latitude store_and_fwd_flag  trip_duration  \\\n",
       "0         -73.963875         40.771164                  N            400   \n",
       "1         -73.994751         40.694931                  N           1100   \n",
       "2         -73.948029         40.774918                  N           1635   \n",
       "3         -73.956779         40.780628                  N           1141   \n",
       "4         -73.988182         40.740631                  N            848   \n",
       "\n",
       "   day_of_week  hour_of_day  distance  \n",
       "0            0           16  1.199074  \n",
       "1            4           23  4.129117  \n",
       "2            6           17  7.250763  \n",
       "3            1            9  2.361101  \n",
       "4            2            6  4.328540  "
      ]
     },
     "execution_count": 15,
     "metadata": {},
     "output_type": "execute_result"
    }
   ],
   "source": [
    "data.head()"
   ]
  },
  {
   "cell_type": "code",
   "execution_count": 16,
   "id": "62c555e3",
   "metadata": {},
   "outputs": [],
   "source": [
    "# Importing Label Encoder for converting the categorical values to numeric value\n",
    "from sklearn.preprocessing import LabelEncoder"
   ]
  },
  {
   "cell_type": "code",
   "execution_count": 17,
   "id": "7320aef6",
   "metadata": {},
   "outputs": [],
   "source": [
    "# Transforming each feature\n",
    "le = LabelEncoder()\n",
    "data['vendor_id'] = le.fit_transform(data['vendor_id'])\n",
    "data['store_and_fwd_flag'] = le.fit_transform(data['store_and_fwd_flag'])"
   ]
  },
  {
   "cell_type": "code",
   "execution_count": 18,
   "id": "d8844866",
   "metadata": {},
   "outputs": [
    {
     "data": {
      "text/html": [
       "<div>\n",
       "<style scoped>\n",
       "    .dataframe tbody tr th:only-of-type {\n",
       "        vertical-align: middle;\n",
       "    }\n",
       "\n",
       "    .dataframe tbody tr th {\n",
       "        vertical-align: top;\n",
       "    }\n",
       "\n",
       "    .dataframe thead th {\n",
       "        text-align: right;\n",
       "    }\n",
       "</style>\n",
       "<table border=\"1\" class=\"dataframe\">\n",
       "  <thead>\n",
       "    <tr style=\"text-align: right;\">\n",
       "      <th></th>\n",
       "      <th>vendor_id</th>\n",
       "      <th>passenger_count</th>\n",
       "      <th>pickup_longitude</th>\n",
       "      <th>pickup_latitude</th>\n",
       "      <th>dropoff_longitude</th>\n",
       "      <th>dropoff_latitude</th>\n",
       "      <th>store_and_fwd_flag</th>\n",
       "      <th>trip_duration</th>\n",
       "      <th>day_of_week</th>\n",
       "      <th>hour_of_day</th>\n",
       "      <th>distance</th>\n",
       "    </tr>\n",
       "  </thead>\n",
       "  <tbody>\n",
       "    <tr>\n",
       "      <th>0</th>\n",
       "      <td>1</td>\n",
       "      <td>1</td>\n",
       "      <td>-73.953918</td>\n",
       "      <td>40.778873</td>\n",
       "      <td>-73.963875</td>\n",
       "      <td>40.771164</td>\n",
       "      <td>0</td>\n",
       "      <td>400</td>\n",
       "      <td>0</td>\n",
       "      <td>16</td>\n",
       "      <td>1.199074</td>\n",
       "    </tr>\n",
       "    <tr>\n",
       "      <th>1</th>\n",
       "      <td>0</td>\n",
       "      <td>2</td>\n",
       "      <td>-73.988312</td>\n",
       "      <td>40.731743</td>\n",
       "      <td>-73.994751</td>\n",
       "      <td>40.694931</td>\n",
       "      <td>0</td>\n",
       "      <td>1100</td>\n",
       "      <td>4</td>\n",
       "      <td>23</td>\n",
       "      <td>4.129117</td>\n",
       "    </tr>\n",
       "    <tr>\n",
       "      <th>2</th>\n",
       "      <td>1</td>\n",
       "      <td>2</td>\n",
       "      <td>-73.997314</td>\n",
       "      <td>40.721458</td>\n",
       "      <td>-73.948029</td>\n",
       "      <td>40.774918</td>\n",
       "      <td>0</td>\n",
       "      <td>1635</td>\n",
       "      <td>6</td>\n",
       "      <td>17</td>\n",
       "      <td>7.250763</td>\n",
       "    </tr>\n",
       "    <tr>\n",
       "      <th>3</th>\n",
       "      <td>1</td>\n",
       "      <td>6</td>\n",
       "      <td>-73.961670</td>\n",
       "      <td>40.759720</td>\n",
       "      <td>-73.956779</td>\n",
       "      <td>40.780628</td>\n",
       "      <td>0</td>\n",
       "      <td>1141</td>\n",
       "      <td>1</td>\n",
       "      <td>9</td>\n",
       "      <td>2.361101</td>\n",
       "    </tr>\n",
       "    <tr>\n",
       "      <th>4</th>\n",
       "      <td>0</td>\n",
       "      <td>1</td>\n",
       "      <td>-74.017120</td>\n",
       "      <td>40.708469</td>\n",
       "      <td>-73.988182</td>\n",
       "      <td>40.740631</td>\n",
       "      <td>0</td>\n",
       "      <td>848</td>\n",
       "      <td>2</td>\n",
       "      <td>6</td>\n",
       "      <td>4.328540</td>\n",
       "    </tr>\n",
       "  </tbody>\n",
       "</table>\n",
       "</div>"
      ],
      "text/plain": [
       "   vendor_id  passenger_count  pickup_longitude  pickup_latitude  \\\n",
       "0          1                1        -73.953918        40.778873   \n",
       "1          0                2        -73.988312        40.731743   \n",
       "2          1                2        -73.997314        40.721458   \n",
       "3          1                6        -73.961670        40.759720   \n",
       "4          0                1        -74.017120        40.708469   \n",
       "\n",
       "   dropoff_longitude  dropoff_latitude  store_and_fwd_flag  trip_duration  \\\n",
       "0         -73.963875         40.771164                   0            400   \n",
       "1         -73.994751         40.694931                   0           1100   \n",
       "2         -73.948029         40.774918                   0           1635   \n",
       "3         -73.956779         40.780628                   0           1141   \n",
       "4         -73.988182         40.740631                   0            848   \n",
       "\n",
       "   day_of_week  hour_of_day  distance  \n",
       "0            0           16  1.199074  \n",
       "1            4           23  4.129117  \n",
       "2            6           17  7.250763  \n",
       "3            1            9  2.361101  \n",
       "4            2            6  4.328540  "
      ]
     },
     "execution_count": 18,
     "metadata": {},
     "output_type": "execute_result"
    }
   ],
   "source": [
    "data.head()"
   ]
  },
  {
   "cell_type": "markdown",
   "id": "614bc5e4",
   "metadata": {},
   "source": [
    "### Outlier Detection and Removal"
   ]
  },
  {
   "cell_type": "markdown",
   "id": "12741b3d",
   "metadata": {},
   "source": [
    "##### a. trip_duration"
   ]
  },
  {
   "cell_type": "code",
   "execution_count": 19,
   "id": "47553c5c",
   "metadata": {
    "scrolled": true
   },
   "outputs": [
    {
     "data": {
      "image/png": "[encoded data removed]",
      "text/plain": [
       "<Figure size 432x288 with 1 Axes>"
      ]
     },
     "metadata": {
      "needs_background": "light"
     },
     "output_type": "display_data"
    }
   ],
   "source": [
    "# Plotting the boxplot of trip_duration\n",
    "sns.boxplot(data['trip_duration'])\n",
    "plt.show()"
   ]
  },
  {
   "cell_type": "markdown",
   "id": "989d7540",
   "metadata": {},
   "source": [
    "As we can not visualize the boxplot due to huge outlier, we'll log transform it to visualize it better."
   ]
  },
  {
   "cell_type": "code",
   "execution_count": 20,
   "id": "56c96388",
   "metadata": {},
   "outputs": [],
   "source": [
    "# taking log for better visualization\n",
    "data['log_trip_duration'] = np.log(data['trip_duration'].values + 1)"
   ]
  },
  {
   "cell_type": "code",
   "execution_count": 21,
   "id": "e7d89891",
   "metadata": {},
   "outputs": [
    {
     "data": {
      "image/png": "[encoded data removed]",
      "text/plain": [
       "<Figure size 432x288 with 1 Axes>"
      ]
     },
     "metadata": {
      "needs_background": "light"
     },
     "output_type": "display_data"
    }
   ],
   "source": [
    "# Plotting the variable\n",
    "sns.boxplot(data['log_trip_duration'])\n",
    "plt.show()"
   ]
  },
  {
   "cell_type": "code",
   "execution_count": 22,
   "id": "db46754b",
   "metadata": {},
   "outputs": [],
   "source": [
    "# Selecting the range of log_trip_duration between 4.53 and 8.45 for outlier removal\n",
    "data = data.loc[(data.log_trip_duration > 4.53) & (data.log_trip_duration < 8.45)]"
   ]
  },
  {
   "cell_type": "code",
   "execution_count": 23,
   "id": "35b6a55a",
   "metadata": {
    "scrolled": true
   },
   "outputs": [
    {
     "data": {
      "image/png": "[encoded data removed]",
      "text/plain": [
       "<Figure size 432x288 with 1 Axes>"
      ]
     },
     "metadata": {
      "needs_background": "light"
     },
     "output_type": "display_data"
    }
   ],
   "source": [
    "# Plotting the variable\n",
    "sns.boxplot(data['log_trip_duration'])\n",
    "plt.show()"
   ]
  },
  {
   "cell_type": "markdown",
   "id": "2c2c426c",
   "metadata": {},
   "source": [
    "##### b. pickup_latitude, pickup_longitude, dropoff_latitude & dropoff_longitude"
   ]
  },
  {
   "cell_type": "code",
   "execution_count": 24,
   "id": "5a524c2b",
   "metadata": {},
   "outputs": [
    {
     "data": {
      "image/png": "[encoded data removed]",
      "text/plain": [
       "<Figure size 720x720 with 4 Axes>"
      ]
     },
     "metadata": {},
     "output_type": "display_data"
    }
   ],
   "source": [
    "# Analysing Longitudes and Latitudes of the trips.\n",
    "\n",
    "sns.set(style=\"white\", palette=\"muted\", color_codes=True)\n",
    "f, axes = plt.subplots(2,2,figsize=(10, 10), sharex=False, sharey = False)\n",
    "sns.despine(left=True)\n",
    "sns.distplot(data['pickup_latitude'].values, label = 'pickup_latitude', color=\"b\", bins = 100, ax=axes[0,0])\n",
    "sns.distplot(data['pickup_longitude'].values, label = 'pickup_longitude', color=\"r\", bins =100, ax=axes[1,0])\n",
    "sns.distplot(data['dropoff_latitude'].values, label = 'dropoff_latitude', color=\"b\", bins =100, ax=axes[0,1])\n",
    "sns.distplot(data['dropoff_longitude'].values, label = 'dropoff_longitude', color=\"r\", bins =100, ax=axes[1,1])\n",
    "plt.setp(axes, yticks=[])\n",
    "plt.tight_layout()\n",
    "plt.show()"
   ]
  },
  {
   "cell_type": "code",
   "execution_count": 25,
   "id": "4b927fbb",
   "metadata": {},
   "outputs": [],
   "source": [
    "# Removing Outliers\n",
    "\n",
    "data = data.loc[(data.pickup_latitude > 40.6) & (data.pickup_latitude < 40.9)]\n",
    "data = data.loc[(data.dropoff_latitude>40.6) & (data.dropoff_latitude < 40.9)]\n",
    "data = data.loc[(data.dropoff_longitude > -74.05) & (data.dropoff_longitude < -73.7)]\n",
    "data = data.loc[(data.pickup_longitude > -74.05) & (data.pickup_longitude < -73.7)]"
   ]
  },
  {
   "cell_type": "code",
   "execution_count": 26,
   "id": "786e714f",
   "metadata": {
    "scrolled": false
   },
   "outputs": [
    {
     "data": {
      "image/png": "[encoded data removed]",
      "text/plain": [
       "<Figure size 720x720 with 4 Axes>"
      ]
     },
     "metadata": {},
     "output_type": "display_data"
    }
   ],
   "source": [
    "# Visualisation after removing outliers\n",
    "\n",
    "sns.set(style=\"white\", palette=\"muted\", color_codes=True)\n",
    "f, axes = plt.subplots(2,2,figsize=(10, 10), sharex=False, sharey = False)\n",
    "sns.despine(left=True)\n",
    "sns.distplot(data['pickup_latitude'].values, label = 'pickup_latitude',color=\"b\",bins = 100, ax=axes[0, 0])\n",
    "sns.distplot(data['pickup_longitude'].values, label = 'pickup_longitude',color=\"r\",bins =100, ax=axes[1, 0])\n",
    "sns.distplot(data['dropoff_latitude'].values, label = 'dropoff_latitude',color=\"b\",bins =100, ax=axes[0, 1])\n",
    "sns.distplot(data['dropoff_longitude'].values, label = 'dropoff_longitude',color=\"r\",bins =100, ax=axes[1, 1])\n",
    "plt.setp(axes, yticks=[])\n",
    "plt.tight_layout()\n",
    "plt.show()"
   ]
  },
  {
   "cell_type": "code",
   "execution_count": 27,
   "id": "08555ef9",
   "metadata": {},
   "outputs": [],
   "source": [
    "# Dropping the log_trip_duration, dropoff_longitude and dropoff_latitude, as only pickup points are more important to find out\n",
    "# the locality with higher trips.\n",
    "\n",
    "data = data.drop(['log_trip_duration', 'dropoff_longitude', 'dropoff_latitude'], axis = 1)"
   ]
  },
  {
   "cell_type": "markdown",
   "id": "4f059329",
   "metadata": {},
   "source": [
    "---\n",
    "\n",
    "### Q1. Build a K-Nearest neighbours model for the given dataset and find the best value of K."
   ]
  },
  {
   "cell_type": "code",
   "execution_count": 28,
   "id": "6e3e105b",
   "metadata": {
    "scrolled": true
   },
   "outputs": [
    {
     "data": {
      "text/html": [
       "<div>\n",
       "<style scoped>\n",
       "    .dataframe tbody tr th:only-of-type {\n",
       "        vertical-align: middle;\n",
       "    }\n",
       "\n",
       "    .dataframe tbody tr th {\n",
       "        vertical-align: top;\n",
       "    }\n",
       "\n",
       "    .dataframe thead th {\n",
       "        text-align: right;\n",
       "    }\n",
       "</style>\n",
       "<table border=\"1\" class=\"dataframe\">\n",
       "  <thead>\n",
       "    <tr style=\"text-align: right;\">\n",
       "      <th></th>\n",
       "      <th>vendor_id</th>\n",
       "      <th>passenger_count</th>\n",
       "      <th>pickup_longitude</th>\n",
       "      <th>pickup_latitude</th>\n",
       "      <th>store_and_fwd_flag</th>\n",
       "      <th>trip_duration</th>\n",
       "      <th>day_of_week</th>\n",
       "      <th>hour_of_day</th>\n",
       "      <th>distance</th>\n",
       "    </tr>\n",
       "  </thead>\n",
       "  <tbody>\n",
       "    <tr>\n",
       "      <th>0</th>\n",
       "      <td>1</td>\n",
       "      <td>1</td>\n",
       "      <td>-73.953918</td>\n",
       "      <td>40.778873</td>\n",
       "      <td>0</td>\n",
       "      <td>400</td>\n",
       "      <td>0</td>\n",
       "      <td>16</td>\n",
       "      <td>1.199074</td>\n",
       "    </tr>\n",
       "    <tr>\n",
       "      <th>1</th>\n",
       "      <td>0</td>\n",
       "      <td>2</td>\n",
       "      <td>-73.988312</td>\n",
       "      <td>40.731743</td>\n",
       "      <td>0</td>\n",
       "      <td>1100</td>\n",
       "      <td>4</td>\n",
       "      <td>23</td>\n",
       "      <td>4.129117</td>\n",
       "    </tr>\n",
       "    <tr>\n",
       "      <th>2</th>\n",
       "      <td>1</td>\n",
       "      <td>2</td>\n",
       "      <td>-73.997314</td>\n",
       "      <td>40.721458</td>\n",
       "      <td>0</td>\n",
       "      <td>1635</td>\n",
       "      <td>6</td>\n",
       "      <td>17</td>\n",
       "      <td>7.250763</td>\n",
       "    </tr>\n",
       "    <tr>\n",
       "      <th>3</th>\n",
       "      <td>1</td>\n",
       "      <td>6</td>\n",
       "      <td>-73.961670</td>\n",
       "      <td>40.759720</td>\n",
       "      <td>0</td>\n",
       "      <td>1141</td>\n",
       "      <td>1</td>\n",
       "      <td>9</td>\n",
       "      <td>2.361101</td>\n",
       "    </tr>\n",
       "    <tr>\n",
       "      <th>4</th>\n",
       "      <td>0</td>\n",
       "      <td>1</td>\n",
       "      <td>-74.017120</td>\n",
       "      <td>40.708469</td>\n",
       "      <td>0</td>\n",
       "      <td>848</td>\n",
       "      <td>2</td>\n",
       "      <td>6</td>\n",
       "      <td>4.328540</td>\n",
       "    </tr>\n",
       "  </tbody>\n",
       "</table>\n",
       "</div>"
      ],
      "text/plain": [
       "   vendor_id  passenger_count  pickup_longitude  pickup_latitude  \\\n",
       "0          1                1        -73.953918        40.778873   \n",
       "1          0                2        -73.988312        40.731743   \n",
       "2          1                2        -73.997314        40.721458   \n",
       "3          1                6        -73.961670        40.759720   \n",
       "4          0                1        -74.017120        40.708469   \n",
       "\n",
       "   store_and_fwd_flag  trip_duration  day_of_week  hour_of_day  distance  \n",
       "0                   0            400            0           16  1.199074  \n",
       "1                   0           1100            4           23  4.129117  \n",
       "2                   0           1635            6           17  7.250763  \n",
       "3                   0           1141            1            9  2.361101  \n",
       "4                   0            848            2            6  4.328540  "
      ]
     },
     "execution_count": 28,
     "metadata": {},
     "output_type": "execute_result"
    }
   ],
   "source": [
    "# Reading the dataframe\n",
    "data.head()"
   ]
  },
  {
   "cell_type": "markdown",
   "id": "75e5cd77",
   "metadata": {},
   "source": [
    "### Segregating variables: Independent and Dependent Variables"
   ]
  },
  {
   "cell_type": "code",
   "execution_count": 29,
   "id": "392ba4ac",
   "metadata": {},
   "outputs": [
    {
     "data": {
      "text/plain": [
       "((716140, 8), (716140,))"
      ]
     },
     "execution_count": 29,
     "metadata": {},
     "output_type": "execute_result"
    }
   ],
   "source": [
    "#seperating independent and dependent variables\n",
    "\n",
    "#features\n",
    "x = data.drop(['trip_duration'], axis=1)\n",
    "\n",
    "#target\n",
    "y = data['trip_duration']\n",
    "\n",
    "x.shape, y.shape"
   ]
  },
  {
   "cell_type": "markdown",
   "id": "5132ad92",
   "metadata": {},
   "source": [
    "### Scaling the data (Using MinMax Scaler)"
   ]
  },
  {
   "cell_type": "code",
   "execution_count": 30,
   "id": "02ac72ba",
   "metadata": {},
   "outputs": [],
   "source": [
    "## Importing the MinMax Scaler\n",
    "from sklearn.preprocessing import MinMaxScaler\n",
    "scaler = MinMaxScaler()\n",
    "x_scaled = scaler.fit_transform(x)"
   ]
  },
  {
   "cell_type": "code",
   "execution_count": 31,
   "id": "a6352ed9",
   "metadata": {},
   "outputs": [
    {
     "data": {
      "text/html": [
       "<div>\n",
       "<style scoped>\n",
       "    .dataframe tbody tr th:only-of-type {\n",
       "        vertical-align: middle;\n",
       "    }\n",
       "\n",
       "    .dataframe tbody tr th {\n",
       "        vertical-align: top;\n",
       "    }\n",
       "\n",
       "    .dataframe thead th {\n",
       "        text-align: right;\n",
       "    }\n",
       "</style>\n",
       "<table border=\"1\" class=\"dataframe\">\n",
       "  <thead>\n",
       "    <tr style=\"text-align: right;\">\n",
       "      <th></th>\n",
       "      <th>vendor_id</th>\n",
       "      <th>passenger_count</th>\n",
       "      <th>pickup_longitude</th>\n",
       "      <th>pickup_latitude</th>\n",
       "      <th>store_and_fwd_flag</th>\n",
       "      <th>day_of_week</th>\n",
       "      <th>hour_of_day</th>\n",
       "      <th>distance</th>\n",
       "    </tr>\n",
       "  </thead>\n",
       "  <tbody>\n",
       "    <tr>\n",
       "      <th>0</th>\n",
       "      <td>1.0</td>\n",
       "      <td>0.111111</td>\n",
       "      <td>0.282868</td>\n",
       "      <td>0.596506</td>\n",
       "      <td>0.0</td>\n",
       "      <td>0.000000</td>\n",
       "      <td>0.695652</td>\n",
       "      <td>0.036258</td>\n",
       "    </tr>\n",
       "    <tr>\n",
       "      <th>1</th>\n",
       "      <td>0.0</td>\n",
       "      <td>0.222222</td>\n",
       "      <td>0.181487</td>\n",
       "      <td>0.438738</td>\n",
       "      <td>0.0</td>\n",
       "      <td>0.666667</td>\n",
       "      <td>1.000000</td>\n",
       "      <td>0.124856</td>\n",
       "    </tr>\n",
       "    <tr>\n",
       "      <th>2</th>\n",
       "      <td>1.0</td>\n",
       "      <td>0.222222</td>\n",
       "      <td>0.154950</td>\n",
       "      <td>0.404311</td>\n",
       "      <td>0.0</td>\n",
       "      <td>1.000000</td>\n",
       "      <td>0.739130</td>\n",
       "      <td>0.219249</td>\n",
       "    </tr>\n",
       "    <tr>\n",
       "      <th>3</th>\n",
       "      <td>1.0</td>\n",
       "      <td>0.666667</td>\n",
       "      <td>0.260019</td>\n",
       "      <td>0.532390</td>\n",
       "      <td>0.0</td>\n",
       "      <td>0.166667</td>\n",
       "      <td>0.391304</td>\n",
       "      <td>0.071395</td>\n",
       "    </tr>\n",
       "    <tr>\n",
       "      <th>4</th>\n",
       "      <td>0.0</td>\n",
       "      <td>0.111111</td>\n",
       "      <td>0.096568</td>\n",
       "      <td>0.360831</td>\n",
       "      <td>0.0</td>\n",
       "      <td>0.333333</td>\n",
       "      <td>0.260870</td>\n",
       "      <td>0.130887</td>\n",
       "    </tr>\n",
       "  </tbody>\n",
       "</table>\n",
       "</div>"
      ],
      "text/plain": [
       "   vendor_id  passenger_count  pickup_longitude  pickup_latitude  \\\n",
       "0        1.0         0.111111          0.282868         0.596506   \n",
       "1        0.0         0.222222          0.181487         0.438738   \n",
       "2        1.0         0.222222          0.154950         0.404311   \n",
       "3        1.0         0.666667          0.260019         0.532390   \n",
       "4        0.0         0.111111          0.096568         0.360831   \n",
       "\n",
       "   store_and_fwd_flag  day_of_week  hour_of_day  distance  \n",
       "0                 0.0     0.000000     0.695652  0.036258  \n",
       "1                 0.0     0.666667     1.000000  0.124856  \n",
       "2                 0.0     1.000000     0.739130  0.219249  \n",
       "3                 0.0     0.166667     0.391304  0.071395  \n",
       "4                 0.0     0.333333     0.260870  0.130887  "
      ]
     },
     "execution_count": 31,
     "metadata": {},
     "output_type": "execute_result"
    }
   ],
   "source": [
    "# Creating the dataframe from scaled data and storing it in a variable\n",
    "x = pd.DataFrame(x_scaled, columns = x.columns)\n",
    "x.head()"
   ]
  },
  {
   "cell_type": "code",
   "execution_count": 32,
   "id": "651327df",
   "metadata": {},
   "outputs": [],
   "source": [
    "# Importing the train test split function\n",
    "from sklearn.model_selection import train_test_split\n",
    "train_x,test_x,train_y,test_y = train_test_split(x,y, random_state = 56)"
   ]
  },
  {
   "cell_type": "markdown",
   "id": "3a34e9c4",
   "metadata": {},
   "source": [
    "### Implementing KNN Regressor"
   ]
  },
  {
   "cell_type": "code",
   "execution_count": 33,
   "id": "3100ff57",
   "metadata": {},
   "outputs": [],
   "source": [
    "# Importing KNN regressor\n",
    "\n",
    "from sklearn.neighbors import KNeighborsRegressor as KNN"
   ]
  },
  {
   "cell_type": "code",
   "execution_count": 34,
   "id": "7daa190e",
   "metadata": {},
   "outputs": [],
   "source": [
    "# Creating instance for KNN\n",
    "knn = KNN()"
   ]
  },
  {
   "cell_type": "code",
   "execution_count": 35,
   "id": "ba173079",
   "metadata": {},
   "outputs": [],
   "source": [
    "# Taking the hyperparameters\n",
    "parameter_grid = {\n",
    "    'n_neighbors' : [19, 20, 21]\n",
    "}"
   ]
  },
  {
   "cell_type": "code",
   "execution_count": 36,
   "id": "3870ac73",
   "metadata": {},
   "outputs": [],
   "source": [
    "# Importing Grid Search and imputing the hyperparameters\n",
    "from sklearn.model_selection import GridSearchCV\n",
    "gridsearch = GridSearchCV(estimator=knn, param_grid=parameter_grid, scoring='neg_mean_squared_error', cv=3)"
   ]
  },
  {
   "cell_type": "code",
   "execution_count": 37,
   "id": "54c884d6",
   "metadata": {},
   "outputs": [
    {
     "data": {
      "text/plain": [
       "GridSearchCV(cv=3, estimator=KNeighborsRegressor(),\n",
       "             param_grid={'n_neighbors': [19, 20, 21]},\n",
       "             scoring='neg_mean_squared_error')"
      ]
     },
     "execution_count": 37,
     "metadata": {},
     "output_type": "execute_result"
    }
   ],
   "source": [
    "# Fitting the train set\n",
    "gridsearch.fit(train_x, train_y)"
   ]
  },
  {
   "cell_type": "code",
   "execution_count": 38,
   "id": "736a2562",
   "metadata": {
    "scrolled": true
   },
   "outputs": [
    {
     "data": {
      "text/plain": [
       "{'n_neighbors': 20}"
      ]
     },
     "execution_count": 38,
     "metadata": {},
     "output_type": "execute_result"
    }
   ],
   "source": [
    "# Finding the best parameter combination\n",
    "gridsearch.best_params_"
   ]
  },
  {
   "cell_type": "code",
   "execution_count": 39,
   "id": "cefef880",
   "metadata": {},
   "outputs": [],
   "source": [
    "# Taking the parameters and imputing it in KNN()\n",
    "\n",
    "# Creating instance of KNN\n",
    "knn = KNN(n_neighbors = 20)\n",
    "\n",
    "# Fitting the model\n",
    "knn.fit(train_x, train_y)\n",
    "\n",
    "# Predicting over the Train and Test Set\n",
    "train_y_predict_knn = knn.predict(train_x)\n",
    "test_y_predict_knn = knn.predict(test_x)"
   ]
  },
  {
   "cell_type": "code",
   "execution_count": 40,
   "id": "fc3598f1",
   "metadata": {},
   "outputs": [
    {
     "data": {
      "text/plain": [
       "0.7136209854097857"
      ]
     },
     "execution_count": 40,
     "metadata": {},
     "output_type": "execute_result"
    }
   ],
   "source": [
    "# Finding the model score\n",
    "knn.score(test_x, test_y)"
   ]
  },
  {
   "cell_type": "markdown",
   "id": "9a573234",
   "metadata": {},
   "source": [
    "### The best value of k or n_neighbors found out is **`20`**."
   ]
  },
  {
   "cell_type": "markdown",
   "id": "78f44138",
   "metadata": {},
   "source": [
    "---\n",
    "\n",
    "## Q2. Build a Linear model for the given dataset with regularisation."
   ]
  },
  {
   "cell_type": "code",
   "execution_count": 41,
   "id": "0d7e9560",
   "metadata": {},
   "outputs": [
    {
     "data": {
      "text/html": [
       "<div>\n",
       "<style scoped>\n",
       "    .dataframe tbody tr th:only-of-type {\n",
       "        vertical-align: middle;\n",
       "    }\n",
       "\n",
       "    .dataframe tbody tr th {\n",
       "        vertical-align: top;\n",
       "    }\n",
       "\n",
       "    .dataframe thead th {\n",
       "        text-align: right;\n",
       "    }\n",
       "</style>\n",
       "<table border=\"1\" class=\"dataframe\">\n",
       "  <thead>\n",
       "    <tr style=\"text-align: right;\">\n",
       "      <th></th>\n",
       "      <th>vendor_id</th>\n",
       "      <th>passenger_count</th>\n",
       "      <th>pickup_longitude</th>\n",
       "      <th>pickup_latitude</th>\n",
       "      <th>store_and_fwd_flag</th>\n",
       "      <th>trip_duration</th>\n",
       "      <th>day_of_week</th>\n",
       "      <th>hour_of_day</th>\n",
       "      <th>distance</th>\n",
       "    </tr>\n",
       "  </thead>\n",
       "  <tbody>\n",
       "    <tr>\n",
       "      <th>0</th>\n",
       "      <td>1</td>\n",
       "      <td>1</td>\n",
       "      <td>-73.953918</td>\n",
       "      <td>40.778873</td>\n",
       "      <td>0</td>\n",
       "      <td>400</td>\n",
       "      <td>0</td>\n",
       "      <td>16</td>\n",
       "      <td>1.199074</td>\n",
       "    </tr>\n",
       "    <tr>\n",
       "      <th>1</th>\n",
       "      <td>0</td>\n",
       "      <td>2</td>\n",
       "      <td>-73.988312</td>\n",
       "      <td>40.731743</td>\n",
       "      <td>0</td>\n",
       "      <td>1100</td>\n",
       "      <td>4</td>\n",
       "      <td>23</td>\n",
       "      <td>4.129117</td>\n",
       "    </tr>\n",
       "    <tr>\n",
       "      <th>2</th>\n",
       "      <td>1</td>\n",
       "      <td>2</td>\n",
       "      <td>-73.997314</td>\n",
       "      <td>40.721458</td>\n",
       "      <td>0</td>\n",
       "      <td>1635</td>\n",
       "      <td>6</td>\n",
       "      <td>17</td>\n",
       "      <td>7.250763</td>\n",
       "    </tr>\n",
       "    <tr>\n",
       "      <th>3</th>\n",
       "      <td>1</td>\n",
       "      <td>6</td>\n",
       "      <td>-73.961670</td>\n",
       "      <td>40.759720</td>\n",
       "      <td>0</td>\n",
       "      <td>1141</td>\n",
       "      <td>1</td>\n",
       "      <td>9</td>\n",
       "      <td>2.361101</td>\n",
       "    </tr>\n",
       "    <tr>\n",
       "      <th>4</th>\n",
       "      <td>0</td>\n",
       "      <td>1</td>\n",
       "      <td>-74.017120</td>\n",
       "      <td>40.708469</td>\n",
       "      <td>0</td>\n",
       "      <td>848</td>\n",
       "      <td>2</td>\n",
       "      <td>6</td>\n",
       "      <td>4.328540</td>\n",
       "    </tr>\n",
       "  </tbody>\n",
       "</table>\n",
       "</div>"
      ],
      "text/plain": [
       "   vendor_id  passenger_count  pickup_longitude  pickup_latitude  \\\n",
       "0          1                1        -73.953918        40.778873   \n",
       "1          0                2        -73.988312        40.731743   \n",
       "2          1                2        -73.997314        40.721458   \n",
       "3          1                6        -73.961670        40.759720   \n",
       "4          0                1        -74.017120        40.708469   \n",
       "\n",
       "   store_and_fwd_flag  trip_duration  day_of_week  hour_of_day  distance  \n",
       "0                   0            400            0           16  1.199074  \n",
       "1                   0           1100            4           23  4.129117  \n",
       "2                   0           1635            6           17  7.250763  \n",
       "3                   0           1141            1            9  2.361101  \n",
       "4                   0            848            2            6  4.328540  "
      ]
     },
     "execution_count": 41,
     "metadata": {},
     "output_type": "execute_result"
    }
   ],
   "source": [
    "# Reading the data\n",
    "data.head()"
   ]
  },
  {
   "cell_type": "code",
   "execution_count": 42,
   "id": "354ef186",
   "metadata": {},
   "outputs": [
    {
     "data": {
      "text/plain": [
       "((716140, 8), (716140,))"
      ]
     },
     "execution_count": 42,
     "metadata": {},
     "output_type": "execute_result"
    }
   ],
   "source": [
    "# seperating independent and dependent variables\n",
    "\n",
    "# Features\n",
    "x = data.drop(['trip_duration'], axis=1)\n",
    "\n",
    "# Target\n",
    "y = data['trip_duration']\n",
    "\n",
    "x.shape, y.shape"
   ]
  },
  {
   "cell_type": "code",
   "execution_count": 43,
   "id": "89407422",
   "metadata": {},
   "outputs": [],
   "source": [
    "# Importing the train test split function\n",
    "from sklearn.model_selection import train_test_split\n",
    "train_x,test_x,train_y,test_y = train_test_split(x,y, random_state = 56)"
   ]
  },
  {
   "cell_type": "code",
   "execution_count": 44,
   "id": "49736ff7",
   "metadata": {},
   "outputs": [],
   "source": [
    "# Importing linear regression\n",
    "from sklearn.linear_model import LinearRegression"
   ]
  },
  {
   "cell_type": "code",
   "execution_count": 45,
   "id": "1b7da567",
   "metadata": {},
   "outputs": [
    {
     "data": {
      "text/plain": [
       "LinearRegression(normalize=True)"
      ]
     },
     "execution_count": 45,
     "metadata": {},
     "output_type": "execute_result"
    }
   ],
   "source": [
    "# Creating instance of Linear Regresssion with Normalised Data\n",
    "lr = LinearRegression(normalize = True)\n",
    "\n",
    "# Fitting the model\n",
    "lr.fit(train_x, train_y)"
   ]
  },
  {
   "cell_type": "code",
   "execution_count": 46,
   "id": "618a4179",
   "metadata": {},
   "outputs": [],
   "source": [
    "# Predicting over train and test dataset\n",
    "train_y_pred_linear_regression = lr.predict(train_x)\n",
    "test_y_pred_linear_regression = lr.predict(test_x)"
   ]
  },
  {
   "cell_type": "code",
   "execution_count": 47,
   "id": "d0ba9bbc",
   "metadata": {},
   "outputs": [
    {
     "data": {
      "text/plain": [
       "0.5949312564995468"
      ]
     },
     "execution_count": 47,
     "metadata": {},
     "output_type": "execute_result"
    }
   ],
   "source": [
    "# Calculating the score on test dataset\n",
    "lr.score(test_x, test_y)"
   ]
  },
  {
   "cell_type": "markdown",
   "id": "a084bc2f",
   "metadata": {},
   "source": [
    "### Regularisation using Lasso"
   ]
  },
  {
   "cell_type": "code",
   "execution_count": 48,
   "id": "2816be2b",
   "metadata": {},
   "outputs": [],
   "source": [
    "# Importing Lasso model from sklearn's linear_model module\n",
    "from sklearn.linear_model import Lasso"
   ]
  },
  {
   "cell_type": "code",
   "execution_count": 49,
   "id": "bb10c3c3",
   "metadata": {},
   "outputs": [],
   "source": [
    "# Creating the instance for lasso\n",
    "lasso= Lasso(normalize = True)"
   ]
  },
  {
   "cell_type": "code",
   "execution_count": 50,
   "id": "938c3708",
   "metadata": {},
   "outputs": [],
   "source": [
    "# Defining the values of alpha for hyperparameter tuning\n",
    "parameter_grid = {'alpha' : [1e-12, 1e-10, 1e-8, 1e-5, 1e-4, 1e-3, 1e-2, 1, 5, 10]}"
   ]
  },
  {
   "cell_type": "code",
   "execution_count": 51,
   "id": "e5df9049",
   "metadata": {},
   "outputs": [],
   "source": [
    "# Importing Grid Search\n",
    "from sklearn.model_selection import GridSearchCV"
   ]
  },
  {
   "cell_type": "code",
   "execution_count": 52,
   "id": "99de8a58",
   "metadata": {},
   "outputs": [],
   "source": [
    "# Imputing the hyperparametrs into Grid Search\n",
    "gridsearch = GridSearchCV(estimator= lasso, param_grid=parameter_grid, scoring='neg_mean_squared_error', cv=3)"
   ]
  },
  {
   "cell_type": "code",
   "execution_count": 53,
   "id": "699981c9",
   "metadata": {},
   "outputs": [
    {
     "data": {
      "text/plain": [
       "GridSearchCV(cv=3, estimator=Lasso(normalize=True),\n",
       "             param_grid={'alpha': [1e-12, 1e-10, 1e-08, 1e-05, 0.0001, 0.001,\n",
       "                                   0.01, 1, 5, 10]},\n",
       "             scoring='neg_mean_squared_error')"
      ]
     },
     "execution_count": 53,
     "metadata": {},
     "output_type": "execute_result"
    }
   ],
   "source": [
    "# Fitting the train data\n",
    "gridsearch.fit(train_x, train_y)"
   ]
  },
  {
   "cell_type": "code",
   "execution_count": 54,
   "id": "9b8f5e3d",
   "metadata": {},
   "outputs": [
    {
     "data": {
      "text/plain": [
       "{'alpha': 0.0001}"
      ]
     },
     "execution_count": 54,
     "metadata": {},
     "output_type": "execute_result"
    }
   ],
   "source": [
    "# Taking the best parameter\n",
    "gridsearch.best_params_"
   ]
  },
  {
   "cell_type": "code",
   "execution_count": 55,
   "id": "ca3620fa",
   "metadata": {},
   "outputs": [],
   "source": [
    "# Imputing the best paramter of alpha in lasso model\n",
    "lasso= Lasso(alpha = 0.0001, normalize = True)"
   ]
  },
  {
   "cell_type": "code",
   "execution_count": 56,
   "id": "7209e945",
   "metadata": {},
   "outputs": [],
   "source": [
    "# Fitting the train data and predicting over the test data\n",
    "lasso.fit(train_x, train_y)\n",
    "\n",
    "train_y_pred_lasso = lasso.predict(train_x)\n",
    "test_y_pred_lasso = lasso.predict(test_x)"
   ]
  },
  {
   "cell_type": "code",
   "execution_count": 57,
   "id": "3674e234",
   "metadata": {},
   "outputs": [
    {
     "data": {
      "text/plain": [
       "0.5949314420256786"
      ]
     },
     "execution_count": 57,
     "metadata": {},
     "output_type": "execute_result"
    }
   ],
   "source": [
    "# Finding out the model score\n",
    "lasso.score(test_x, test_y)"
   ]
  },
  {
   "cell_type": "markdown",
   "id": "4b6c0c3f",
   "metadata": {},
   "source": [
    "---\n",
    "\n",
    "## Q3. Build a Random Forest model for the given dataset."
   ]
  },
  {
   "cell_type": "code",
   "execution_count": 58,
   "id": "31986f0a",
   "metadata": {},
   "outputs": [
    {
     "data": {
      "text/html": [
       "<div>\n",
       "<style scoped>\n",
       "    .dataframe tbody tr th:only-of-type {\n",
       "        vertical-align: middle;\n",
       "    }\n",
       "\n",
       "    .dataframe tbody tr th {\n",
       "        vertical-align: top;\n",
       "    }\n",
       "\n",
       "    .dataframe thead th {\n",
       "        text-align: right;\n",
       "    }\n",
       "</style>\n",
       "<table border=\"1\" class=\"dataframe\">\n",
       "  <thead>\n",
       "    <tr style=\"text-align: right;\">\n",
       "      <th></th>\n",
       "      <th>vendor_id</th>\n",
       "      <th>passenger_count</th>\n",
       "      <th>pickup_longitude</th>\n",
       "      <th>pickup_latitude</th>\n",
       "      <th>store_and_fwd_flag</th>\n",
       "      <th>trip_duration</th>\n",
       "      <th>day_of_week</th>\n",
       "      <th>hour_of_day</th>\n",
       "      <th>distance</th>\n",
       "    </tr>\n",
       "  </thead>\n",
       "  <tbody>\n",
       "    <tr>\n",
       "      <th>0</th>\n",
       "      <td>1</td>\n",
       "      <td>1</td>\n",
       "      <td>-73.953918</td>\n",
       "      <td>40.778873</td>\n",
       "      <td>0</td>\n",
       "      <td>400</td>\n",
       "      <td>0</td>\n",
       "      <td>16</td>\n",
       "      <td>1.199074</td>\n",
       "    </tr>\n",
       "    <tr>\n",
       "      <th>1</th>\n",
       "      <td>0</td>\n",
       "      <td>2</td>\n",
       "      <td>-73.988312</td>\n",
       "      <td>40.731743</td>\n",
       "      <td>0</td>\n",
       "      <td>1100</td>\n",
       "      <td>4</td>\n",
       "      <td>23</td>\n",
       "      <td>4.129117</td>\n",
       "    </tr>\n",
       "    <tr>\n",
       "      <th>2</th>\n",
       "      <td>1</td>\n",
       "      <td>2</td>\n",
       "      <td>-73.997314</td>\n",
       "      <td>40.721458</td>\n",
       "      <td>0</td>\n",
       "      <td>1635</td>\n",
       "      <td>6</td>\n",
       "      <td>17</td>\n",
       "      <td>7.250763</td>\n",
       "    </tr>\n",
       "    <tr>\n",
       "      <th>3</th>\n",
       "      <td>1</td>\n",
       "      <td>6</td>\n",
       "      <td>-73.961670</td>\n",
       "      <td>40.759720</td>\n",
       "      <td>0</td>\n",
       "      <td>1141</td>\n",
       "      <td>1</td>\n",
       "      <td>9</td>\n",
       "      <td>2.361101</td>\n",
       "    </tr>\n",
       "    <tr>\n",
       "      <th>4</th>\n",
       "      <td>0</td>\n",
       "      <td>1</td>\n",
       "      <td>-74.017120</td>\n",
       "      <td>40.708469</td>\n",
       "      <td>0</td>\n",
       "      <td>848</td>\n",
       "      <td>2</td>\n",
       "      <td>6</td>\n",
       "      <td>4.328540</td>\n",
       "    </tr>\n",
       "  </tbody>\n",
       "</table>\n",
       "</div>"
      ],
      "text/plain": [
       "   vendor_id  passenger_count  pickup_longitude  pickup_latitude  \\\n",
       "0          1                1        -73.953918        40.778873   \n",
       "1          0                2        -73.988312        40.731743   \n",
       "2          1                2        -73.997314        40.721458   \n",
       "3          1                6        -73.961670        40.759720   \n",
       "4          0                1        -74.017120        40.708469   \n",
       "\n",
       "   store_and_fwd_flag  trip_duration  day_of_week  hour_of_day  distance  \n",
       "0                   0            400            0           16  1.199074  \n",
       "1                   0           1100            4           23  4.129117  \n",
       "2                   0           1635            6           17  7.250763  \n",
       "3                   0           1141            1            9  2.361101  \n",
       "4                   0            848            2            6  4.328540  "
      ]
     },
     "execution_count": 58,
     "metadata": {},
     "output_type": "execute_result"
    }
   ],
   "source": [
    "# Data is already loded and cleaned, let's check the data\n",
    "data.head()"
   ]
  },
  {
   "cell_type": "markdown",
   "id": "fcbe2f2c",
   "metadata": {},
   "source": [
    "### Separating independent and dependent variables."
   ]
  },
  {
   "cell_type": "code",
   "execution_count": 59,
   "id": "f6757b0e",
   "metadata": {},
   "outputs": [],
   "source": [
    "# Independent variables\n",
    "x = data.drop(['trip_duration'], axis=1)\n",
    "\n",
    "# Dependent variable\n",
    "y = data['trip_duration']"
   ]
  },
  {
   "cell_type": "markdown",
   "id": "8dee0478",
   "metadata": {},
   "source": [
    "### Creating the train and test dataset"
   ]
  },
  {
   "cell_type": "code",
   "execution_count": 60,
   "id": "bdb11de4",
   "metadata": {},
   "outputs": [],
   "source": [
    "# Importing the train-test split\n",
    "from sklearn.model_selection import train_test_split"
   ]
  },
  {
   "cell_type": "code",
   "execution_count": 61,
   "id": "fd2f24db",
   "metadata": {},
   "outputs": [],
   "source": [
    "# Divide into train and test sets\n",
    "train_x,test_x,train_y,test_y = train_test_split(x,y, random_state = 101)"
   ]
  },
  {
   "cell_type": "markdown",
   "id": "fe23056b",
   "metadata": {},
   "source": [
    "### Building a Random Forest Model"
   ]
  },
  {
   "cell_type": "code",
   "execution_count": 62,
   "id": "d4d9f2d6",
   "metadata": {},
   "outputs": [],
   "source": [
    "# Importing random forest classifier \n",
    "from sklearn.ensemble import RandomForestRegressor"
   ]
  },
  {
   "cell_type": "code",
   "execution_count": 63,
   "id": "738ffb64",
   "metadata": {},
   "outputs": [],
   "source": [
    "# Creating a random forest instance\n",
    "regressor = RandomForestRegressor(random_state=96)"
   ]
  },
  {
   "cell_type": "code",
   "execution_count": 64,
   "id": "d11898bf",
   "metadata": {},
   "outputs": [],
   "source": [
    "# Taking the hyperparameters and their values in a dictionary\n",
    "parameter_grid = {'max_depth' : [13, 14],\n",
    "                 'n_estimators': [90,100]}"
   ]
  },
  {
   "cell_type": "code",
   "execution_count": 65,
   "id": "de892ea1",
   "metadata": {},
   "outputs": [],
   "source": [
    "# Importing Randomized Search\n",
    "from sklearn.model_selection import RandomizedSearchCV"
   ]
  },
  {
   "cell_type": "code",
   "execution_count": 66,
   "id": "f5ca9021",
   "metadata": {},
   "outputs": [],
   "source": [
    "# Imputing the parameter values taken into Randomized Search\n",
    "randomsearch = RandomizedSearchCV(estimator=regressor, param_distributions = parameter_grid, n_iter= 6, cv=3)"
   ]
  },
  {
   "cell_type": "code",
   "execution_count": 67,
   "id": "ac15dadd",
   "metadata": {},
   "outputs": [
    {
     "data": {
      "text/plain": [
       "RandomizedSearchCV(cv=3, estimator=RandomForestRegressor(random_state=96),\n",
       "                   n_iter=6,\n",
       "                   param_distributions={'max_depth': [13, 14],\n",
       "                                        'n_estimators': [90, 100]})"
      ]
     },
     "execution_count": 67,
     "metadata": {},
     "output_type": "execute_result"
    }
   ],
   "source": [
    "# Train the model\n",
    "randomsearch.fit(train_x,train_y)"
   ]
  },
  {
   "cell_type": "code",
   "execution_count": 68,
   "id": "31e4413a",
   "metadata": {},
   "outputs": [
    {
     "data": {
      "text/plain": [
       "{'n_estimators': 100, 'max_depth': 14}"
      ]
     },
     "execution_count": 68,
     "metadata": {},
     "output_type": "execute_result"
    }
   ],
   "source": [
    "# Taking the combination of best parameters\n",
    "randomsearch.best_params_"
   ]
  },
  {
   "cell_type": "code",
   "execution_count": 69,
   "id": "ba0f31df",
   "metadata": {},
   "outputs": [],
   "source": [
    "# Creating a random forest instance\n",
    "regressor = RandomForestRegressor(max_depth = 14, random_state=96, n_estimators = 100)"
   ]
  },
  {
   "cell_type": "code",
   "execution_count": 70,
   "id": "fbe88687",
   "metadata": {},
   "outputs": [
    {
     "data": {
      "text/plain": [
       "RandomForestRegressor(max_depth=14, random_state=96)"
      ]
     },
     "execution_count": 70,
     "metadata": {},
     "output_type": "execute_result"
    }
   ],
   "source": [
    "# Fitting the training data into Random Forest model\n",
    "regressor.fit(train_x, train_y)"
   ]
  },
  {
   "cell_type": "code",
   "execution_count": 71,
   "id": "df043fd3",
   "metadata": {},
   "outputs": [],
   "source": [
    "# Predicting over train and test dataset\n",
    "train_y_pred_random_forest = regressor.predict(train_x)\n",
    "test_y_pred_random_forest = regressor.predict(test_x)"
   ]
  },
  {
   "cell_type": "code",
   "execution_count": 72,
   "id": "daece036",
   "metadata": {},
   "outputs": [
    {
     "data": {
      "text/plain": [
       "0.7843089578963401"
      ]
     },
     "execution_count": 72,
     "metadata": {},
     "output_type": "execute_result"
    }
   ],
   "source": [
    "# Score on training data\n",
    "regressor.score(train_x, train_y)"
   ]
  },
  {
   "cell_type": "code",
   "execution_count": 73,
   "id": "b76f9de2",
   "metadata": {},
   "outputs": [
    {
     "data": {
      "text/plain": [
       "0.7323634764427405"
      ]
     },
     "execution_count": 73,
     "metadata": {},
     "output_type": "execute_result"
    }
   ],
   "source": [
    "# Score on test data\n",
    "regressor.score(test_x, test_y)"
   ]
  },
  {
   "cell_type": "code",
   "execution_count": 74,
   "id": "56c1c2b9",
   "metadata": {},
   "outputs": [
    {
     "data": {
      "text/plain": [
       "array([1.05677290e-03, 2.64375022e-03, 2.93983109e-02, 2.71613979e-02,\n",
       "       2.78316278e-04, 3.23962648e-02, 8.31253946e-02, 8.23939792e-01])"
      ]
     },
     "execution_count": 74,
     "metadata": {},
     "output_type": "execute_result"
    }
   ],
   "source": [
    "# Feature importance\n",
    "regressor.feature_importances_"
   ]
  },
  {
   "cell_type": "code",
   "execution_count": 75,
   "id": "94c2b32f",
   "metadata": {
    "scrolled": true
   },
   "outputs": [
    {
     "data": {
      "text/plain": [
       "vendor_id             0.001057\n",
       "passenger_count       0.002644\n",
       "pickup_longitude      0.029398\n",
       "pickup_latitude       0.027161\n",
       "store_and_fwd_flag    0.000278\n",
       "day_of_week           0.032396\n",
       "hour_of_day           0.083125\n",
       "distance              0.823940\n",
       "dtype: float64"
      ]
     },
     "execution_count": 75,
     "metadata": {},
     "output_type": "execute_result"
    }
   ],
   "source": [
    "# Feature importance against each variable\n",
    "pd.Series(regressor.feature_importances_, index=train_x.columns)"
   ]
  },
  {
   "cell_type": "markdown",
   "id": "96814acf",
   "metadata": {},
   "source": [
    "---\n",
    "\n",
    "## Q4. Build a Gradient Boosting model for the given dataset."
   ]
  },
  {
   "cell_type": "code",
   "execution_count": 76,
   "id": "72110147",
   "metadata": {},
   "outputs": [
    {
     "data": {
      "text/html": [
       "<div>\n",
       "<style scoped>\n",
       "    .dataframe tbody tr th:only-of-type {\n",
       "        vertical-align: middle;\n",
       "    }\n",
       "\n",
       "    .dataframe tbody tr th {\n",
       "        vertical-align: top;\n",
       "    }\n",
       "\n",
       "    .dataframe thead th {\n",
       "        text-align: right;\n",
       "    }\n",
       "</style>\n",
       "<table border=\"1\" class=\"dataframe\">\n",
       "  <thead>\n",
       "    <tr style=\"text-align: right;\">\n",
       "      <th></th>\n",
       "      <th>vendor_id</th>\n",
       "      <th>passenger_count</th>\n",
       "      <th>pickup_longitude</th>\n",
       "      <th>pickup_latitude</th>\n",
       "      <th>store_and_fwd_flag</th>\n",
       "      <th>trip_duration</th>\n",
       "      <th>day_of_week</th>\n",
       "      <th>hour_of_day</th>\n",
       "      <th>distance</th>\n",
       "    </tr>\n",
       "  </thead>\n",
       "  <tbody>\n",
       "    <tr>\n",
       "      <th>0</th>\n",
       "      <td>1</td>\n",
       "      <td>1</td>\n",
       "      <td>-73.953918</td>\n",
       "      <td>40.778873</td>\n",
       "      <td>0</td>\n",
       "      <td>400</td>\n",
       "      <td>0</td>\n",
       "      <td>16</td>\n",
       "      <td>1.199074</td>\n",
       "    </tr>\n",
       "    <tr>\n",
       "      <th>1</th>\n",
       "      <td>0</td>\n",
       "      <td>2</td>\n",
       "      <td>-73.988312</td>\n",
       "      <td>40.731743</td>\n",
       "      <td>0</td>\n",
       "      <td>1100</td>\n",
       "      <td>4</td>\n",
       "      <td>23</td>\n",
       "      <td>4.129117</td>\n",
       "    </tr>\n",
       "    <tr>\n",
       "      <th>2</th>\n",
       "      <td>1</td>\n",
       "      <td>2</td>\n",
       "      <td>-73.997314</td>\n",
       "      <td>40.721458</td>\n",
       "      <td>0</td>\n",
       "      <td>1635</td>\n",
       "      <td>6</td>\n",
       "      <td>17</td>\n",
       "      <td>7.250763</td>\n",
       "    </tr>\n",
       "    <tr>\n",
       "      <th>3</th>\n",
       "      <td>1</td>\n",
       "      <td>6</td>\n",
       "      <td>-73.961670</td>\n",
       "      <td>40.759720</td>\n",
       "      <td>0</td>\n",
       "      <td>1141</td>\n",
       "      <td>1</td>\n",
       "      <td>9</td>\n",
       "      <td>2.361101</td>\n",
       "    </tr>\n",
       "    <tr>\n",
       "      <th>4</th>\n",
       "      <td>0</td>\n",
       "      <td>1</td>\n",
       "      <td>-74.017120</td>\n",
       "      <td>40.708469</td>\n",
       "      <td>0</td>\n",
       "      <td>848</td>\n",
       "      <td>2</td>\n",
       "      <td>6</td>\n",
       "      <td>4.328540</td>\n",
       "    </tr>\n",
       "  </tbody>\n",
       "</table>\n",
       "</div>"
      ],
      "text/plain": [
       "   vendor_id  passenger_count  pickup_longitude  pickup_latitude  \\\n",
       "0          1                1        -73.953918        40.778873   \n",
       "1          0                2        -73.988312        40.731743   \n",
       "2          1                2        -73.997314        40.721458   \n",
       "3          1                6        -73.961670        40.759720   \n",
       "4          0                1        -74.017120        40.708469   \n",
       "\n",
       "   store_and_fwd_flag  trip_duration  day_of_week  hour_of_day  distance  \n",
       "0                   0            400            0           16  1.199074  \n",
       "1                   0           1100            4           23  4.129117  \n",
       "2                   0           1635            6           17  7.250763  \n",
       "3                   0           1141            1            9  2.361101  \n",
       "4                   0            848            2            6  4.328540  "
      ]
     },
     "execution_count": 76,
     "metadata": {},
     "output_type": "execute_result"
    }
   ],
   "source": [
    "# Reading the data\n",
    "data.head()"
   ]
  },
  {
   "cell_type": "markdown",
   "id": "1c5a59e2",
   "metadata": {},
   "source": [
    "### Separating independent and dependent variables."
   ]
  },
  {
   "cell_type": "code",
   "execution_count": 77,
   "id": "25067a83",
   "metadata": {},
   "outputs": [],
   "source": [
    "# Independent variables\n",
    "x = data.drop(['trip_duration'], axis=1)\n",
    "\n",
    "# Dependent variable\n",
    "y = data['trip_duration']"
   ]
  },
  {
   "cell_type": "markdown",
   "id": "397dc2a0",
   "metadata": {},
   "source": [
    "### Creating the train and test dataset"
   ]
  },
  {
   "cell_type": "code",
   "execution_count": 78,
   "id": "0bd2747f",
   "metadata": {},
   "outputs": [],
   "source": [
    "# Import the train-test split\n",
    "from sklearn.model_selection import train_test_split"
   ]
  },
  {
   "cell_type": "code",
   "execution_count": 79,
   "id": "3163ca5e",
   "metadata": {},
   "outputs": [],
   "source": [
    "# Divide into train and test sets\n",
    "train_x,test_x,train_y,test_y = train_test_split(x,y, random_state = 101)"
   ]
  },
  {
   "cell_type": "markdown",
   "id": "1afe0b8d",
   "metadata": {},
   "source": [
    "### Building an GBDT Model"
   ]
  },
  {
   "cell_type": "code",
   "execution_count": 80,
   "id": "63d33f28",
   "metadata": {},
   "outputs": [],
   "source": [
    "# Importing GBDT Resgressor \n",
    "from sklearn.ensemble import GradientBoostingRegressor"
   ]
  },
  {
   "cell_type": "code",
   "execution_count": 81,
   "id": "c9b3041e",
   "metadata": {},
   "outputs": [],
   "source": [
    "# Creating an Gradient boosting instance\n",
    "gbr = GradientBoostingRegressor(random_state=96)"
   ]
  },
  {
   "cell_type": "code",
   "execution_count": 82,
   "id": "d8bec5da",
   "metadata": {},
   "outputs": [],
   "source": [
    "# Taking the hyperparameters and their values in a dictionary\n",
    "parameter_grid = {'max_depth' : [8, 9, 10],\n",
    "                 'n_estimators': [80, 100]}"
   ]
  },
  {
   "cell_type": "code",
   "execution_count": 83,
   "id": "677fc66e",
   "metadata": {},
   "outputs": [],
   "source": [
    "# Importing Grid Search\n",
    "from sklearn.model_selection import GridSearchCV"
   ]
  },
  {
   "cell_type": "code",
   "execution_count": 84,
   "id": "30381cd8",
   "metadata": {},
   "outputs": [],
   "source": [
    "# Imputing the hyperparametrs into Grid Search\n",
    "gridsearch = GridSearchCV(estimator= gbr, param_grid=parameter_grid, scoring='neg_mean_squared_error', cv=3)"
   ]
  },
  {
   "cell_type": "code",
   "execution_count": 85,
   "id": "f47fceeb",
   "metadata": {},
   "outputs": [
    {
     "data": {
      "text/plain": [
       "GridSearchCV(cv=3, estimator=GradientBoostingRegressor(random_state=96),\n",
       "             param_grid={'max_depth': [8, 9, 10], 'n_estimators': [80, 100]},\n",
       "             scoring='neg_mean_squared_error')"
      ]
     },
     "execution_count": 85,
     "metadata": {},
     "output_type": "execute_result"
    }
   ],
   "source": [
    "# Fitting the train set in gridsearch\n",
    "gridsearch.fit(train_x, train_y)"
   ]
  },
  {
   "cell_type": "code",
   "execution_count": 86,
   "id": "8fe94215",
   "metadata": {},
   "outputs": [
    {
     "data": {
      "text/plain": [
       "{'max_depth': 9, 'n_estimators': 100}"
      ]
     },
     "execution_count": 86,
     "metadata": {},
     "output_type": "execute_result"
    }
   ],
   "source": [
    "# Taking the best parameter\n",
    "gridsearch.best_params_"
   ]
  },
  {
   "cell_type": "code",
   "execution_count": 87,
   "id": "877d803e",
   "metadata": {},
   "outputs": [],
   "source": [
    "# Creating an Gradient boosting instance\n",
    "gbr = GradientBoostingRegressor(max_depth = 9, random_state=96, n_estimators = 100)"
   ]
  },
  {
   "cell_type": "code",
   "execution_count": 88,
   "id": "7f974b0c",
   "metadata": {},
   "outputs": [
    {
     "data": {
      "text/plain": [
       "GradientBoostingRegressor(max_depth=9, random_state=96)"
      ]
     },
     "execution_count": 88,
     "metadata": {},
     "output_type": "execute_result"
    }
   ],
   "source": [
    "# Training the model\n",
    "gbr.fit(train_x,train_y)"
   ]
  },
  {
   "cell_type": "code",
   "execution_count": 89,
   "id": "e71b1f8e",
   "metadata": {},
   "outputs": [],
   "source": [
    "# Predicting over train and test dataset\n",
    "train_y_pred_grad_boost = gbr.predict(train_x)\n",
    "test_y_pred_grad_boost = gbr.predict(test_x)"
   ]
  },
  {
   "cell_type": "code",
   "execution_count": 90,
   "id": "47b2b32c",
   "metadata": {},
   "outputs": [
    {
     "data": {
      "text/plain": [
       "0.7390459707013213"
      ]
     },
     "execution_count": 90,
     "metadata": {},
     "output_type": "execute_result"
    }
   ],
   "source": [
    "# Calculating score on test data\n",
    "gbr.score(test_x, test_y)"
   ]
  },
  {
   "cell_type": "markdown",
   "id": "d65bbaae",
   "metadata": {},
   "source": [
    "---\n",
    "\n",
    "## Q5. Combine all the models above using the averaging technique to generate the final predictions."
   ]
  },
  {
   "cell_type": "code",
   "execution_count": 91,
   "id": "2b7ad325",
   "metadata": {},
   "outputs": [],
   "source": [
    "# Taking mean of all the models i.e, the final prediction and storing it in an array\n",
    "\n",
    "from statistics import mean\n",
    "final_pred = np.array([])\n",
    "for i in range(0,len(test_x)):\n",
    "    final_pred = np.append(final_pred, mean([test_y_predict_knn[i],\n",
    "                                             test_y_pred_linear_regression[i],\n",
    "                                             test_y_pred_random_forest[i],\n",
    "                                             test_y_pred_grad_boost[i]]))"
   ]
  },
  {
   "cell_type": "code",
   "execution_count": 92,
   "id": "af303042",
   "metadata": {},
   "outputs": [],
   "source": [
    "# Importing R2 score.\n",
    "from sklearn.metrics import r2_score"
   ]
  },
  {
   "cell_type": "code",
   "execution_count": 93,
   "id": "b52c2ed3",
   "metadata": {},
   "outputs": [
    {
     "data": {
      "text/plain": [
       "0.3996863295145331"
      ]
     },
     "execution_count": 93,
     "metadata": {},
     "output_type": "execute_result"
    }
   ],
   "source": [
    "# Calculating r2 score\n",
    "r2_score(test_y, final_pred)"
   ]
  },
  {
   "cell_type": "code",
   "execution_count": null,
   "id": "ff272452",
   "metadata": {},
   "outputs": [],
   "source": []
  }
 ],
 "metadata": {
  "kernelspec": {
   "display_name": "Python 3",
   "language": "python",
   "name": "python3"
  },
  "language_info": {
   "codemirror_mode": {
    "name": "ipython",
    "version": 3
   },
   "file_extension": ".py",
   "mimetype": "text/x-python",
   "name": "python",
   "nbconvert_exporter": "python",
   "pygments_lexer": "ipython3",
   "version": "3.9.5"
  }
 },
 "nbformat": 4,
 "nbformat_minor": 5
}
