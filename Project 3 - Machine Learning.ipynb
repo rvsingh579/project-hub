{
 "cells": [
  {
   "cell_type": "markdown",
   "id": "8c5d9abd",
   "metadata": {},
   "source": [
    "---\n",
    "<center><h1>Introduction to Machine Learning</h1></center>\n",
    "\n",
    "---"
   ]
  },
  {
   "cell_type": "markdown",
   "id": "77866b65",
   "metadata": {},
   "source": [
    "### Project: Building Basic predictive models over the NYC Taxi Trip dataset."
   ]
  },
  {
   "cell_type": "markdown",
   "id": "265c9c39",
   "metadata": {},
   "source": [
    "### You are provided with the NYC Taxi Trip Dataset. This dataset contains information about the taxi trips that took place in different parts of New York City and how much time did that trip take to complete."
   ]
  },
  {
   "cell_type": "code",
   "execution_count": 1,
   "id": "9e25f4da",
   "metadata": {},
   "outputs": [],
   "source": [
    "import pandas as pd\n",
    "import matplotlib.pyplot as plt\n",
    "import numpy as np\n",
    "%matplotlib inline\n",
    "import seaborn as sns\n",
    "import warnings\n",
    "warnings.filterwarnings('ignore')"
   ]
  },
  {
   "cell_type": "code",
   "execution_count": 2,
   "id": "f7007ac7",
   "metadata": {},
   "outputs": [],
   "source": [
    "data = pd.read_csv('nyc_taxi_trip_duration Dataset.csv')"
   ]
  },
  {
   "cell_type": "code",
   "execution_count": 3,
   "id": "2806493d",
   "metadata": {
    "scrolled": true
   },
   "outputs": [
    {
     "data": {
      "text/html": [
       "<div>\n",
       "<style scoped>\n",
       "    .dataframe tbody tr th:only-of-type {\n",
       "        vertical-align: middle;\n",
       "    }\n",
       "\n",
       "    .dataframe tbody tr th {\n",
       "        vertical-align: top;\n",
       "    }\n",
       "\n",
       "    .dataframe thead th {\n",
       "        text-align: right;\n",
       "    }\n",
       "</style>\n",
       "<table border=\"1\" class=\"dataframe\">\n",
       "  <thead>\n",
       "    <tr style=\"text-align: right;\">\n",
       "      <th></th>\n",
       "      <th>id</th>\n",
       "      <th>vendor_id</th>\n",
       "      <th>pickup_datetime</th>\n",
       "      <th>dropoff_datetime</th>\n",
       "      <th>passenger_count</th>\n",
       "      <th>pickup_longitude</th>\n",
       "      <th>pickup_latitude</th>\n",
       "      <th>dropoff_longitude</th>\n",
       "      <th>dropoff_latitude</th>\n",
       "      <th>store_and_fwd_flag</th>\n",
       "      <th>trip_duration</th>\n",
       "    </tr>\n",
       "  </thead>\n",
       "  <tbody>\n",
       "    <tr>\n",
       "      <th>0</th>\n",
       "      <td>id1080784</td>\n",
       "      <td>2</td>\n",
       "      <td>2016-02-29 16:40:21</td>\n",
       "      <td>2016-02-29 16:47:01</td>\n",
       "      <td>1</td>\n",
       "      <td>-73.953918</td>\n",
       "      <td>40.778873</td>\n",
       "      <td>-73.963875</td>\n",
       "      <td>40.771164</td>\n",
       "      <td>N</td>\n",
       "      <td>400</td>\n",
       "    </tr>\n",
       "    <tr>\n",
       "      <th>1</th>\n",
       "      <td>id0889885</td>\n",
       "      <td>1</td>\n",
       "      <td>2016-03-11 23:35:37</td>\n",
       "      <td>2016-03-11 23:53:57</td>\n",
       "      <td>2</td>\n",
       "      <td>-73.988312</td>\n",
       "      <td>40.731743</td>\n",
       "      <td>-73.994751</td>\n",
       "      <td>40.694931</td>\n",
       "      <td>N</td>\n",
       "      <td>1100</td>\n",
       "    </tr>\n",
       "    <tr>\n",
       "      <th>2</th>\n",
       "      <td>id0857912</td>\n",
       "      <td>2</td>\n",
       "      <td>2016-02-21 17:59:33</td>\n",
       "      <td>2016-02-21 18:26:48</td>\n",
       "      <td>2</td>\n",
       "      <td>-73.997314</td>\n",
       "      <td>40.721458</td>\n",
       "      <td>-73.948029</td>\n",
       "      <td>40.774918</td>\n",
       "      <td>N</td>\n",
       "      <td>1635</td>\n",
       "    </tr>\n",
       "    <tr>\n",
       "      <th>3</th>\n",
       "      <td>id3744273</td>\n",
       "      <td>2</td>\n",
       "      <td>2016-01-05 09:44:31</td>\n",
       "      <td>2016-01-05 10:03:32</td>\n",
       "      <td>6</td>\n",
       "      <td>-73.961670</td>\n",
       "      <td>40.759720</td>\n",
       "      <td>-73.956779</td>\n",
       "      <td>40.780628</td>\n",
       "      <td>N</td>\n",
       "      <td>1141</td>\n",
       "    </tr>\n",
       "    <tr>\n",
       "      <th>4</th>\n",
       "      <td>id0232939</td>\n",
       "      <td>1</td>\n",
       "      <td>2016-02-17 06:42:23</td>\n",
       "      <td>2016-02-17 06:56:31</td>\n",
       "      <td>1</td>\n",
       "      <td>-74.017120</td>\n",
       "      <td>40.708469</td>\n",
       "      <td>-73.988182</td>\n",
       "      <td>40.740631</td>\n",
       "      <td>N</td>\n",
       "      <td>848</td>\n",
       "    </tr>\n",
       "  </tbody>\n",
       "</table>\n",
       "</div>"
      ],
      "text/plain": [
       "          id  vendor_id      pickup_datetime     dropoff_datetime  \\\n",
       "0  id1080784          2  2016-02-29 16:40:21  2016-02-29 16:47:01   \n",
       "1  id0889885          1  2016-03-11 23:35:37  2016-03-11 23:53:57   \n",
       "2  id0857912          2  2016-02-21 17:59:33  2016-02-21 18:26:48   \n",
       "3  id3744273          2  2016-01-05 09:44:31  2016-01-05 10:03:32   \n",
       "4  id0232939          1  2016-02-17 06:42:23  2016-02-17 06:56:31   \n",
       "\n",
       "   passenger_count  pickup_longitude  pickup_latitude  dropoff_longitude  \\\n",
       "0                1        -73.953918        40.778873         -73.963875   \n",
       "1                2        -73.988312        40.731743         -73.994751   \n",
       "2                2        -73.997314        40.721458         -73.948029   \n",
       "3                6        -73.961670        40.759720         -73.956779   \n",
       "4                1        -74.017120        40.708469         -73.988182   \n",
       "\n",
       "   dropoff_latitude store_and_fwd_flag  trip_duration  \n",
       "0         40.771164                  N            400  \n",
       "1         40.694931                  N           1100  \n",
       "2         40.774918                  N           1635  \n",
       "3         40.780628                  N           1141  \n",
       "4         40.740631                  N            848  "
      ]
     },
     "execution_count": 3,
     "metadata": {},
     "output_type": "execute_result"
    }
   ],
   "source": [
    "data.head()"
   ]
  },
  {
   "cell_type": "code",
   "execution_count": 4,
   "id": "675aebea",
   "metadata": {
    "scrolled": true
   },
   "outputs": [
    {
     "data": {
      "text/plain": [
       "id                    0\n",
       "vendor_id             0\n",
       "pickup_datetime       0\n",
       "dropoff_datetime      0\n",
       "passenger_count       0\n",
       "pickup_longitude      0\n",
       "pickup_latitude       0\n",
       "dropoff_longitude     0\n",
       "dropoff_latitude      0\n",
       "store_and_fwd_flag    0\n",
       "trip_duration         0\n",
       "dtype: int64"
      ]
     },
     "execution_count": 4,
     "metadata": {},
     "output_type": "execute_result"
    }
   ],
   "source": [
    "data.isnull().sum()"
   ]
  },
  {
   "cell_type": "code",
   "execution_count": 5,
   "id": "a869c7d1",
   "metadata": {
    "scrolled": true
   },
   "outputs": [
    {
     "data": {
      "text/plain": [
       "id                     object\n",
       "vendor_id               int64\n",
       "pickup_datetime        object\n",
       "dropoff_datetime       object\n",
       "passenger_count         int64\n",
       "pickup_longitude      float64\n",
       "pickup_latitude       float64\n",
       "dropoff_longitude     float64\n",
       "dropoff_latitude      float64\n",
       "store_and_fwd_flag     object\n",
       "trip_duration           int64\n",
       "dtype: object"
      ]
     },
     "execution_count": 5,
     "metadata": {},
     "output_type": "execute_result"
    }
   ],
   "source": [
    "data.dtypes"
   ]
  },
  {
   "cell_type": "code",
   "execution_count": 6,
   "id": "4bc58656",
   "metadata": {},
   "outputs": [],
   "source": [
    "# converting strings to datetime features\n",
    "\n",
    "data['pickup_datetime'] = pd.to_datetime(data.pickup_datetime)\n",
    "data['dropoff_datetime'] = pd.to_datetime(data.dropoff_datetime)"
   ]
  },
  {
   "cell_type": "code",
   "execution_count": 7,
   "id": "ace2f61b",
   "metadata": {},
   "outputs": [],
   "source": [
    "data['day_of_week'] = data['pickup_datetime'].dt.weekday\n",
    "data['hour_of_day'] = data['pickup_datetime'].dt.hour"
   ]
  },
  {
   "cell_type": "code",
   "execution_count": 8,
   "id": "fe70326c",
   "metadata": {},
   "outputs": [
    {
     "data": {
      "text/html": [
       "<div>\n",
       "<style scoped>\n",
       "    .dataframe tbody tr th:only-of-type {\n",
       "        vertical-align: middle;\n",
       "    }\n",
       "\n",
       "    .dataframe tbody tr th {\n",
       "        vertical-align: top;\n",
       "    }\n",
       "\n",
       "    .dataframe thead th {\n",
       "        text-align: right;\n",
       "    }\n",
       "</style>\n",
       "<table border=\"1\" class=\"dataframe\">\n",
       "  <thead>\n",
       "    <tr style=\"text-align: right;\">\n",
       "      <th></th>\n",
       "      <th>vendor_id</th>\n",
       "      <th>passenger_count</th>\n",
       "      <th>pickup_longitude</th>\n",
       "      <th>pickup_latitude</th>\n",
       "      <th>dropoff_longitude</th>\n",
       "      <th>dropoff_latitude</th>\n",
       "      <th>trip_duration</th>\n",
       "      <th>day_of_week</th>\n",
       "      <th>hour_of_day</th>\n",
       "    </tr>\n",
       "  </thead>\n",
       "  <tbody>\n",
       "    <tr>\n",
       "      <th>count</th>\n",
       "      <td>729322.000000</td>\n",
       "      <td>729322.000000</td>\n",
       "      <td>729322.000000</td>\n",
       "      <td>729322.000000</td>\n",
       "      <td>729322.000000</td>\n",
       "      <td>729322.000000</td>\n",
       "      <td>7.293220e+05</td>\n",
       "      <td>729322.000000</td>\n",
       "      <td>729322.000000</td>\n",
       "    </tr>\n",
       "    <tr>\n",
       "      <th>mean</th>\n",
       "      <td>1.535403</td>\n",
       "      <td>1.662055</td>\n",
       "      <td>-73.973513</td>\n",
       "      <td>40.750919</td>\n",
       "      <td>-73.973422</td>\n",
       "      <td>40.751775</td>\n",
       "      <td>9.522291e+02</td>\n",
       "      <td>3.049081</td>\n",
       "      <td>13.611698</td>\n",
       "    </tr>\n",
       "    <tr>\n",
       "      <th>std</th>\n",
       "      <td>0.498745</td>\n",
       "      <td>1.312446</td>\n",
       "      <td>0.069754</td>\n",
       "      <td>0.033594</td>\n",
       "      <td>0.069588</td>\n",
       "      <td>0.036037</td>\n",
       "      <td>3.864626e+03</td>\n",
       "      <td>1.954470</td>\n",
       "      <td>6.402853</td>\n",
       "    </tr>\n",
       "    <tr>\n",
       "      <th>min</th>\n",
       "      <td>1.000000</td>\n",
       "      <td>0.000000</td>\n",
       "      <td>-121.933342</td>\n",
       "      <td>34.712234</td>\n",
       "      <td>-121.933304</td>\n",
       "      <td>32.181141</td>\n",
       "      <td>1.000000e+00</td>\n",
       "      <td>0.000000</td>\n",
       "      <td>0.000000</td>\n",
       "    </tr>\n",
       "    <tr>\n",
       "      <th>25%</th>\n",
       "      <td>1.000000</td>\n",
       "      <td>1.000000</td>\n",
       "      <td>-73.991859</td>\n",
       "      <td>40.737335</td>\n",
       "      <td>-73.991318</td>\n",
       "      <td>40.735931</td>\n",
       "      <td>3.970000e+02</td>\n",
       "      <td>1.000000</td>\n",
       "      <td>9.000000</td>\n",
       "    </tr>\n",
       "    <tr>\n",
       "      <th>50%</th>\n",
       "      <td>2.000000</td>\n",
       "      <td>1.000000</td>\n",
       "      <td>-73.981758</td>\n",
       "      <td>40.754070</td>\n",
       "      <td>-73.979759</td>\n",
       "      <td>40.754509</td>\n",
       "      <td>6.630000e+02</td>\n",
       "      <td>3.000000</td>\n",
       "      <td>14.000000</td>\n",
       "    </tr>\n",
       "    <tr>\n",
       "      <th>75%</th>\n",
       "      <td>2.000000</td>\n",
       "      <td>2.000000</td>\n",
       "      <td>-73.967361</td>\n",
       "      <td>40.768314</td>\n",
       "      <td>-73.963036</td>\n",
       "      <td>40.769741</td>\n",
       "      <td>1.075000e+03</td>\n",
       "      <td>5.000000</td>\n",
       "      <td>19.000000</td>\n",
       "    </tr>\n",
       "    <tr>\n",
       "      <th>max</th>\n",
       "      <td>2.000000</td>\n",
       "      <td>9.000000</td>\n",
       "      <td>-65.897385</td>\n",
       "      <td>51.881084</td>\n",
       "      <td>-65.897385</td>\n",
       "      <td>43.921028</td>\n",
       "      <td>1.939736e+06</td>\n",
       "      <td>6.000000</td>\n",
       "      <td>23.000000</td>\n",
       "    </tr>\n",
       "  </tbody>\n",
       "</table>\n",
       "</div>"
      ],
      "text/plain": [
       "           vendor_id  passenger_count  pickup_longitude  pickup_latitude  \\\n",
       "count  729322.000000    729322.000000     729322.000000    729322.000000   \n",
       "mean        1.535403         1.662055        -73.973513        40.750919   \n",
       "std         0.498745         1.312446          0.069754         0.033594   \n",
       "min         1.000000         0.000000       -121.933342        34.712234   \n",
       "25%         1.000000         1.000000        -73.991859        40.737335   \n",
       "50%         2.000000         1.000000        -73.981758        40.754070   \n",
       "75%         2.000000         2.000000        -73.967361        40.768314   \n",
       "max         2.000000         9.000000        -65.897385        51.881084   \n",
       "\n",
       "       dropoff_longitude  dropoff_latitude  trip_duration    day_of_week  \\\n",
       "count      729322.000000     729322.000000   7.293220e+05  729322.000000   \n",
       "mean          -73.973422         40.751775   9.522291e+02       3.049081   \n",
       "std             0.069588          0.036037   3.864626e+03       1.954470   \n",
       "min          -121.933304         32.181141   1.000000e+00       0.000000   \n",
       "25%           -73.991318         40.735931   3.970000e+02       1.000000   \n",
       "50%           -73.979759         40.754509   6.630000e+02       3.000000   \n",
       "75%           -73.963036         40.769741   1.075000e+03       5.000000   \n",
       "max           -65.897385         43.921028   1.939736e+06       6.000000   \n",
       "\n",
       "         hour_of_day  \n",
       "count  729322.000000  \n",
       "mean       13.611698  \n",
       "std         6.402853  \n",
       "min         0.000000  \n",
       "25%         9.000000  \n",
       "50%        14.000000  \n",
       "75%        19.000000  \n",
       "max        23.000000  "
      ]
     },
     "execution_count": 8,
     "metadata": {},
     "output_type": "execute_result"
    }
   ],
   "source": [
    "data.describe()"
   ]
  },
  {
   "cell_type": "markdown",
   "id": "85d2eadf",
   "metadata": {},
   "source": [
    "## In this project, following are the tasks you have to complete and submit in a .zip file.\n",
    "## Q1. Choose the most suitable evaluation metric and state why you chose it."
   ]
  },
  {
   "cell_type": "markdown",
   "id": "53fb128a",
   "metadata": {},
   "source": [
    "The most suitable evaluation metric for the given dataset is Mean Squared Error. As the formula for mean squared error is comprised of square of difference between the predicted value and acual value of target variable. Which will lead to the bigger error value and help us to detect the small errors.\n",
    "\n",
    "---"
   ]
  },
  {
   "cell_type": "markdown",
   "id": "7cdd0441",
   "metadata": {},
   "source": [
    "## Q2. Build a benchmark model for the given dataset."
   ]
  },
  {
   "cell_type": "markdown",
   "id": "71618ea9",
   "metadata": {},
   "source": [
    "### Shuffling and Creating Train and Test Set"
   ]
  },
  {
   "cell_type": "code",
   "execution_count": 9,
   "id": "e70553bc",
   "metadata": {},
   "outputs": [],
   "source": [
    "from sklearn.utils import shuffle\n",
    "\n",
    "# Shuffling the Dataset\n",
    "data = shuffle(data, random_state = 42)\n",
    "\n",
    "#creating 4 divisions\n",
    "div = int(data.shape[0]/4)\n",
    "\n",
    "# 3 parts to train set and 1 part to test set\n",
    "train = data.loc[:3*div+1,:]\n",
    "test = data.loc[3*div+1:]"
   ]
  },
  {
   "cell_type": "code",
   "execution_count": 10,
   "id": "c3d18d9d",
   "metadata": {
    "scrolled": true
   },
   "outputs": [
    {
     "data": {
      "text/html": [
       "<div>\n",
       "<style scoped>\n",
       "    .dataframe tbody tr th:only-of-type {\n",
       "        vertical-align: middle;\n",
       "    }\n",
       "\n",
       "    .dataframe tbody tr th {\n",
       "        vertical-align: top;\n",
       "    }\n",
       "\n",
       "    .dataframe thead th {\n",
       "        text-align: right;\n",
       "    }\n",
       "</style>\n",
       "<table border=\"1\" class=\"dataframe\">\n",
       "  <thead>\n",
       "    <tr style=\"text-align: right;\">\n",
       "      <th></th>\n",
       "      <th>id</th>\n",
       "      <th>vendor_id</th>\n",
       "      <th>pickup_datetime</th>\n",
       "      <th>dropoff_datetime</th>\n",
       "      <th>passenger_count</th>\n",
       "      <th>pickup_longitude</th>\n",
       "      <th>pickup_latitude</th>\n",
       "      <th>dropoff_longitude</th>\n",
       "      <th>dropoff_latitude</th>\n",
       "      <th>store_and_fwd_flag</th>\n",
       "      <th>trip_duration</th>\n",
       "      <th>day_of_week</th>\n",
       "      <th>hour_of_day</th>\n",
       "    </tr>\n",
       "  </thead>\n",
       "  <tbody>\n",
       "    <tr>\n",
       "      <th>469114</th>\n",
       "      <td>id2380741</td>\n",
       "      <td>2</td>\n",
       "      <td>2016-05-21 10:40:14</td>\n",
       "      <td>2016-05-21 10:51:11</td>\n",
       "      <td>1</td>\n",
       "      <td>-73.981796</td>\n",
       "      <td>40.762035</td>\n",
       "      <td>-73.972267</td>\n",
       "      <td>40.781265</td>\n",
       "      <td>N</td>\n",
       "      <td>657</td>\n",
       "      <td>5</td>\n",
       "      <td>10</td>\n",
       "    </tr>\n",
       "    <tr>\n",
       "      <th>694852</th>\n",
       "      <td>id3946961</td>\n",
       "      <td>2</td>\n",
       "      <td>2016-01-08 18:49:27</td>\n",
       "      <td>2016-01-08 18:52:42</td>\n",
       "      <td>5</td>\n",
       "      <td>-73.980965</td>\n",
       "      <td>40.747677</td>\n",
       "      <td>-73.982704</td>\n",
       "      <td>40.741161</td>\n",
       "      <td>N</td>\n",
       "      <td>195</td>\n",
       "      <td>4</td>\n",
       "      <td>18</td>\n",
       "    </tr>\n",
       "    <tr>\n",
       "      <th>696324</th>\n",
       "      <td>id0833913</td>\n",
       "      <td>1</td>\n",
       "      <td>2016-05-22 00:54:10</td>\n",
       "      <td>2016-05-22 01:08:10</td>\n",
       "      <td>1</td>\n",
       "      <td>-73.951065</td>\n",
       "      <td>40.782722</td>\n",
       "      <td>-73.867691</td>\n",
       "      <td>40.833664</td>\n",
       "      <td>N</td>\n",
       "      <td>840</td>\n",
       "      <td>6</td>\n",
       "      <td>0</td>\n",
       "    </tr>\n",
       "    <tr>\n",
       "      <th>356496</th>\n",
       "      <td>id1336849</td>\n",
       "      <td>1</td>\n",
       "      <td>2016-06-11 10:32:12</td>\n",
       "      <td>2016-06-11 10:38:50</td>\n",
       "      <td>1</td>\n",
       "      <td>-73.987625</td>\n",
       "      <td>40.762791</td>\n",
       "      <td>-73.973518</td>\n",
       "      <td>40.762909</td>\n",
       "      <td>N</td>\n",
       "      <td>398</td>\n",
       "      <td>5</td>\n",
       "      <td>10</td>\n",
       "    </tr>\n",
       "    <tr>\n",
       "      <th>645318</th>\n",
       "      <td>id1610858</td>\n",
       "      <td>1</td>\n",
       "      <td>2016-04-03 10:45:51</td>\n",
       "      <td>2016-04-03 10:57:13</td>\n",
       "      <td>3</td>\n",
       "      <td>-73.964333</td>\n",
       "      <td>40.792503</td>\n",
       "      <td>-73.988609</td>\n",
       "      <td>40.758369</td>\n",
       "      <td>N</td>\n",
       "      <td>682</td>\n",
       "      <td>6</td>\n",
       "      <td>10</td>\n",
       "    </tr>\n",
       "  </tbody>\n",
       "</table>\n",
       "</div>"
      ],
      "text/plain": [
       "               id  vendor_id     pickup_datetime    dropoff_datetime  \\\n",
       "469114  id2380741          2 2016-05-21 10:40:14 2016-05-21 10:51:11   \n",
       "694852  id3946961          2 2016-01-08 18:49:27 2016-01-08 18:52:42   \n",
       "696324  id0833913          1 2016-05-22 00:54:10 2016-05-22 01:08:10   \n",
       "356496  id1336849          1 2016-06-11 10:32:12 2016-06-11 10:38:50   \n",
       "645318  id1610858          1 2016-04-03 10:45:51 2016-04-03 10:57:13   \n",
       "\n",
       "        passenger_count  pickup_longitude  pickup_latitude  dropoff_longitude  \\\n",
       "469114                1        -73.981796        40.762035         -73.972267   \n",
       "694852                5        -73.980965        40.747677         -73.982704   \n",
       "696324                1        -73.951065        40.782722         -73.867691   \n",
       "356496                1        -73.987625        40.762791         -73.973518   \n",
       "645318                3        -73.964333        40.792503         -73.988609   \n",
       "\n",
       "        dropoff_latitude store_and_fwd_flag  trip_duration  day_of_week  \\\n",
       "469114         40.781265                  N            657            5   \n",
       "694852         40.741161                  N            195            4   \n",
       "696324         40.833664                  N            840            6   \n",
       "356496         40.762909                  N            398            5   \n",
       "645318         40.758369                  N            682            6   \n",
       "\n",
       "        hour_of_day  \n",
       "469114           10  \n",
       "694852           18  \n",
       "696324            0  \n",
       "356496           10  \n",
       "645318           10  "
      ]
     },
     "execution_count": 10,
     "metadata": {},
     "output_type": "execute_result"
    }
   ],
   "source": [
    "train.head()"
   ]
  },
  {
   "cell_type": "code",
   "execution_count": 11,
   "id": "e523c58d",
   "metadata": {},
   "outputs": [
    {
     "data": {
      "text/html": [
       "<div>\n",
       "<style scoped>\n",
       "    .dataframe tbody tr th:only-of-type {\n",
       "        vertical-align: middle;\n",
       "    }\n",
       "\n",
       "    .dataframe tbody tr th {\n",
       "        vertical-align: top;\n",
       "    }\n",
       "\n",
       "    .dataframe thead th {\n",
       "        text-align: right;\n",
       "    }\n",
       "</style>\n",
       "<table border=\"1\" class=\"dataframe\">\n",
       "  <thead>\n",
       "    <tr style=\"text-align: right;\">\n",
       "      <th></th>\n",
       "      <th>id</th>\n",
       "      <th>vendor_id</th>\n",
       "      <th>pickup_datetime</th>\n",
       "      <th>dropoff_datetime</th>\n",
       "      <th>passenger_count</th>\n",
       "      <th>pickup_longitude</th>\n",
       "      <th>pickup_latitude</th>\n",
       "      <th>dropoff_longitude</th>\n",
       "      <th>dropoff_latitude</th>\n",
       "      <th>store_and_fwd_flag</th>\n",
       "      <th>trip_duration</th>\n",
       "      <th>day_of_week</th>\n",
       "      <th>hour_of_day</th>\n",
       "    </tr>\n",
       "  </thead>\n",
       "  <tbody>\n",
       "    <tr>\n",
       "      <th>546991</th>\n",
       "      <td>id2240736</td>\n",
       "      <td>1</td>\n",
       "      <td>2016-05-25 07:59:16</td>\n",
       "      <td>2016-05-25 08:05:02</td>\n",
       "      <td>1</td>\n",
       "      <td>-73.991364</td>\n",
       "      <td>40.732590</td>\n",
       "      <td>-74.000526</td>\n",
       "      <td>40.742283</td>\n",
       "      <td>N</td>\n",
       "      <td>346</td>\n",
       "      <td>2</td>\n",
       "      <td>7</td>\n",
       "    </tr>\n",
       "    <tr>\n",
       "      <th>43126</th>\n",
       "      <td>id1423404</td>\n",
       "      <td>1</td>\n",
       "      <td>2016-01-18 12:17:13</td>\n",
       "      <td>2016-01-18 12:21:13</td>\n",
       "      <td>2</td>\n",
       "      <td>-73.966225</td>\n",
       "      <td>40.768059</td>\n",
       "      <td>-73.967606</td>\n",
       "      <td>40.763073</td>\n",
       "      <td>N</td>\n",
       "      <td>240</td>\n",
       "      <td>0</td>\n",
       "      <td>12</td>\n",
       "    </tr>\n",
       "    <tr>\n",
       "      <th>641450</th>\n",
       "      <td>id1317268</td>\n",
       "      <td>2</td>\n",
       "      <td>2016-03-02 18:39:01</td>\n",
       "      <td>2016-03-02 18:50:12</td>\n",
       "      <td>1</td>\n",
       "      <td>-73.994926</td>\n",
       "      <td>40.766018</td>\n",
       "      <td>-74.004219</td>\n",
       "      <td>40.742523</td>\n",
       "      <td>N</td>\n",
       "      <td>671</td>\n",
       "      <td>2</td>\n",
       "      <td>18</td>\n",
       "    </tr>\n",
       "    <tr>\n",
       "      <th>611380</th>\n",
       "      <td>id3335546</td>\n",
       "      <td>1</td>\n",
       "      <td>2016-04-06 19:17:20</td>\n",
       "      <td>2016-04-06 19:18:03</td>\n",
       "      <td>1</td>\n",
       "      <td>-73.974388</td>\n",
       "      <td>40.793781</td>\n",
       "      <td>-73.976006</td>\n",
       "      <td>40.792339</td>\n",
       "      <td>N</td>\n",
       "      <td>43</td>\n",
       "      <td>2</td>\n",
       "      <td>19</td>\n",
       "    </tr>\n",
       "    <tr>\n",
       "      <th>62690</th>\n",
       "      <td>id2174190</td>\n",
       "      <td>2</td>\n",
       "      <td>2016-06-21 18:35:31</td>\n",
       "      <td>2016-06-21 18:40:56</td>\n",
       "      <td>3</td>\n",
       "      <td>-73.963440</td>\n",
       "      <td>40.798557</td>\n",
       "      <td>-73.979736</td>\n",
       "      <td>40.777878</td>\n",
       "      <td>N</td>\n",
       "      <td>325</td>\n",
       "      <td>1</td>\n",
       "      <td>18</td>\n",
       "    </tr>\n",
       "  </tbody>\n",
       "</table>\n",
       "</div>"
      ],
      "text/plain": [
       "               id  vendor_id     pickup_datetime    dropoff_datetime  \\\n",
       "546991  id2240736          1 2016-05-25 07:59:16 2016-05-25 08:05:02   \n",
       "43126   id1423404          1 2016-01-18 12:17:13 2016-01-18 12:21:13   \n",
       "641450  id1317268          2 2016-03-02 18:39:01 2016-03-02 18:50:12   \n",
       "611380  id3335546          1 2016-04-06 19:17:20 2016-04-06 19:18:03   \n",
       "62690   id2174190          2 2016-06-21 18:35:31 2016-06-21 18:40:56   \n",
       "\n",
       "        passenger_count  pickup_longitude  pickup_latitude  dropoff_longitude  \\\n",
       "546991                1        -73.991364        40.732590         -74.000526   \n",
       "43126                 2        -73.966225        40.768059         -73.967606   \n",
       "641450                1        -73.994926        40.766018         -74.004219   \n",
       "611380                1        -73.974388        40.793781         -73.976006   \n",
       "62690                 3        -73.963440        40.798557         -73.979736   \n",
       "\n",
       "        dropoff_latitude store_and_fwd_flag  trip_duration  day_of_week  \\\n",
       "546991         40.742283                  N            346            2   \n",
       "43126          40.763073                  N            240            0   \n",
       "641450         40.742523                  N            671            2   \n",
       "611380         40.792339                  N             43            2   \n",
       "62690          40.777878                  N            325            1   \n",
       "\n",
       "        hour_of_day  \n",
       "546991            7  \n",
       "43126            12  \n",
       "641450           18  \n",
       "611380           19  \n",
       "62690            18  "
      ]
     },
     "execution_count": 11,
     "metadata": {},
     "output_type": "execute_result"
    }
   ],
   "source": [
    "test.head()"
   ]
  },
  {
   "cell_type": "markdown",
   "id": "5bc28cd2",
   "metadata": {},
   "source": [
    "### Simple Mean ( mean of trip_duration)"
   ]
  },
  {
   "cell_type": "code",
   "execution_count": 12,
   "id": "109beb8f",
   "metadata": {},
   "outputs": [],
   "source": [
    "# storing simple mean in a new column in the test set as \"simple_mean\"\n",
    "test['simple_mean'] = train['trip_duration'].mean()"
   ]
  },
  {
   "cell_type": "code",
   "execution_count": 13,
   "id": "a755f531",
   "metadata": {},
   "outputs": [
    {
     "data": {
      "text/plain": [
       "546991    951.586402\n",
       "43126     951.586402\n",
       "641450    951.586402\n",
       "611380    951.586402\n",
       "62690     951.586402\n",
       "             ...    \n",
       "259178    951.586402\n",
       "365838    951.586402\n",
       "131932    951.586402\n",
       "671155    951.586402\n",
       "121958    951.586402\n",
       "Name: simple_mean, Length: 139872, dtype: float64"
      ]
     },
     "execution_count": 13,
     "metadata": {},
     "output_type": "execute_result"
    }
   ],
   "source": [
    "test['simple_mean']"
   ]
  },
  {
   "cell_type": "code",
   "execution_count": 14,
   "id": "bf36da06",
   "metadata": {},
   "outputs": [
    {
     "data": {
      "text/plain": [
       "621.9954570969938"
      ]
     },
     "execution_count": 14,
     "metadata": {},
     "output_type": "execute_result"
    }
   ],
   "source": [
    "#calculating mean absolute error\n",
    "from sklearn.metrics import mean_absolute_error as MAE\n",
    "\n",
    "simple_mean_error = MAE(test['trip_duration'] , test['simple_mean'])\n",
    "simple_mean_error"
   ]
  },
  {
   "cell_type": "markdown",
   "id": "4c6bbd68",
   "metadata": {},
   "source": [
    "### Mean Trip Duration with respect to Day of Week"
   ]
  },
  {
   "cell_type": "code",
   "execution_count": 15,
   "id": "b4a6b19a",
   "metadata": {
    "scrolled": true
   },
   "outputs": [
    {
     "data": {
      "text/html": [
       "<div>\n",
       "<style scoped>\n",
       "    .dataframe tbody tr th:only-of-type {\n",
       "        vertical-align: middle;\n",
       "    }\n",
       "\n",
       "    .dataframe tbody tr th {\n",
       "        vertical-align: top;\n",
       "    }\n",
       "\n",
       "    .dataframe thead th {\n",
       "        text-align: right;\n",
       "    }\n",
       "</style>\n",
       "<table border=\"1\" class=\"dataframe\">\n",
       "  <thead>\n",
       "    <tr style=\"text-align: right;\">\n",
       "      <th></th>\n",
       "      <th>trip_duration</th>\n",
       "    </tr>\n",
       "    <tr>\n",
       "      <th>day_of_week</th>\n",
       "      <th></th>\n",
       "    </tr>\n",
       "  </thead>\n",
       "  <tbody>\n",
       "    <tr>\n",
       "      <th>0</th>\n",
       "      <td>890.012810</td>\n",
       "    </tr>\n",
       "    <tr>\n",
       "      <th>1</th>\n",
       "      <td>984.251885</td>\n",
       "    </tr>\n",
       "    <tr>\n",
       "      <th>2</th>\n",
       "      <td>973.047004</td>\n",
       "    </tr>\n",
       "    <tr>\n",
       "      <th>3</th>\n",
       "      <td>1005.146720</td>\n",
       "    </tr>\n",
       "    <tr>\n",
       "      <th>4</th>\n",
       "      <td>989.699815</td>\n",
       "    </tr>\n",
       "    <tr>\n",
       "      <th>5</th>\n",
       "      <td>918.067036</td>\n",
       "    </tr>\n",
       "    <tr>\n",
       "      <th>6</th>\n",
       "      <td>888.431043</td>\n",
       "    </tr>\n",
       "  </tbody>\n",
       "</table>\n",
       "</div>"
      ],
      "text/plain": [
       "             trip_duration\n",
       "day_of_week               \n",
       "0               890.012810\n",
       "1               984.251885\n",
       "2               973.047004\n",
       "3              1005.146720\n",
       "4               989.699815\n",
       "5               918.067036\n",
       "6               888.431043"
      ]
     },
     "execution_count": 15,
     "metadata": {},
     "output_type": "execute_result"
    }
   ],
   "source": [
    "day_of_week = pd.pivot_table(train, values='trip_duration', index = ['day_of_week'], aggfunc=np.mean)\n",
    "day_of_week"
   ]
  },
  {
   "cell_type": "code",
   "execution_count": 16,
   "id": "3550f610",
   "metadata": {},
   "outputs": [],
   "source": [
    "# initializing new column to zero\n",
    "test['day_of_week_mean'] = 0\n",
    "\n",
    "# For every unique entry in Outlet_Identifier\n",
    "for i in train['day_of_week'].unique():\n",
    "  # Assign the mean value corresponding to unique entry\n",
    "  test['day_of_week_mean'][test['day_of_week'] == i] = train['trip_duration'][train['day_of_week'] == i].mean()"
   ]
  },
  {
   "cell_type": "code",
   "execution_count": 17,
   "id": "ac728bd1",
   "metadata": {},
   "outputs": [
    {
     "data": {
      "text/plain": [
       "620.6622607467708"
      ]
     },
     "execution_count": 17,
     "metadata": {},
     "output_type": "execute_result"
    }
   ],
   "source": [
    "#calculating mean absolute error\n",
    "day_of_week_error = MAE(test['trip_duration'] , test['day_of_week_mean'] )\n",
    "day_of_week_error"
   ]
  },
  {
   "cell_type": "markdown",
   "id": "2e26d10d",
   "metadata": {},
   "source": [
    "### Mean Trip Duration with respect to Hour of Day"
   ]
  },
  {
   "cell_type": "code",
   "execution_count": 18,
   "id": "71388110",
   "metadata": {
    "scrolled": false
   },
   "outputs": [
    {
     "data": {
      "text/html": [
       "<div>\n",
       "<style scoped>\n",
       "    .dataframe tbody tr th:only-of-type {\n",
       "        vertical-align: middle;\n",
       "    }\n",
       "\n",
       "    .dataframe tbody tr th {\n",
       "        vertical-align: top;\n",
       "    }\n",
       "\n",
       "    .dataframe thead th {\n",
       "        text-align: right;\n",
       "    }\n",
       "</style>\n",
       "<table border=\"1\" class=\"dataframe\">\n",
       "  <thead>\n",
       "    <tr style=\"text-align: right;\">\n",
       "      <th></th>\n",
       "      <th>trip_duration</th>\n",
       "    </tr>\n",
       "    <tr>\n",
       "      <th>hour_of_day</th>\n",
       "      <th></th>\n",
       "    </tr>\n",
       "  </thead>\n",
       "  <tbody>\n",
       "    <tr>\n",
       "      <th>0</th>\n",
       "      <td>982.268516</td>\n",
       "    </tr>\n",
       "    <tr>\n",
       "      <th>1</th>\n",
       "      <td>915.598624</td>\n",
       "    </tr>\n",
       "    <tr>\n",
       "      <th>2</th>\n",
       "      <td>853.385638</td>\n",
       "    </tr>\n",
       "    <tr>\n",
       "      <th>3</th>\n",
       "      <td>886.535977</td>\n",
       "    </tr>\n",
       "    <tr>\n",
       "      <th>4</th>\n",
       "      <td>890.512498</td>\n",
       "    </tr>\n",
       "    <tr>\n",
       "      <th>5</th>\n",
       "      <td>829.845634</td>\n",
       "    </tr>\n",
       "    <tr>\n",
       "      <th>6</th>\n",
       "      <td>726.336661</td>\n",
       "    </tr>\n",
       "    <tr>\n",
       "      <th>7</th>\n",
       "      <td>812.179002</td>\n",
       "    </tr>\n",
       "    <tr>\n",
       "      <th>8</th>\n",
       "      <td>937.732130</td>\n",
       "    </tr>\n",
       "    <tr>\n",
       "      <th>9</th>\n",
       "      <td>930.980245</td>\n",
       "    </tr>\n",
       "    <tr>\n",
       "      <th>10</th>\n",
       "      <td>951.272356</td>\n",
       "    </tr>\n",
       "    <tr>\n",
       "      <th>11</th>\n",
       "      <td>950.944420</td>\n",
       "    </tr>\n",
       "    <tr>\n",
       "      <th>12</th>\n",
       "      <td>979.790870</td>\n",
       "    </tr>\n",
       "    <tr>\n",
       "      <th>13</th>\n",
       "      <td>1014.624609</td>\n",
       "    </tr>\n",
       "    <tr>\n",
       "      <th>14</th>\n",
       "      <td>1084.491606</td>\n",
       "    </tr>\n",
       "    <tr>\n",
       "      <th>15</th>\n",
       "      <td>1117.583598</td>\n",
       "    </tr>\n",
       "    <tr>\n",
       "      <th>16</th>\n",
       "      <td>1093.067599</td>\n",
       "    </tr>\n",
       "    <tr>\n",
       "      <th>17</th>\n",
       "      <td>1041.374211</td>\n",
       "    </tr>\n",
       "    <tr>\n",
       "      <th>18</th>\n",
       "      <td>981.165605</td>\n",
       "    </tr>\n",
       "    <tr>\n",
       "      <th>19</th>\n",
       "      <td>895.084902</td>\n",
       "    </tr>\n",
       "    <tr>\n",
       "      <th>20</th>\n",
       "      <td>848.850640</td>\n",
       "    </tr>\n",
       "    <tr>\n",
       "      <th>21</th>\n",
       "      <td>889.002788</td>\n",
       "    </tr>\n",
       "    <tr>\n",
       "      <th>22</th>\n",
       "      <td>938.585268</td>\n",
       "    </tr>\n",
       "    <tr>\n",
       "      <th>23</th>\n",
       "      <td>916.715693</td>\n",
       "    </tr>\n",
       "  </tbody>\n",
       "</table>\n",
       "</div>"
      ],
      "text/plain": [
       "             trip_duration\n",
       "hour_of_day               \n",
       "0               982.268516\n",
       "1               915.598624\n",
       "2               853.385638\n",
       "3               886.535977\n",
       "4               890.512498\n",
       "5               829.845634\n",
       "6               726.336661\n",
       "7               812.179002\n",
       "8               937.732130\n",
       "9               930.980245\n",
       "10              951.272356\n",
       "11              950.944420\n",
       "12              979.790870\n",
       "13             1014.624609\n",
       "14             1084.491606\n",
       "15             1117.583598\n",
       "16             1093.067599\n",
       "17             1041.374211\n",
       "18              981.165605\n",
       "19              895.084902\n",
       "20              848.850640\n",
       "21              889.002788\n",
       "22              938.585268\n",
       "23              916.715693"
      ]
     },
     "execution_count": 18,
     "metadata": {},
     "output_type": "execute_result"
    }
   ],
   "source": [
    "hour_of_day = pd.pivot_table(train, values='trip_duration', index = ['hour_of_day'], aggfunc=np.mean)\n",
    "hour_of_day"
   ]
  },
  {
   "cell_type": "code",
   "execution_count": 19,
   "id": "85d6378c",
   "metadata": {},
   "outputs": [],
   "source": [
    "# initializing new column to zero\n",
    "test['hour_of_day_mean'] = 0\n",
    "\n",
    "# For every unique entry in Outlet_Identifier\n",
    "for i in train['hour_of_day'].unique():\n",
    "  # Assign the mean value corresponding to unique entry\n",
    "  test['hour_of_day_mean'][test['hour_of_day'] == i] = train['trip_duration'][train['hour_of_day'] == i].mean()"
   ]
  },
  {
   "cell_type": "code",
   "execution_count": 20,
   "id": "b8029192",
   "metadata": {},
   "outputs": [
    {
     "data": {
      "text/plain": [
       "620.3242746375885"
      ]
     },
     "execution_count": 20,
     "metadata": {},
     "output_type": "execute_result"
    }
   ],
   "source": [
    "#calculating mean absolute error\n",
    "hour_of_day_error = MAE(test['trip_duration'] , test['hour_of_day_mean'] )\n",
    "hour_of_day_error"
   ]
  },
  {
   "cell_type": "markdown",
   "id": "048a0e80",
   "metadata": {},
   "source": [
    "### Mean Trip Duration with respect to Vendor ID"
   ]
  },
  {
   "cell_type": "code",
   "execution_count": 21,
   "id": "4548ccca",
   "metadata": {
    "scrolled": false
   },
   "outputs": [
    {
     "data": {
      "text/html": [
       "<div>\n",
       "<style scoped>\n",
       "    .dataframe tbody tr th:only-of-type {\n",
       "        vertical-align: middle;\n",
       "    }\n",
       "\n",
       "    .dataframe tbody tr th {\n",
       "        vertical-align: top;\n",
       "    }\n",
       "\n",
       "    .dataframe thead th {\n",
       "        text-align: right;\n",
       "    }\n",
       "</style>\n",
       "<table border=\"1\" class=\"dataframe\">\n",
       "  <thead>\n",
       "    <tr style=\"text-align: right;\">\n",
       "      <th></th>\n",
       "      <th>trip_duration</th>\n",
       "    </tr>\n",
       "    <tr>\n",
       "      <th>vendor_id</th>\n",
       "      <th></th>\n",
       "    </tr>\n",
       "  </thead>\n",
       "  <tbody>\n",
       "    <tr>\n",
       "      <th>1</th>\n",
       "      <td>838.174354</td>\n",
       "    </tr>\n",
       "    <tr>\n",
       "      <th>2</th>\n",
       "      <td>1049.946134</td>\n",
       "    </tr>\n",
       "  </tbody>\n",
       "</table>\n",
       "</div>"
      ],
      "text/plain": [
       "           trip_duration\n",
       "vendor_id               \n",
       "1             838.174354\n",
       "2            1049.946134"
      ]
     },
     "execution_count": 21,
     "metadata": {},
     "output_type": "execute_result"
    }
   ],
   "source": [
    "vendor = pd.pivot_table(train, values='trip_duration', index = ['vendor_id'], aggfunc=np.mean)\n",
    "vendor"
   ]
  },
  {
   "cell_type": "code",
   "execution_count": 22,
   "id": "c3620226",
   "metadata": {},
   "outputs": [],
   "source": [
    "# initializing new column to zero\n",
    "test['vendor_id_mean'] = 0\n",
    "\n",
    "# For every unique entry in Outlet_Identifier\n",
    "for i in train['vendor_id'].unique():\n",
    "  # Assign the mean value corresponding to unique entry\n",
    "  test['vendor_id_mean'][test['vendor_id'] == i] = train['trip_duration'][train['vendor_id'] == i].mean()"
   ]
  },
  {
   "cell_type": "code",
   "execution_count": 23,
   "id": "b7b3b4a5",
   "metadata": {},
   "outputs": [
    {
     "data": {
      "text/plain": [
       "627.1274504364544"
      ]
     },
     "execution_count": 23,
     "metadata": {},
     "output_type": "execute_result"
    }
   ],
   "source": [
    "#calculating mean absolute error\n",
    "vendor_error = MAE(test['trip_duration'] , test['vendor_id_mean'] )\n",
    "vendor_error"
   ]
  },
  {
   "cell_type": "markdown",
   "id": "29cdefec",
   "metadata": {},
   "source": [
    "### Mean Trip Duration with respect to Passenger Count"
   ]
  },
  {
   "cell_type": "code",
   "execution_count": 24,
   "id": "aaeefc0b",
   "metadata": {},
   "outputs": [
    {
     "data": {
      "text/html": [
       "<div>\n",
       "<style scoped>\n",
       "    .dataframe tbody tr th:only-of-type {\n",
       "        vertical-align: middle;\n",
       "    }\n",
       "\n",
       "    .dataframe tbody tr th {\n",
       "        vertical-align: top;\n",
       "    }\n",
       "\n",
       "    .dataframe thead th {\n",
       "        text-align: right;\n",
       "    }\n",
       "</style>\n",
       "<table border=\"1\" class=\"dataframe\">\n",
       "  <thead>\n",
       "    <tr style=\"text-align: right;\">\n",
       "      <th></th>\n",
       "      <th>trip_duration</th>\n",
       "    </tr>\n",
       "    <tr>\n",
       "      <th>passenger_count</th>\n",
       "      <th></th>\n",
       "    </tr>\n",
       "  </thead>\n",
       "  <tbody>\n",
       "    <tr>\n",
       "      <th>0</th>\n",
       "      <td>334.733333</td>\n",
       "    </tr>\n",
       "    <tr>\n",
       "      <th>1</th>\n",
       "      <td>919.236280</td>\n",
       "    </tr>\n",
       "    <tr>\n",
       "      <th>2</th>\n",
       "      <td>1000.159939</td>\n",
       "    </tr>\n",
       "    <tr>\n",
       "      <th>3</th>\n",
       "      <td>1034.393923</td>\n",
       "    </tr>\n",
       "    <tr>\n",
       "      <th>4</th>\n",
       "      <td>1028.731304</td>\n",
       "    </tr>\n",
       "    <tr>\n",
       "      <th>5</th>\n",
       "      <td>1078.708147</td>\n",
       "    </tr>\n",
       "    <tr>\n",
       "      <th>6</th>\n",
       "      <td>1080.694100</td>\n",
       "    </tr>\n",
       "  </tbody>\n",
       "</table>\n",
       "</div>"
      ],
      "text/plain": [
       "                 trip_duration\n",
       "passenger_count               \n",
       "0                   334.733333\n",
       "1                   919.236280\n",
       "2                  1000.159939\n",
       "3                  1034.393923\n",
       "4                  1028.731304\n",
       "5                  1078.708147\n",
       "6                  1080.694100"
      ]
     },
     "execution_count": 24,
     "metadata": {},
     "output_type": "execute_result"
    }
   ],
   "source": [
    "passenger = pd.pivot_table(train, values='trip_duration', index = ['passenger_count'], aggfunc=np.mean)\n",
    "passenger"
   ]
  },
  {
   "cell_type": "code",
   "execution_count": 25,
   "id": "8a8241ff",
   "metadata": {},
   "outputs": [],
   "source": [
    "# initializing new column to zero\n",
    "test['passenger_count_mean'] = 0\n",
    "\n",
    "# For every unique entry in Outlet_Identifier\n",
    "for i in train['passenger_count'].unique():\n",
    "  # Assign the mean value corresponding to unique entry\n",
    "  test['passenger_count_mean'][test['passenger_count'] == i] = train['trip_duration'][train['passenger_count'] == i].mean()"
   ]
  },
  {
   "cell_type": "code",
   "execution_count": 26,
   "id": "511156b2",
   "metadata": {},
   "outputs": [
    {
     "data": {
      "text/plain": [
       "622.5222915139927"
      ]
     },
     "execution_count": 26,
     "metadata": {},
     "output_type": "execute_result"
    }
   ],
   "source": [
    "#calculating mean absolute error\n",
    "passenger_error = MAE(test['trip_duration'] , test['passenger_count_mean'] )\n",
    "passenger_error"
   ]
  },
  {
   "cell_type": "markdown",
   "id": "ba216096",
   "metadata": {},
   "source": [
    "### Mean Trip Duration with respect to both Vendor Id and Passenger Count"
   ]
  },
  {
   "cell_type": "code",
   "execution_count": 27,
   "id": "4fd95c06",
   "metadata": {},
   "outputs": [
    {
     "data": {
      "text/html": [
       "<div>\n",
       "<style scoped>\n",
       "    .dataframe tbody tr th:only-of-type {\n",
       "        vertical-align: middle;\n",
       "    }\n",
       "\n",
       "    .dataframe tbody tr th {\n",
       "        vertical-align: top;\n",
       "    }\n",
       "\n",
       "    .dataframe thead th {\n",
       "        text-align: right;\n",
       "    }\n",
       "</style>\n",
       "<table border=\"1\" class=\"dataframe\">\n",
       "  <thead>\n",
       "    <tr style=\"text-align: right;\">\n",
       "      <th></th>\n",
       "      <th></th>\n",
       "      <th>trip_duration</th>\n",
       "    </tr>\n",
       "    <tr>\n",
       "      <th>vendor_id</th>\n",
       "      <th>passenger_count</th>\n",
       "      <th></th>\n",
       "    </tr>\n",
       "  </thead>\n",
       "  <tbody>\n",
       "    <tr>\n",
       "      <th rowspan=\"7\" valign=\"top\">1</th>\n",
       "      <th>0</th>\n",
       "      <td>514.625000</td>\n",
       "    </tr>\n",
       "    <tr>\n",
       "      <th>1</th>\n",
       "      <td>815.544883</td>\n",
       "    </tr>\n",
       "    <tr>\n",
       "      <th>2</th>\n",
       "      <td>932.030630</td>\n",
       "    </tr>\n",
       "    <tr>\n",
       "      <th>3</th>\n",
       "      <td>935.655634</td>\n",
       "    </tr>\n",
       "    <tr>\n",
       "      <th>4</th>\n",
       "      <td>966.265018</td>\n",
       "    </tr>\n",
       "    <tr>\n",
       "      <th>5</th>\n",
       "      <td>936.784722</td>\n",
       "    </tr>\n",
       "    <tr>\n",
       "      <th>6</th>\n",
       "      <td>1133.650000</td>\n",
       "    </tr>\n",
       "    <tr>\n",
       "      <th rowspan=\"7\" valign=\"top\">2</th>\n",
       "      <th>0</th>\n",
       "      <td>129.142857</td>\n",
       "    </tr>\n",
       "    <tr>\n",
       "      <th>1</th>\n",
       "      <td>1037.136612</td>\n",
       "    </tr>\n",
       "    <tr>\n",
       "      <th>2</th>\n",
       "      <td>1053.281189</td>\n",
       "    </tr>\n",
       "    <tr>\n",
       "      <th>3</th>\n",
       "      <td>1095.370941</td>\n",
       "    </tr>\n",
       "    <tr>\n",
       "      <th>4</th>\n",
       "      <td>1074.578032</td>\n",
       "    </tr>\n",
       "    <tr>\n",
       "      <th>5</th>\n",
       "      <td>1079.358240</td>\n",
       "    </tr>\n",
       "    <tr>\n",
       "      <th>6</th>\n",
       "      <td>1080.531284</td>\n",
       "    </tr>\n",
       "  </tbody>\n",
       "</table>\n",
       "</div>"
      ],
      "text/plain": [
       "                           trip_duration\n",
       "vendor_id passenger_count               \n",
       "1         0                   514.625000\n",
       "          1                   815.544883\n",
       "          2                   932.030630\n",
       "          3                   935.655634\n",
       "          4                   966.265018\n",
       "          5                   936.784722\n",
       "          6                  1133.650000\n",
       "2         0                   129.142857\n",
       "          1                  1037.136612\n",
       "          2                  1053.281189\n",
       "          3                  1095.370941\n",
       "          4                  1074.578032\n",
       "          5                  1079.358240\n",
       "          6                  1080.531284"
      ]
     },
     "execution_count": 27,
     "metadata": {},
     "output_type": "execute_result"
    }
   ],
   "source": [
    "combo = pd.pivot_table(train, values = 'trip_duration', index = ['vendor_id','passenger_count'], aggfunc = np.mean)\n",
    "combo"
   ]
  },
  {
   "cell_type": "code",
   "execution_count": 28,
   "id": "be503599",
   "metadata": {},
   "outputs": [],
   "source": [
    "# Initiating new empty column\n",
    "test['Super_mean'] = 0\n",
    "\n",
    "# Assigning variables to strings ( to shorten code length)\n",
    "s1 = 'passenger_count'\n",
    "s2 = 'vendor_id'\n",
    "# For every Unique Value in s1\n",
    "for i in test[s1].unique():\n",
    "  # For every Unique Value in s2\n",
    "  for j in test[s2].unique():\n",
    "    # Calculate and Assign mean to new column, corresponding to both unique values of s1 and s2 simultaneously\n",
    "    test['Super_mean'][(test[s1] == i) & (test[s2]==str(j))] = train['trip_duration'][(train[s1] == i) & (train[s2]==str(j))].mean()"
   ]
  },
  {
   "cell_type": "code",
   "execution_count": 29,
   "id": "e6db257d",
   "metadata": {
    "scrolled": true
   },
   "outputs": [
    {
     "data": {
      "text/plain": [
       "954.9334105467856"
      ]
     },
     "execution_count": 29,
     "metadata": {},
     "output_type": "execute_result"
    }
   ],
   "source": [
    "#calculating mean absolute error\n",
    "super_mean_error = MAE(test['trip_duration'] , test['Super_mean'] )\n",
    "super_mean_error"
   ]
  },
  {
   "cell_type": "markdown",
   "id": "6f7d20eb",
   "metadata": {},
   "source": [
    "---\n",
    "\n",
    "## Q3. Build a K-Nearest neighbours model for the given dataset and find the best value of K."
   ]
  },
  {
   "cell_type": "markdown",
   "id": "e5dac484",
   "metadata": {},
   "source": [
    "### Load the data"
   ]
  },
  {
   "cell_type": "code",
   "execution_count": 30,
   "id": "5fb4a6e8",
   "metadata": {},
   "outputs": [],
   "source": [
    "data = pd.read_csv('nyc_taxi_trip_duration Dataset.csv')"
   ]
  },
  {
   "cell_type": "code",
   "execution_count": 31,
   "id": "e5dd9447",
   "metadata": {
    "scrolled": false
   },
   "outputs": [
    {
     "data": {
      "text/html": [
       "<div>\n",
       "<style scoped>\n",
       "    .dataframe tbody tr th:only-of-type {\n",
       "        vertical-align: middle;\n",
       "    }\n",
       "\n",
       "    .dataframe tbody tr th {\n",
       "        vertical-align: top;\n",
       "    }\n",
       "\n",
       "    .dataframe thead th {\n",
       "        text-align: right;\n",
       "    }\n",
       "</style>\n",
       "<table border=\"1\" class=\"dataframe\">\n",
       "  <thead>\n",
       "    <tr style=\"text-align: right;\">\n",
       "      <th></th>\n",
       "      <th>id</th>\n",
       "      <th>vendor_id</th>\n",
       "      <th>pickup_datetime</th>\n",
       "      <th>dropoff_datetime</th>\n",
       "      <th>passenger_count</th>\n",
       "      <th>pickup_longitude</th>\n",
       "      <th>pickup_latitude</th>\n",
       "      <th>dropoff_longitude</th>\n",
       "      <th>dropoff_latitude</th>\n",
       "      <th>store_and_fwd_flag</th>\n",
       "      <th>trip_duration</th>\n",
       "    </tr>\n",
       "  </thead>\n",
       "  <tbody>\n",
       "    <tr>\n",
       "      <th>0</th>\n",
       "      <td>id1080784</td>\n",
       "      <td>2</td>\n",
       "      <td>2016-02-29 16:40:21</td>\n",
       "      <td>2016-02-29 16:47:01</td>\n",
       "      <td>1</td>\n",
       "      <td>-73.953918</td>\n",
       "      <td>40.778873</td>\n",
       "      <td>-73.963875</td>\n",
       "      <td>40.771164</td>\n",
       "      <td>N</td>\n",
       "      <td>400</td>\n",
       "    </tr>\n",
       "    <tr>\n",
       "      <th>1</th>\n",
       "      <td>id0889885</td>\n",
       "      <td>1</td>\n",
       "      <td>2016-03-11 23:35:37</td>\n",
       "      <td>2016-03-11 23:53:57</td>\n",
       "      <td>2</td>\n",
       "      <td>-73.988312</td>\n",
       "      <td>40.731743</td>\n",
       "      <td>-73.994751</td>\n",
       "      <td>40.694931</td>\n",
       "      <td>N</td>\n",
       "      <td>1100</td>\n",
       "    </tr>\n",
       "    <tr>\n",
       "      <th>2</th>\n",
       "      <td>id0857912</td>\n",
       "      <td>2</td>\n",
       "      <td>2016-02-21 17:59:33</td>\n",
       "      <td>2016-02-21 18:26:48</td>\n",
       "      <td>2</td>\n",
       "      <td>-73.997314</td>\n",
       "      <td>40.721458</td>\n",
       "      <td>-73.948029</td>\n",
       "      <td>40.774918</td>\n",
       "      <td>N</td>\n",
       "      <td>1635</td>\n",
       "    </tr>\n",
       "    <tr>\n",
       "      <th>3</th>\n",
       "      <td>id3744273</td>\n",
       "      <td>2</td>\n",
       "      <td>2016-01-05 09:44:31</td>\n",
       "      <td>2016-01-05 10:03:32</td>\n",
       "      <td>6</td>\n",
       "      <td>-73.961670</td>\n",
       "      <td>40.759720</td>\n",
       "      <td>-73.956779</td>\n",
       "      <td>40.780628</td>\n",
       "      <td>N</td>\n",
       "      <td>1141</td>\n",
       "    </tr>\n",
       "    <tr>\n",
       "      <th>4</th>\n",
       "      <td>id0232939</td>\n",
       "      <td>1</td>\n",
       "      <td>2016-02-17 06:42:23</td>\n",
       "      <td>2016-02-17 06:56:31</td>\n",
       "      <td>1</td>\n",
       "      <td>-74.017120</td>\n",
       "      <td>40.708469</td>\n",
       "      <td>-73.988182</td>\n",
       "      <td>40.740631</td>\n",
       "      <td>N</td>\n",
       "      <td>848</td>\n",
       "    </tr>\n",
       "  </tbody>\n",
       "</table>\n",
       "</div>"
      ],
      "text/plain": [
       "          id  vendor_id      pickup_datetime     dropoff_datetime  \\\n",
       "0  id1080784          2  2016-02-29 16:40:21  2016-02-29 16:47:01   \n",
       "1  id0889885          1  2016-03-11 23:35:37  2016-03-11 23:53:57   \n",
       "2  id0857912          2  2016-02-21 17:59:33  2016-02-21 18:26:48   \n",
       "3  id3744273          2  2016-01-05 09:44:31  2016-01-05 10:03:32   \n",
       "4  id0232939          1  2016-02-17 06:42:23  2016-02-17 06:56:31   \n",
       "\n",
       "   passenger_count  pickup_longitude  pickup_latitude  dropoff_longitude  \\\n",
       "0                1        -73.953918        40.778873         -73.963875   \n",
       "1                2        -73.988312        40.731743         -73.994751   \n",
       "2                2        -73.997314        40.721458         -73.948029   \n",
       "3                6        -73.961670        40.759720         -73.956779   \n",
       "4                1        -74.017120        40.708469         -73.988182   \n",
       "\n",
       "   dropoff_latitude store_and_fwd_flag  trip_duration  \n",
       "0         40.771164                  N            400  \n",
       "1         40.694931                  N           1100  \n",
       "2         40.774918                  N           1635  \n",
       "3         40.780628                  N           1141  \n",
       "4         40.740631                  N            848  "
      ]
     },
     "execution_count": 31,
     "metadata": {},
     "output_type": "execute_result"
    }
   ],
   "source": [
    "data.head()"
   ]
  },
  {
   "cell_type": "code",
   "execution_count": 32,
   "id": "c5136d0b",
   "metadata": {
    "scrolled": false
   },
   "outputs": [
    {
     "data": {
      "text/plain": [
       "id                     object\n",
       "vendor_id               int64\n",
       "pickup_datetime        object\n",
       "dropoff_datetime       object\n",
       "passenger_count         int64\n",
       "pickup_longitude      float64\n",
       "pickup_latitude       float64\n",
       "dropoff_longitude     float64\n",
       "dropoff_latitude      float64\n",
       "store_and_fwd_flag     object\n",
       "trip_duration           int64\n",
       "dtype: object"
      ]
     },
     "execution_count": 32,
     "metadata": {},
     "output_type": "execute_result"
    }
   ],
   "source": [
    "data.dtypes"
   ]
  },
  {
   "cell_type": "code",
   "execution_count": 33,
   "id": "8e4ac7c1",
   "metadata": {},
   "outputs": [],
   "source": [
    "# converting strings to datetime features\n",
    "\n",
    "data['pickup_datetime'] = pd.to_datetime(data.pickup_datetime)\n",
    "data['dropoff_datetime'] = pd.to_datetime(data.dropoff_datetime)\n",
    "\n",
    "data['day_of_week'] = data['pickup_datetime'].dt.weekday\n",
    "data['hour_of_day'] = data['pickup_datetime'].dt.hour"
   ]
  },
  {
   "cell_type": "code",
   "execution_count": 34,
   "id": "2014f5ed",
   "metadata": {},
   "outputs": [],
   "source": [
    "data['vendor_id'] = data['vendor_id'].astype('category')"
   ]
  },
  {
   "cell_type": "markdown",
   "id": "f197a1ca",
   "metadata": {},
   "source": [
    "### Outlier Detection and Removal"
   ]
  },
  {
   "cell_type": "markdown",
   "id": "4ace8cc3",
   "metadata": {},
   "source": [
    "##### a. trip_duration"
   ]
  },
  {
   "cell_type": "code",
   "execution_count": 35,
   "id": "9f2e65d5",
   "metadata": {
    "scrolled": true
   },
   "outputs": [
    {
     "data": {
      "image/png": "[encoded data removed]",
      "text/plain": [
       "<Figure size 432x288 with 1 Axes>"
      ]
     },
     "metadata": {
      "needs_background": "light"
     },
     "output_type": "display_data"
    }
   ],
   "source": [
    "data.boxplot(column = ['trip_duration'])\n",
    "plt.show()"
   ]
  },
  {
   "cell_type": "code",
   "execution_count": 36,
   "id": "9ead38df",
   "metadata": {},
   "outputs": [],
   "source": [
    "data['log_trip_duration'] = np.log(data['trip_duration'].values + 1)\n",
    "data['log_trip_duration'] = data['log_trip_duration'].astype('float16')"
   ]
  },
  {
   "cell_type": "code",
   "execution_count": 37,
   "id": "0ad6ba3a",
   "metadata": {},
   "outputs": [
    {
     "data": {
      "image/png": "[encoded data removed]",
      "text/plain": [
       "<Figure size 432x288 with 1 Axes>"
      ]
     },
     "metadata": {
      "needs_background": "light"
     },
     "output_type": "display_data"
    }
   ],
   "source": [
    "data.boxplot(column = ['log_trip_duration'])\n",
    "plt.show()"
   ]
  },
  {
   "cell_type": "code",
   "execution_count": 38,
   "id": "fcdc9022",
   "metadata": {},
   "outputs": [],
   "source": [
    "data = data.loc[(data.log_trip_duration > 4.53) & (data.log_trip_duration < 8.45)]"
   ]
  },
  {
   "cell_type": "code",
   "execution_count": 39,
   "id": "424faad3",
   "metadata": {},
   "outputs": [
    {
     "data": {
      "image/png": "[encoded data removed]",
      "text/plain": [
       "<Figure size 432x288 with 1 Axes>"
      ]
     },
     "metadata": {
      "needs_background": "light"
     },
     "output_type": "display_data"
    }
   ],
   "source": [
    "data.boxplot(column = ['log_trip_duration'])\n",
    "plt.show()"
   ]
  },
  {
   "cell_type": "markdown",
   "id": "24522b69",
   "metadata": {},
   "source": [
    "##### b. pickup_latitude, pickup_longitude, dropoff_latitude & dropoff_longitude"
   ]
  },
  {
   "cell_type": "code",
   "execution_count": 40,
   "id": "c78e5c04",
   "metadata": {},
   "outputs": [
    {
     "data": {
      "image/png": "[encoded data removed]",
      "text/plain": [
       "<Figure size 720x720 with 4 Axes>"
      ]
     },
     "metadata": {},
     "output_type": "display_data"
    }
   ],
   "source": [
    "# Analysing Longitudes and Latitudes of the trips.\n",
    "\n",
    "sns.set(style=\"white\", palette=\"muted\")\n",
    "f, axes = plt.subplots(nrows = 2, ncols = 2, figsize=(10, 10), sharex = False, sharey = False)\n",
    "sns.distplot(data['pickup_latitude'].values, label = 'pickup_latitude', color=\"b\", bins = 100, ax=axes[0,0])\n",
    "sns.distplot(data['pickup_longitude'].values, label = 'pickup_longitude', color=\"r\", bins =100, ax=axes[1,0])\n",
    "sns.distplot(data['dropoff_latitude'].values, label = 'dropoff_latitude', color=\"b\", bins =100, ax=axes[0,1])\n",
    "sns.distplot(data['dropoff_longitude'].values, label = 'dropoff_longitude', color=\"r\", bins =100, ax=axes[1,1])\n",
    "plt.show()"
   ]
  },
  {
   "cell_type": "code",
   "execution_count": 41,
   "id": "13413ced",
   "metadata": {},
   "outputs": [],
   "source": [
    "# Removing Outliers\n",
    "\n",
    "data = data.loc[(data.pickup_latitude > 40.6) & (data.pickup_latitude < 40.9)]\n",
    "data = data.loc[(data.dropoff_latitude>40.6) & (data.dropoff_latitude < 40.9)]\n",
    "data = data.loc[(data.dropoff_longitude > -74.05) & (data.dropoff_longitude < -73.7)]\n",
    "data = data.loc[(data.pickup_longitude > -74.05) & (data.pickup_longitude < -73.7)]"
   ]
  },
  {
   "cell_type": "code",
   "execution_count": 42,
   "id": "2ccc1424",
   "metadata": {},
   "outputs": [
    {
     "data": {
      "image/png": "[encoded data removed]",
      "text/plain": [
       "<Figure size 720x720 with 4 Axes>"
      ]
     },
     "metadata": {},
     "output_type": "display_data"
    }
   ],
   "source": [
    "# Visualisation after removing outliers\n",
    "\n",
    "sns.set(style=\"white\", palette=\"muted\")\n",
    "f, axes = plt.subplots(2,2,figsize=(10, 10), sharex=False, sharey = False)\n",
    "sns.distplot(data['pickup_latitude'].values, label = 'pickup_latitude',color=\"b\",bins = 100, ax=axes[0, 0])\n",
    "sns.distplot(data['pickup_longitude'].values, label = 'pickup_longitude',color=\"r\",bins =100, ax=axes[1, 0])\n",
    "sns.distplot(data['dropoff_latitude'].values, label = 'dropoff_latitude',color=\"b\",bins =100, ax=axes[0, 1])\n",
    "sns.distplot(data['dropoff_longitude'].values, label = 'dropoff_longitude',color=\"r\",bins =100, ax=axes[1, 1])\n",
    "plt.show()"
   ]
  },
  {
   "cell_type": "code",
   "execution_count": 43,
   "id": "2df624c4",
   "metadata": {},
   "outputs": [],
   "source": [
    "data = pd.get_dummies(data.drop(['trip_duration', 'pickup_datetime', 'dropoff_datetime', 'id'], axis = 1))"
   ]
  },
  {
   "cell_type": "code",
   "execution_count": 44,
   "id": "0ad28f6c",
   "metadata": {},
   "outputs": [
    {
     "data": {
      "text/html": [
       "<div>\n",
       "<style scoped>\n",
       "    .dataframe tbody tr th:only-of-type {\n",
       "        vertical-align: middle;\n",
       "    }\n",
       "\n",
       "    .dataframe tbody tr th {\n",
       "        vertical-align: top;\n",
       "    }\n",
       "\n",
       "    .dataframe thead th {\n",
       "        text-align: right;\n",
       "    }\n",
       "</style>\n",
       "<table border=\"1\" class=\"dataframe\">\n",
       "  <thead>\n",
       "    <tr style=\"text-align: right;\">\n",
       "      <th></th>\n",
       "      <th>passenger_count</th>\n",
       "      <th>pickup_longitude</th>\n",
       "      <th>pickup_latitude</th>\n",
       "      <th>dropoff_longitude</th>\n",
       "      <th>dropoff_latitude</th>\n",
       "      <th>day_of_week</th>\n",
       "      <th>hour_of_day</th>\n",
       "      <th>log_trip_duration</th>\n",
       "      <th>vendor_id_1</th>\n",
       "      <th>vendor_id_2</th>\n",
       "      <th>store_and_fwd_flag_N</th>\n",
       "      <th>store_and_fwd_flag_Y</th>\n",
       "    </tr>\n",
       "  </thead>\n",
       "  <tbody>\n",
       "    <tr>\n",
       "      <th>0</th>\n",
       "      <td>1</td>\n",
       "      <td>-73.953918</td>\n",
       "      <td>40.778873</td>\n",
       "      <td>-73.963875</td>\n",
       "      <td>40.771164</td>\n",
       "      <td>0</td>\n",
       "      <td>16</td>\n",
       "      <td>5.992188</td>\n",
       "      <td>0</td>\n",
       "      <td>1</td>\n",
       "      <td>1</td>\n",
       "      <td>0</td>\n",
       "    </tr>\n",
       "    <tr>\n",
       "      <th>1</th>\n",
       "      <td>2</td>\n",
       "      <td>-73.988312</td>\n",
       "      <td>40.731743</td>\n",
       "      <td>-73.994751</td>\n",
       "      <td>40.694931</td>\n",
       "      <td>4</td>\n",
       "      <td>23</td>\n",
       "      <td>7.003906</td>\n",
       "      <td>1</td>\n",
       "      <td>0</td>\n",
       "      <td>1</td>\n",
       "      <td>0</td>\n",
       "    </tr>\n",
       "    <tr>\n",
       "      <th>2</th>\n",
       "      <td>2</td>\n",
       "      <td>-73.997314</td>\n",
       "      <td>40.721458</td>\n",
       "      <td>-73.948029</td>\n",
       "      <td>40.774918</td>\n",
       "      <td>6</td>\n",
       "      <td>17</td>\n",
       "      <td>7.398438</td>\n",
       "      <td>0</td>\n",
       "      <td>1</td>\n",
       "      <td>1</td>\n",
       "      <td>0</td>\n",
       "    </tr>\n",
       "    <tr>\n",
       "      <th>3</th>\n",
       "      <td>6</td>\n",
       "      <td>-73.961670</td>\n",
       "      <td>40.759720</td>\n",
       "      <td>-73.956779</td>\n",
       "      <td>40.780628</td>\n",
       "      <td>1</td>\n",
       "      <td>9</td>\n",
       "      <td>7.039062</td>\n",
       "      <td>0</td>\n",
       "      <td>1</td>\n",
       "      <td>1</td>\n",
       "      <td>0</td>\n",
       "    </tr>\n",
       "    <tr>\n",
       "      <th>4</th>\n",
       "      <td>1</td>\n",
       "      <td>-74.017120</td>\n",
       "      <td>40.708469</td>\n",
       "      <td>-73.988182</td>\n",
       "      <td>40.740631</td>\n",
       "      <td>2</td>\n",
       "      <td>6</td>\n",
       "      <td>6.742188</td>\n",
       "      <td>1</td>\n",
       "      <td>0</td>\n",
       "      <td>1</td>\n",
       "      <td>0</td>\n",
       "    </tr>\n",
       "  </tbody>\n",
       "</table>\n",
       "</div>"
      ],
      "text/plain": [
       "   passenger_count  pickup_longitude  pickup_latitude  dropoff_longitude  \\\n",
       "0                1        -73.953918        40.778873         -73.963875   \n",
       "1                2        -73.988312        40.731743         -73.994751   \n",
       "2                2        -73.997314        40.721458         -73.948029   \n",
       "3                6        -73.961670        40.759720         -73.956779   \n",
       "4                1        -74.017120        40.708469         -73.988182   \n",
       "\n",
       "   dropoff_latitude  day_of_week  hour_of_day  log_trip_duration  vendor_id_1  \\\n",
       "0         40.771164            0           16           5.992188            0   \n",
       "1         40.694931            4           23           7.003906            1   \n",
       "2         40.774918            6           17           7.398438            0   \n",
       "3         40.780628            1            9           7.039062            0   \n",
       "4         40.740631            2            6           6.742188            1   \n",
       "\n",
       "   vendor_id_2  store_and_fwd_flag_N  store_and_fwd_flag_Y  \n",
       "0            1                     1                     0  \n",
       "1            0                     1                     0  \n",
       "2            1                     1                     0  \n",
       "3            1                     1                     0  \n",
       "4            0                     1                     0  "
      ]
     },
     "execution_count": 44,
     "metadata": {},
     "output_type": "execute_result"
    }
   ],
   "source": [
    "data.head()"
   ]
  },
  {
   "cell_type": "markdown",
   "id": "80dd9bc5",
   "metadata": {},
   "source": [
    "### Segregating variables: Independent and Dependent Variables"
   ]
  },
  {
   "cell_type": "code",
   "execution_count": 45,
   "id": "c7368680",
   "metadata": {},
   "outputs": [
    {
     "data": {
      "text/plain": [
       "((715982, 11), (715982,))"
      ]
     },
     "execution_count": 45,
     "metadata": {},
     "output_type": "execute_result"
    }
   ],
   "source": [
    "#seperating independent and dependent variables\n",
    "\n",
    "#features\n",
    "x = data.drop(['log_trip_duration'], axis=1)\n",
    "\n",
    "#target\n",
    "y = data['log_trip_duration']\n",
    "\n",
    "x.shape, y.shape"
   ]
  },
  {
   "cell_type": "markdown",
   "id": "a0c417f9",
   "metadata": {},
   "source": [
    "### Scaling the data (Using MinMax Scaler)"
   ]
  },
  {
   "cell_type": "code",
   "execution_count": 46,
   "id": "5c73033b",
   "metadata": {},
   "outputs": [],
   "source": [
    "## Importing the MinMax Scaler\n",
    "from sklearn.preprocessing import MinMaxScaler\n",
    "scaler = MinMaxScaler()\n",
    "x_scaled = scaler.fit_transform(x)"
   ]
  },
  {
   "cell_type": "code",
   "execution_count": 47,
   "id": "30226c95",
   "metadata": {},
   "outputs": [
    {
     "data": {
      "text/html": [
       "<div>\n",
       "<style scoped>\n",
       "    .dataframe tbody tr th:only-of-type {\n",
       "        vertical-align: middle;\n",
       "    }\n",
       "\n",
       "    .dataframe tbody tr th {\n",
       "        vertical-align: top;\n",
       "    }\n",
       "\n",
       "    .dataframe thead th {\n",
       "        text-align: right;\n",
       "    }\n",
       "</style>\n",
       "<table border=\"1\" class=\"dataframe\">\n",
       "  <thead>\n",
       "    <tr style=\"text-align: right;\">\n",
       "      <th></th>\n",
       "      <th>passenger_count</th>\n",
       "      <th>pickup_longitude</th>\n",
       "      <th>pickup_latitude</th>\n",
       "      <th>dropoff_longitude</th>\n",
       "      <th>dropoff_latitude</th>\n",
       "      <th>day_of_week</th>\n",
       "      <th>hour_of_day</th>\n",
       "      <th>vendor_id_1</th>\n",
       "      <th>vendor_id_2</th>\n",
       "      <th>store_and_fwd_flag_N</th>\n",
       "      <th>store_and_fwd_flag_Y</th>\n",
       "    </tr>\n",
       "  </thead>\n",
       "  <tbody>\n",
       "    <tr>\n",
       "      <th>0</th>\n",
       "      <td>0.111111</td>\n",
       "      <td>0.282868</td>\n",
       "      <td>0.596506</td>\n",
       "      <td>0.246491</td>\n",
       "      <td>0.570696</td>\n",
       "      <td>0.000000</td>\n",
       "      <td>0.695652</td>\n",
       "      <td>0.0</td>\n",
       "      <td>1.0</td>\n",
       "      <td>1.0</td>\n",
       "      <td>0.0</td>\n",
       "    </tr>\n",
       "    <tr>\n",
       "      <th>1</th>\n",
       "      <td>0.222222</td>\n",
       "      <td>0.181487</td>\n",
       "      <td>0.438738</td>\n",
       "      <td>0.158009</td>\n",
       "      <td>0.316460</td>\n",
       "      <td>0.666667</td>\n",
       "      <td>1.000000</td>\n",
       "      <td>1.0</td>\n",
       "      <td>0.0</td>\n",
       "      <td>1.0</td>\n",
       "      <td>0.0</td>\n",
       "    </tr>\n",
       "    <tr>\n",
       "      <th>2</th>\n",
       "      <td>0.222222</td>\n",
       "      <td>0.154950</td>\n",
       "      <td>0.404311</td>\n",
       "      <td>0.291902</td>\n",
       "      <td>0.583215</td>\n",
       "      <td>1.000000</td>\n",
       "      <td>0.739130</td>\n",
       "      <td>0.0</td>\n",
       "      <td>1.0</td>\n",
       "      <td>1.0</td>\n",
       "      <td>0.0</td>\n",
       "    </tr>\n",
       "    <tr>\n",
       "      <th>3</th>\n",
       "      <td>0.666667</td>\n",
       "      <td>0.260019</td>\n",
       "      <td>0.532390</td>\n",
       "      <td>0.266824</td>\n",
       "      <td>0.602259</td>\n",
       "      <td>0.166667</td>\n",
       "      <td>0.391304</td>\n",
       "      <td>0.0</td>\n",
       "      <td>1.0</td>\n",
       "      <td>1.0</td>\n",
       "      <td>0.0</td>\n",
       "    </tr>\n",
       "    <tr>\n",
       "      <th>4</th>\n",
       "      <td>0.111111</td>\n",
       "      <td>0.096568</td>\n",
       "      <td>0.360831</td>\n",
       "      <td>0.176833</td>\n",
       "      <td>0.468869</td>\n",
       "      <td>0.333333</td>\n",
       "      <td>0.260870</td>\n",
       "      <td>1.0</td>\n",
       "      <td>0.0</td>\n",
       "      <td>1.0</td>\n",
       "      <td>0.0</td>\n",
       "    </tr>\n",
       "  </tbody>\n",
       "</table>\n",
       "</div>"
      ],
      "text/plain": [
       "   passenger_count  pickup_longitude  pickup_latitude  dropoff_longitude  \\\n",
       "0         0.111111          0.282868         0.596506           0.246491   \n",
       "1         0.222222          0.181487         0.438738           0.158009   \n",
       "2         0.222222          0.154950         0.404311           0.291902   \n",
       "3         0.666667          0.260019         0.532390           0.266824   \n",
       "4         0.111111          0.096568         0.360831           0.176833   \n",
       "\n",
       "   dropoff_latitude  day_of_week  hour_of_day  vendor_id_1  vendor_id_2  \\\n",
       "0          0.570696     0.000000     0.695652          0.0          1.0   \n",
       "1          0.316460     0.666667     1.000000          1.0          0.0   \n",
       "2          0.583215     1.000000     0.739130          0.0          1.0   \n",
       "3          0.602259     0.166667     0.391304          0.0          1.0   \n",
       "4          0.468869     0.333333     0.260870          1.0          0.0   \n",
       "\n",
       "   store_and_fwd_flag_N  store_and_fwd_flag_Y  \n",
       "0                   1.0                   0.0  \n",
       "1                   1.0                   0.0  \n",
       "2                   1.0                   0.0  \n",
       "3                   1.0                   0.0  \n",
       "4                   1.0                   0.0  "
      ]
     },
     "execution_count": 47,
     "metadata": {},
     "output_type": "execute_result"
    }
   ],
   "source": [
    "x = pd.DataFrame(x_scaled, columns = x.columns)\n",
    "x.head()"
   ]
  },
  {
   "cell_type": "code",
   "execution_count": 48,
   "id": "c4a3a54a",
   "metadata": {},
   "outputs": [],
   "source": [
    "# Importing the train test split function\n",
    "from sklearn.model_selection import train_test_split\n",
    "train_x,test_x,train_y,test_y = train_test_split(x,y, random_state = 56)"
   ]
  },
  {
   "cell_type": "markdown",
   "id": "a16162af",
   "metadata": {},
   "source": [
    "### Implementing KNN Regressor"
   ]
  },
  {
   "cell_type": "code",
   "execution_count": 49,
   "id": "e6636bf7",
   "metadata": {},
   "outputs": [],
   "source": [
    "#importing KNN regressor and metric mse\n",
    "\n",
    "from sklearn.neighbors import KNeighborsRegressor as KNN\n",
    "from sklearn.metrics import mean_squared_error as mse"
   ]
  },
  {
   "cell_type": "markdown",
   "id": "b4137675",
   "metadata": {},
   "source": [
    "### Elbow for Regressor"
   ]
  },
  {
   "cell_type": "code",
   "execution_count": 50,
   "id": "524ab9d0",
   "metadata": {},
   "outputs": [],
   "source": [
    "def Elbow(K):\n",
    "  #initiating empty list\n",
    "    test_mse = []\n",
    "  \n",
    "  #training model for every value of K\n",
    "    for i in K:\n",
    "        #Instance of KNN\n",
    "        reg = KNN(n_neighbors = i)\n",
    "        reg.fit(train_x, train_y)\n",
    "        #Appending mse value to empty list claculated using the predictions\n",
    "        tmp = reg.predict(test_x)\n",
    "        tmp = mse(tmp,test_y)\n",
    "        test_mse.append(tmp)\n",
    "    \n",
    "    return test_mse"
   ]
  },
  {
   "cell_type": "code",
   "execution_count": 51,
   "id": "a5c629fc",
   "metadata": {},
   "outputs": [],
   "source": [
    "# Defining K range\n",
    "k = range(1, 201, 10)"
   ]
  },
  {
   "cell_type": "code",
   "execution_count": 52,
   "id": "8591f178",
   "metadata": {},
   "outputs": [],
   "source": [
    "test_calc = Elbow(k)"
   ]
  },
  {
   "cell_type": "code",
   "execution_count": 53,
   "id": "5588ca85",
   "metadata": {
    "scrolled": false
   },
   "outputs": [
    {
     "data": {
      "text/plain": [
       "[0.263,\n",
       " 0.1661,\n",
       " 0.1726,\n",
       " 0.1798,\n",
       " 0.186,\n",
       " 0.1914,\n",
       " 0.1959,\n",
       " 0.2,\n",
       " 0.2037,\n",
       " 0.2073,\n",
       " 0.2104,\n",
       " 0.2135,\n",
       " 0.2163,\n",
       " 0.2191,\n",
       " 0.2218,\n",
       " 0.2242,\n",
       " 0.2267,\n",
       " 0.229,\n",
       " 0.2313,\n",
       " 0.2335]"
      ]
     },
     "execution_count": 53,
     "metadata": {},
     "output_type": "execute_result"
    }
   ],
   "source": [
    "test_calc"
   ]
  },
  {
   "cell_type": "code",
   "execution_count": 54,
   "id": "f1137e25",
   "metadata": {
    "scrolled": true
   },
   "outputs": [
    {
     "data": {
      "text/plain": [
       "Text(0.5, 1.0, 'Elbow Curve for test')"
      ]
     },
     "execution_count": 54,
     "metadata": {},
     "output_type": "execute_result"
    },
    {
     "data": {
      "image/png": "[encoded data removed]",
      "text/plain": [
       "<Figure size 432x288 with 1 Axes>"
      ]
     },
     "metadata": {},
     "output_type": "display_data"
    }
   ],
   "source": [
    "# Plotting the Curves\n",
    "plt.plot(k, test_calc)\n",
    "plt.xlabel('K Neighbors')\n",
    "plt.ylabel('Test Mean Squared Error')\n",
    "plt.title('Elbow Curve for test')"
   ]
  },
  {
   "cell_type": "markdown",
   "id": "a6ebd399",
   "metadata": {},
   "source": [
    "##### Taking all the values between 1 and 20."
   ]
  },
  {
   "cell_type": "code",
   "execution_count": 55,
   "id": "e17ad894",
   "metadata": {},
   "outputs": [],
   "source": [
    "# Defining K range\n",
    "k = range(1, 20)"
   ]
  },
  {
   "cell_type": "code",
   "execution_count": 56,
   "id": "48080ed8",
   "metadata": {},
   "outputs": [],
   "source": [
    "test_calc_new = Elbow(k)"
   ]
  },
  {
   "cell_type": "code",
   "execution_count": 57,
   "id": "aae0e792",
   "metadata": {},
   "outputs": [
    {
     "data": {
      "text/plain": [
       "Text(0.5, 1.0, 'Elbow Curve for test')"
      ]
     },
     "execution_count": 57,
     "metadata": {},
     "output_type": "execute_result"
    },
    {
     "data": {
      "image/png": "[encoded data removed]",
      "text/plain": [
       "<Figure size 432x288 with 1 Axes>"
      ]
     },
     "metadata": {},
     "output_type": "display_data"
    }
   ],
   "source": [
    "# Plotting the Curves\n",
    "plt.plot(k, test_calc_new)\n",
    "plt.xlim(1, 19)\n",
    "plt.xlabel('K Neighbors')\n",
    "plt.ylabel('Test Mean Squared Error')\n",
    "plt.title('Elbow Curve for test')"
   ]
  },
  {
   "cell_type": "code",
   "execution_count": 58,
   "id": "346c5086",
   "metadata": {},
   "outputs": [
    {
     "name": "stdout",
     "output_type": "stream",
     "text": [
      "Train MSE     0.1277\n",
      "Test MSE      0.1656\n"
     ]
    }
   ],
   "source": [
    "# Creating instance of KNN\n",
    "reg = KNN(n_neighbors = 8)\n",
    "\n",
    "# Fitting the model\n",
    "reg.fit(train_x, train_y)\n",
    "\n",
    "# Predicting over the Train Set and calculating MSE\n",
    "train_predict = reg.predict(train_x)\n",
    "test_predict = reg.predict(test_x)\n",
    "k_train_knn = mse(train_predict, train_y)\n",
    "k_test_knn = mse(test_predict, test_y)\n",
    "print('Train MSE    ', k_train_knn )\n",
    "print('Test MSE     ', k_test_knn)"
   ]
  },
  {
   "cell_type": "markdown",
   "id": "6563deba",
   "metadata": {},
   "source": [
    "---\n",
    "\n",
    "## Q4. Build a Linear model for the given dataset with regularisation. Attempt to interpret the variable coefficients of the Linear Model."
   ]
  },
  {
   "cell_type": "code",
   "execution_count": 59,
   "id": "d12706ba",
   "metadata": {},
   "outputs": [
    {
     "data": {
      "text/html": [
       "<div>\n",
       "<style scoped>\n",
       "    .dataframe tbody tr th:only-of-type {\n",
       "        vertical-align: middle;\n",
       "    }\n",
       "\n",
       "    .dataframe tbody tr th {\n",
       "        vertical-align: top;\n",
       "    }\n",
       "\n",
       "    .dataframe thead th {\n",
       "        text-align: right;\n",
       "    }\n",
       "</style>\n",
       "<table border=\"1\" class=\"dataframe\">\n",
       "  <thead>\n",
       "    <tr style=\"text-align: right;\">\n",
       "      <th></th>\n",
       "      <th>passenger_count</th>\n",
       "      <th>pickup_longitude</th>\n",
       "      <th>pickup_latitude</th>\n",
       "      <th>dropoff_longitude</th>\n",
       "      <th>dropoff_latitude</th>\n",
       "      <th>day_of_week</th>\n",
       "      <th>hour_of_day</th>\n",
       "      <th>log_trip_duration</th>\n",
       "      <th>vendor_id_1</th>\n",
       "      <th>vendor_id_2</th>\n",
       "      <th>store_and_fwd_flag_N</th>\n",
       "      <th>store_and_fwd_flag_Y</th>\n",
       "    </tr>\n",
       "  </thead>\n",
       "  <tbody>\n",
       "    <tr>\n",
       "      <th>0</th>\n",
       "      <td>1</td>\n",
       "      <td>-73.953918</td>\n",
       "      <td>40.778873</td>\n",
       "      <td>-73.963875</td>\n",
       "      <td>40.771164</td>\n",
       "      <td>0</td>\n",
       "      <td>16</td>\n",
       "      <td>5.992188</td>\n",
       "      <td>0</td>\n",
       "      <td>1</td>\n",
       "      <td>1</td>\n",
       "      <td>0</td>\n",
       "    </tr>\n",
       "    <tr>\n",
       "      <th>1</th>\n",
       "      <td>2</td>\n",
       "      <td>-73.988312</td>\n",
       "      <td>40.731743</td>\n",
       "      <td>-73.994751</td>\n",
       "      <td>40.694931</td>\n",
       "      <td>4</td>\n",
       "      <td>23</td>\n",
       "      <td>7.003906</td>\n",
       "      <td>1</td>\n",
       "      <td>0</td>\n",
       "      <td>1</td>\n",
       "      <td>0</td>\n",
       "    </tr>\n",
       "    <tr>\n",
       "      <th>2</th>\n",
       "      <td>2</td>\n",
       "      <td>-73.997314</td>\n",
       "      <td>40.721458</td>\n",
       "      <td>-73.948029</td>\n",
       "      <td>40.774918</td>\n",
       "      <td>6</td>\n",
       "      <td>17</td>\n",
       "      <td>7.398438</td>\n",
       "      <td>0</td>\n",
       "      <td>1</td>\n",
       "      <td>1</td>\n",
       "      <td>0</td>\n",
       "    </tr>\n",
       "    <tr>\n",
       "      <th>3</th>\n",
       "      <td>6</td>\n",
       "      <td>-73.961670</td>\n",
       "      <td>40.759720</td>\n",
       "      <td>-73.956779</td>\n",
       "      <td>40.780628</td>\n",
       "      <td>1</td>\n",
       "      <td>9</td>\n",
       "      <td>7.039062</td>\n",
       "      <td>0</td>\n",
       "      <td>1</td>\n",
       "      <td>1</td>\n",
       "      <td>0</td>\n",
       "    </tr>\n",
       "    <tr>\n",
       "      <th>4</th>\n",
       "      <td>1</td>\n",
       "      <td>-74.017120</td>\n",
       "      <td>40.708469</td>\n",
       "      <td>-73.988182</td>\n",
       "      <td>40.740631</td>\n",
       "      <td>2</td>\n",
       "      <td>6</td>\n",
       "      <td>6.742188</td>\n",
       "      <td>1</td>\n",
       "      <td>0</td>\n",
       "      <td>1</td>\n",
       "      <td>0</td>\n",
       "    </tr>\n",
       "  </tbody>\n",
       "</table>\n",
       "</div>"
      ],
      "text/plain": [
       "   passenger_count  pickup_longitude  pickup_latitude  dropoff_longitude  \\\n",
       "0                1        -73.953918        40.778873         -73.963875   \n",
       "1                2        -73.988312        40.731743         -73.994751   \n",
       "2                2        -73.997314        40.721458         -73.948029   \n",
       "3                6        -73.961670        40.759720         -73.956779   \n",
       "4                1        -74.017120        40.708469         -73.988182   \n",
       "\n",
       "   dropoff_latitude  day_of_week  hour_of_day  log_trip_duration  vendor_id_1  \\\n",
       "0         40.771164            0           16           5.992188            0   \n",
       "1         40.694931            4           23           7.003906            1   \n",
       "2         40.774918            6           17           7.398438            0   \n",
       "3         40.780628            1            9           7.039062            0   \n",
       "4         40.740631            2            6           6.742188            1   \n",
       "\n",
       "   vendor_id_2  store_and_fwd_flag_N  store_and_fwd_flag_Y  \n",
       "0            1                     1                     0  \n",
       "1            0                     1                     0  \n",
       "2            1                     1                     0  \n",
       "3            1                     1                     0  \n",
       "4            0                     1                     0  "
      ]
     },
     "execution_count": 59,
     "metadata": {},
     "output_type": "execute_result"
    }
   ],
   "source": [
    "# As the dataset is already loaded and cleaned, we don't need to do preprocessing here.\n",
    "data.head()"
   ]
  },
  {
   "cell_type": "markdown",
   "id": "6d04cfd2",
   "metadata": {},
   "source": [
    "### Segregating variables: Independent and Dependent Variables"
   ]
  },
  {
   "cell_type": "code",
   "execution_count": 60,
   "id": "c752e86f",
   "metadata": {},
   "outputs": [
    {
     "data": {
      "text/plain": [
       "((715982, 11), (715982,))"
      ]
     },
     "execution_count": 60,
     "metadata": {},
     "output_type": "execute_result"
    }
   ],
   "source": [
    "# seperating independent and dependent variables\n",
    "\n",
    "# Features\n",
    "x = data.drop(['log_trip_duration'], axis=1)\n",
    "\n",
    "# Target\n",
    "y = data['log_trip_duration']\n",
    "\n",
    "x.shape, y.shape"
   ]
  },
  {
   "cell_type": "markdown",
   "id": "b1a2e66c",
   "metadata": {},
   "source": [
    "### Splitting the data into train set and the test set"
   ]
  },
  {
   "cell_type": "code",
   "execution_count": 61,
   "id": "36ad3d37",
   "metadata": {},
   "outputs": [],
   "source": [
    "# Importing the train test split function\n",
    "from sklearn.model_selection import train_test_split\n",
    "train_x,test_x,train_y,test_y = train_test_split(x,y, random_state = 56)"
   ]
  },
  {
   "cell_type": "markdown",
   "id": "fde13779",
   "metadata": {},
   "source": [
    "### Implementing Linear Regression"
   ]
  },
  {
   "cell_type": "code",
   "execution_count": 62,
   "id": "835fd2e6",
   "metadata": {},
   "outputs": [],
   "source": [
    "from sklearn.linear_model import LinearRegression"
   ]
  },
  {
   "cell_type": "code",
   "execution_count": 63,
   "id": "7a3e1805",
   "metadata": {},
   "outputs": [],
   "source": [
    "train_error_reg = []\n",
    "test_error_reg = []\n",
    "\n",
    "lr = LinearRegression(normalize=True)\n",
    "\n",
    "train_x_array = np.array(train_x)\n",
    "train_y_array = np.array(train_y)\n",
    "test_x_array = np.array(test_x)\n",
    "test_y_array = np.array(test_y)\n",
    "\n",
    "for i in range(1, 12):\n",
    "    lr.fit(train_x_array[:, 0:i], train_y)\n",
    "    train_y_pred = lr.predict(train_x_array[:, 0:i])\n",
    "    test_y_pred = lr.predict(test_x_array[:, 0:i])\n",
    "    \n",
    "    mrss_train = sum((train_y_pred-train_y)**2)/train_x_array[:, 0:i].shape[0]\n",
    "    mrss_test = sum((test_y_pred-test_y)**2)/test_x_array[:, 0:i].shape[0]\n",
    "    \n",
    "    train_error_reg.append(mrss_train)\n",
    "    test_error_reg.append(mrss_test)"
   ]
  },
  {
   "cell_type": "code",
   "execution_count": 64,
   "id": "7ec1d5bc",
   "metadata": {},
   "outputs": [],
   "source": [
    "# Initializing the dataframe to store error\n",
    "\n",
    "col = ['train_error_reg','test_error_reg']\n",
    "ind = ['Number_of_variable_%d'%i for i in range(1, train_x.shape[1]+1)]\n",
    "matrix_reg = pd.DataFrame(index=ind, columns=col)"
   ]
  },
  {
   "cell_type": "code",
   "execution_count": 65,
   "id": "936913b5",
   "metadata": {
    "scrolled": true
   },
   "outputs": [
    {
     "data": {
      "text/html": [
       "<div>\n",
       "<style scoped>\n",
       "    .dataframe tbody tr th:only-of-type {\n",
       "        vertical-align: middle;\n",
       "    }\n",
       "\n",
       "    .dataframe tbody tr th {\n",
       "        vertical-align: top;\n",
       "    }\n",
       "\n",
       "    .dataframe thead th {\n",
       "        text-align: right;\n",
       "    }\n",
       "</style>\n",
       "<table border=\"1\" class=\"dataframe\">\n",
       "  <thead>\n",
       "    <tr style=\"text-align: right;\">\n",
       "      <th></th>\n",
       "      <th>train_error_reg</th>\n",
       "      <th>test_error_reg</th>\n",
       "    </tr>\n",
       "  </thead>\n",
       "  <tbody>\n",
       "    <tr>\n",
       "      <th>Number_of_variable_1</th>\n",
       "      <td>0.497651</td>\n",
       "      <td>0.497568</td>\n",
       "    </tr>\n",
       "    <tr>\n",
       "      <th>Number_of_variable_2</th>\n",
       "      <td>0.468567</td>\n",
       "      <td>0.468540</td>\n",
       "    </tr>\n",
       "    <tr>\n",
       "      <th>Number_of_variable_3</th>\n",
       "      <td>0.455572</td>\n",
       "      <td>0.455662</td>\n",
       "    </tr>\n",
       "    <tr>\n",
       "      <th>Number_of_variable_4</th>\n",
       "      <td>0.442698</td>\n",
       "      <td>0.442191</td>\n",
       "    </tr>\n",
       "    <tr>\n",
       "      <th>Number_of_variable_5</th>\n",
       "      <td>0.435190</td>\n",
       "      <td>0.434580</td>\n",
       "    </tr>\n",
       "    <tr>\n",
       "      <th>Number_of_variable_6</th>\n",
       "      <td>0.434636</td>\n",
       "      <td>0.434131</td>\n",
       "    </tr>\n",
       "    <tr>\n",
       "      <th>Number_of_variable_7</th>\n",
       "      <td>0.433576</td>\n",
       "      <td>0.433239</td>\n",
       "    </tr>\n",
       "    <tr>\n",
       "      <th>Number_of_variable_8</th>\n",
       "      <td>0.433573</td>\n",
       "      <td>0.433239</td>\n",
       "    </tr>\n",
       "    <tr>\n",
       "      <th>Number_of_variable_9</th>\n",
       "      <td>0.433574</td>\n",
       "      <td>0.433241</td>\n",
       "    </tr>\n",
       "    <tr>\n",
       "      <th>Number_of_variable_10</th>\n",
       "      <td>0.433496</td>\n",
       "      <td>0.433155</td>\n",
       "    </tr>\n",
       "    <tr>\n",
       "      <th>Number_of_variable_11</th>\n",
       "      <td>0.433502</td>\n",
       "      <td>0.433159</td>\n",
       "    </tr>\n",
       "  </tbody>\n",
       "</table>\n",
       "</div>"
      ],
      "text/plain": [
       "                       train_error_reg  test_error_reg\n",
       "Number_of_variable_1          0.497651        0.497568\n",
       "Number_of_variable_2          0.468567        0.468540\n",
       "Number_of_variable_3          0.455572        0.455662\n",
       "Number_of_variable_4          0.442698        0.442191\n",
       "Number_of_variable_5          0.435190        0.434580\n",
       "Number_of_variable_6          0.434636        0.434131\n",
       "Number_of_variable_7          0.433576        0.433239\n",
       "Number_of_variable_8          0.433573        0.433239\n",
       "Number_of_variable_9          0.433574        0.433241\n",
       "Number_of_variable_10         0.433496        0.433155\n",
       "Number_of_variable_11         0.433502        0.433159"
      ]
     },
     "execution_count": 65,
     "metadata": {},
     "output_type": "execute_result"
    }
   ],
   "source": [
    "matrix_reg['train_error_reg'] = train_error_reg\n",
    "matrix_reg['test_error_reg'] = test_error_reg\n",
    "matrix_reg"
   ]
  },
  {
   "cell_type": "code",
   "execution_count": 66,
   "id": "0bdf381d",
   "metadata": {},
   "outputs": [
    {
     "data": {
      "image/png": "[encoded data removed]",
      "text/plain": [
       "<Figure size 432x288 with 1 Axes>"
      ]
     },
     "metadata": {},
     "output_type": "display_data"
    }
   ],
   "source": [
    "# Plotting the Features VS Error curve\n",
    "\n",
    "matrix_reg[['train_error_reg','test_error_reg']].plot()\n",
    "plt.xlabel('Features')\n",
    "plt.ylabel('Error')\n",
    "plt.legend(['Train', 'Test'])\n",
    "plt.show()"
   ]
  },
  {
   "cell_type": "markdown",
   "id": "420f69cd",
   "metadata": {},
   "source": [
    "### Parameters of Linear Regression"
   ]
  },
  {
   "cell_type": "code",
   "execution_count": 67,
   "id": "630bca6e",
   "metadata": {
    "scrolled": true
   },
   "outputs": [
    {
     "data": {
      "text/plain": [
       "array([ 6.55739701e-03,  3.49991493e+00, -3.10678405e+00,  3.83646586e+00,\n",
       "       -3.11377712e+00, -1.08130953e-02,  5.14770908e-03, -6.12286218e+11,\n",
       "       -6.12286218e+11,  1.39683523e+13,  1.39683523e+13])"
      ]
     },
     "execution_count": 67,
     "metadata": {},
     "output_type": "execute_result"
    }
   ],
   "source": [
    "lr.coef_"
   ]
  },
  {
   "cell_type": "markdown",
   "id": "7ce7b29d",
   "metadata": {},
   "source": [
    "### Plotting the coefficients"
   ]
  },
  {
   "cell_type": "code",
   "execution_count": 68,
   "id": "11d174cb",
   "metadata": {},
   "outputs": [
    {
     "data": {
      "image/png": "[encoded data removed]",
      "text/plain": [
       "<Figure size 960x720 with 1 Axes>"
      ]
     },
     "metadata": {},
     "output_type": "display_data"
    }
   ],
   "source": [
    "plt.figure(figsize=(8, 6), dpi=120, facecolor='w', edgecolor='b')\n",
    "x = range(len(train_x.columns))\n",
    "y = lr.coef_\n",
    "plt.bar( x, y )\n",
    "plt.xlabel(\"Variables\")\n",
    "plt.ylabel('Coefficients')\n",
    "plt.title('Normalized Coefficient plot')\n",
    "plt.show()"
   ]
  },
  {
   "cell_type": "markdown",
   "id": "975a2d37",
   "metadata": {},
   "source": [
    "#### Creating new subsets of data"
   ]
  },
  {
   "cell_type": "code",
   "execution_count": 69,
   "id": "91dcf612",
   "metadata": {},
   "outputs": [
    {
     "data": {
      "text/plain": [
       "((715982, 11), (715982,))"
      ]
     },
     "execution_count": 69,
     "metadata": {},
     "output_type": "execute_result"
    }
   ],
   "source": [
    "# Seperating independent and dependent variables\n",
    "x = data.drop(['log_trip_duration'], axis=1)\n",
    "y = data['log_trip_duration']\n",
    "x.shape, y.shape"
   ]
  },
  {
   "cell_type": "markdown",
   "id": "58004da9",
   "metadata": {},
   "source": [
    "#### Arranging coefficients with features"
   ]
  },
  {
   "cell_type": "code",
   "execution_count": 70,
   "id": "fa5c72f1",
   "metadata": {},
   "outputs": [
    {
     "data": {
      "text/html": [
       "<div>\n",
       "<style scoped>\n",
       "    .dataframe tbody tr th:only-of-type {\n",
       "        vertical-align: middle;\n",
       "    }\n",
       "\n",
       "    .dataframe tbody tr th {\n",
       "        vertical-align: top;\n",
       "    }\n",
       "\n",
       "    .dataframe thead th {\n",
       "        text-align: right;\n",
       "    }\n",
       "</style>\n",
       "<table border=\"1\" class=\"dataframe\">\n",
       "  <thead>\n",
       "    <tr style=\"text-align: right;\">\n",
       "      <th></th>\n",
       "      <th>Variable</th>\n",
       "      <th>coefficient</th>\n",
       "    </tr>\n",
       "  </thead>\n",
       "  <tbody>\n",
       "    <tr>\n",
       "      <th>0</th>\n",
       "      <td>passenger_count</td>\n",
       "      <td>0.006557</td>\n",
       "    </tr>\n",
       "    <tr>\n",
       "      <th>1</th>\n",
       "      <td>pickup_longitude</td>\n",
       "      <td>3.499915</td>\n",
       "    </tr>\n",
       "    <tr>\n",
       "      <th>2</th>\n",
       "      <td>pickup_latitude</td>\n",
       "      <td>-3.106784</td>\n",
       "    </tr>\n",
       "    <tr>\n",
       "      <th>3</th>\n",
       "      <td>dropoff_longitude</td>\n",
       "      <td>3.836466</td>\n",
       "    </tr>\n",
       "    <tr>\n",
       "      <th>4</th>\n",
       "      <td>dropoff_latitude</td>\n",
       "      <td>-3.113777</td>\n",
       "    </tr>\n",
       "  </tbody>\n",
       "</table>\n",
       "</div>"
      ],
      "text/plain": [
       "            Variable  coefficient\n",
       "0    passenger_count     0.006557\n",
       "1   pickup_longitude     3.499915\n",
       "2    pickup_latitude    -3.106784\n",
       "3  dropoff_longitude     3.836466\n",
       "4   dropoff_latitude    -3.113777"
      ]
     },
     "execution_count": 70,
     "metadata": {},
     "output_type": "execute_result"
    }
   ],
   "source": [
    "Coefficients = pd.DataFrame({\n",
    "    'Variable'    : x.columns,\n",
    "    'coefficient' : lr.coef_\n",
    "})\n",
    "Coefficients.head()"
   ]
  },
  {
   "cell_type": "markdown",
   "id": "0a6b9dc5",
   "metadata": {},
   "source": [
    "#### Choosing variables with sigificance greater than 0.5 ( Filtering Significant Features)"
   ]
  },
  {
   "cell_type": "code",
   "execution_count": 71,
   "id": "9abb8df5",
   "metadata": {},
   "outputs": [],
   "source": [
    "sig_var = Coefficients[Coefficients.coefficient > 0.5]"
   ]
  },
  {
   "cell_type": "markdown",
   "id": "16363bfc",
   "metadata": {},
   "source": [
    "#### Extracting the significant subset do independent Variables"
   ]
  },
  {
   "cell_type": "code",
   "execution_count": 72,
   "id": "c7cfd6b4",
   "metadata": {},
   "outputs": [
    {
     "data": {
      "text/html": [
       "<div>\n",
       "<style scoped>\n",
       "    .dataframe tbody tr th:only-of-type {\n",
       "        vertical-align: middle;\n",
       "    }\n",
       "\n",
       "    .dataframe tbody tr th {\n",
       "        vertical-align: top;\n",
       "    }\n",
       "\n",
       "    .dataframe thead th {\n",
       "        text-align: right;\n",
       "    }\n",
       "</style>\n",
       "<table border=\"1\" class=\"dataframe\">\n",
       "  <thead>\n",
       "    <tr style=\"text-align: right;\">\n",
       "      <th></th>\n",
       "      <th>pickup_longitude</th>\n",
       "      <th>dropoff_longitude</th>\n",
       "      <th>store_and_fwd_flag_N</th>\n",
       "      <th>store_and_fwd_flag_Y</th>\n",
       "    </tr>\n",
       "  </thead>\n",
       "  <tbody>\n",
       "    <tr>\n",
       "      <th>0</th>\n",
       "      <td>-73.953918</td>\n",
       "      <td>-73.963875</td>\n",
       "      <td>1</td>\n",
       "      <td>0</td>\n",
       "    </tr>\n",
       "    <tr>\n",
       "      <th>1</th>\n",
       "      <td>-73.988312</td>\n",
       "      <td>-73.994751</td>\n",
       "      <td>1</td>\n",
       "      <td>0</td>\n",
       "    </tr>\n",
       "    <tr>\n",
       "      <th>2</th>\n",
       "      <td>-73.997314</td>\n",
       "      <td>-73.948029</td>\n",
       "      <td>1</td>\n",
       "      <td>0</td>\n",
       "    </tr>\n",
       "    <tr>\n",
       "      <th>3</th>\n",
       "      <td>-73.961670</td>\n",
       "      <td>-73.956779</td>\n",
       "      <td>1</td>\n",
       "      <td>0</td>\n",
       "    </tr>\n",
       "    <tr>\n",
       "      <th>4</th>\n",
       "      <td>-74.017120</td>\n",
       "      <td>-73.988182</td>\n",
       "      <td>1</td>\n",
       "      <td>0</td>\n",
       "    </tr>\n",
       "  </tbody>\n",
       "</table>\n",
       "</div>"
      ],
      "text/plain": [
       "   pickup_longitude  dropoff_longitude  store_and_fwd_flag_N  \\\n",
       "0        -73.953918         -73.963875                     1   \n",
       "1        -73.988312         -73.994751                     1   \n",
       "2        -73.997314         -73.948029                     1   \n",
       "3        -73.961670         -73.956779                     1   \n",
       "4        -74.017120         -73.988182                     1   \n",
       "\n",
       "   store_and_fwd_flag_Y  \n",
       "0                     0  \n",
       "1                     0  \n",
       "2                     0  \n",
       "3                     0  \n",
       "4                     0  "
      ]
     },
     "execution_count": 72,
     "metadata": {},
     "output_type": "execute_result"
    }
   ],
   "source": [
    "subset = data[sig_var['Variable'].values]\n",
    "subset.head()"
   ]
  },
  {
   "cell_type": "code",
   "execution_count": 73,
   "id": "1abc214b",
   "metadata": {},
   "outputs": [],
   "source": [
    "# Importing the train test split function\n",
    "from sklearn.model_selection import train_test_split\n",
    "train_x,test_x,train_y,test_y = train_test_split(subset, y , random_state = 56)"
   ]
  },
  {
   "cell_type": "code",
   "execution_count": 74,
   "id": "5db5dcb2",
   "metadata": {},
   "outputs": [],
   "source": [
    "# Importing Linear Regression and metric mean square error\n",
    "from sklearn.linear_model import LinearRegression as LR\n",
    "from sklearn.metrics import mean_absolute_error as mae"
   ]
  },
  {
   "cell_type": "code",
   "execution_count": 75,
   "id": "549e0c74",
   "metadata": {},
   "outputs": [
    {
     "data": {
      "text/plain": [
       "LinearRegression(normalize=True)"
      ]
     },
     "execution_count": 75,
     "metadata": {},
     "output_type": "execute_result"
    }
   ],
   "source": [
    "# Creating instance of Linear Regresssion with Normalised Data\n",
    "lr = LR(normalize = True)\n",
    "\n",
    "# Fitting the model\n",
    "lr.fit(train_x, train_y)"
   ]
  },
  {
   "cell_type": "code",
   "execution_count": 76,
   "id": "2ef74ba6",
   "metadata": {
    "scrolled": true
   },
   "outputs": [
    {
     "name": "stdout",
     "output_type": "stream",
     "text": [
      "Train Error :  0.45827009696097376\n",
      "Test Error  :  0.4578604141805146\n"
     ]
    }
   ],
   "source": [
    "train_y_pred = lr.predict(train_x)\n",
    "test_y_pred = lr.predict(test_x)\n",
    "    \n",
    "mrss_train_regression = sum((train_y_pred-train_y)**2)/train_x.shape[0]\n",
    "mrss_test_regression = sum((test_y_pred-test_y)**2)/test_x.shape[0]\n",
    "\n",
    "print('Train Error : ', mrss_train_regression)\n",
    "print('Test Error  : ', mrss_test_regression)"
   ]
  },
  {
   "cell_type": "markdown",
   "id": "78383a23",
   "metadata": {},
   "source": [
    "#### Plotting the coefficients"
   ]
  },
  {
   "cell_type": "code",
   "execution_count": 77,
   "id": "ba9a14ed",
   "metadata": {
    "scrolled": false
   },
   "outputs": [
    {
     "data": {
      "image/png": "[encoded data removed]",
      "text/plain": [
       "<Figure size 960x720 with 1 Axes>"
      ]
     },
     "metadata": {},
     "output_type": "display_data"
    }
   ],
   "source": [
    "plt.figure(figsize=(8, 6), dpi=120, facecolor='w', edgecolor='b')\n",
    "columns = range(len(train_x.columns))\n",
    "coef = lr.coef_\n",
    "plt.bar(columns, coef)\n",
    "plt.xlabel(\"Variables\")\n",
    "plt.ylabel('Coefficients')\n",
    "plt.title('Normalized Coefficient plot')\n",
    "plt.show()"
   ]
  },
  {
   "cell_type": "markdown",
   "id": "2f99d700",
   "metadata": {},
   "source": [
    "###### Interpretation from the linear variable Coefficients -\n",
    "\n",
    "* The above coefficient is normalized which can be used for making final inferences out of it.\n",
    "* From the above coefficient plot, we can observe that most of the variables aren't contributing in the linear model, only 2 variables are mostly contributing in the linear regression model."
   ]
  },
  {
   "cell_type": "markdown",
   "id": "60e4e991",
   "metadata": {},
   "source": [
    "### Regularisation :-"
   ]
  },
  {
   "cell_type": "markdown",
   "id": "66fa699f",
   "metadata": {},
   "source": [
    "### Ridge"
   ]
  },
  {
   "cell_type": "code",
   "execution_count": 78,
   "id": "8fd71cfc",
   "metadata": {},
   "outputs": [],
   "source": [
    "# Importing ridge from sklearn's linear_model module\n",
    "from sklearn.linear_model import Ridge"
   ]
  },
  {
   "cell_type": "code",
   "execution_count": 79,
   "id": "9a5b9d04",
   "metadata": {},
   "outputs": [],
   "source": [
    "# Setting the different values of alpha to be tested\n",
    "alpha_ridge = [0, 1e-8, 1e-4, 1e-3,1e-2, 1, 5, 10, 20, 25]"
   ]
  },
  {
   "cell_type": "code",
   "execution_count": 80,
   "id": "7b132756",
   "metadata": {},
   "outputs": [],
   "source": [
    "train_error_ridge = []\n",
    "test_error_ridge = []\n",
    "\n",
    "for i in alpha_ridge:\n",
    "    \n",
    "    R = Ridge(alpha = i, normalize=True)\n",
    "    R.fit(train_x, train_y)\n",
    "    train_y_pred = R.predict(train_x)\n",
    "    test_y_pred = R.predict(test_x)\n",
    "    \n",
    "    mrss_train = sum((train_y_pred-train_y)**2)/train_x.shape[0]\n",
    "    mrss_test = sum((test_y_pred-test_y)**2)/test_x.shape[0]\n",
    "    \n",
    "    train_error_ridge.append(mrss_train)\n",
    "    test_error_ridge.append(mrss_test)"
   ]
  },
  {
   "cell_type": "code",
   "execution_count": 81,
   "id": "74b1744d",
   "metadata": {},
   "outputs": [
    {
     "data": {
      "text/plain": [
       "array([ 0.17498649,  0.16343498, -0.00773244,  0.00773244])"
      ]
     },
     "execution_count": 81,
     "metadata": {},
     "output_type": "execute_result"
    }
   ],
   "source": [
    "R.coef_"
   ]
  },
  {
   "cell_type": "code",
   "execution_count": 82,
   "id": "3c9b380d",
   "metadata": {},
   "outputs": [],
   "source": [
    "# Initializing the dataframe to store error\n",
    "\n",
    "col = ['train_error_ridge','test_error_ridge']\n",
    "ind = ['alpha_%.2g'%alpha_ridge[i] for i in range(0,10)]\n",
    "matrix_ridge = pd.DataFrame(index=ind, columns=col)"
   ]
  },
  {
   "cell_type": "code",
   "execution_count": 83,
   "id": "b7d316fc",
   "metadata": {
    "scrolled": true
   },
   "outputs": [
    {
     "data": {
      "text/html": [
       "<div>\n",
       "<style scoped>\n",
       "    .dataframe tbody tr th:only-of-type {\n",
       "        vertical-align: middle;\n",
       "    }\n",
       "\n",
       "    .dataframe tbody tr th {\n",
       "        vertical-align: top;\n",
       "    }\n",
       "\n",
       "    .dataframe thead th {\n",
       "        text-align: right;\n",
       "    }\n",
       "</style>\n",
       "<table border=\"1\" class=\"dataframe\">\n",
       "  <thead>\n",
       "    <tr style=\"text-align: right;\">\n",
       "      <th></th>\n",
       "      <th>train_error_ridge</th>\n",
       "      <th>test_error_ridge</th>\n",
       "    </tr>\n",
       "  </thead>\n",
       "  <tbody>\n",
       "    <tr>\n",
       "      <th>alpha_0</th>\n",
       "      <td>0.458270</td>\n",
       "      <td>0.457861</td>\n",
       "    </tr>\n",
       "    <tr>\n",
       "      <th>alpha_1e-08</th>\n",
       "      <td>0.458270</td>\n",
       "      <td>0.457860</td>\n",
       "    </tr>\n",
       "    <tr>\n",
       "      <th>alpha_0.0001</th>\n",
       "      <td>0.458270</td>\n",
       "      <td>0.457860</td>\n",
       "    </tr>\n",
       "    <tr>\n",
       "      <th>alpha_0.001</th>\n",
       "      <td>0.458270</td>\n",
       "      <td>0.457860</td>\n",
       "    </tr>\n",
       "    <tr>\n",
       "      <th>alpha_0.01</th>\n",
       "      <td>0.458272</td>\n",
       "      <td>0.457868</td>\n",
       "    </tr>\n",
       "    <tr>\n",
       "      <th>alpha_1</th>\n",
       "      <td>0.466032</td>\n",
       "      <td>0.465867</td>\n",
       "    </tr>\n",
       "    <tr>\n",
       "      <th>alpha_5</th>\n",
       "      <td>0.483454</td>\n",
       "      <td>0.483376</td>\n",
       "    </tr>\n",
       "    <tr>\n",
       "      <th>alpha_10</th>\n",
       "      <td>0.489397</td>\n",
       "      <td>0.489325</td>\n",
       "    </tr>\n",
       "    <tr>\n",
       "      <th>alpha_20</th>\n",
       "      <td>0.493195</td>\n",
       "      <td>0.493123</td>\n",
       "    </tr>\n",
       "    <tr>\n",
       "      <th>alpha_25</th>\n",
       "      <td>0.494038</td>\n",
       "      <td>0.493966</td>\n",
       "    </tr>\n",
       "  </tbody>\n",
       "</table>\n",
       "</div>"
      ],
      "text/plain": [
       "              train_error_ridge  test_error_ridge\n",
       "alpha_0                0.458270          0.457861\n",
       "alpha_1e-08            0.458270          0.457860\n",
       "alpha_0.0001           0.458270          0.457860\n",
       "alpha_0.001            0.458270          0.457860\n",
       "alpha_0.01             0.458272          0.457868\n",
       "alpha_1                0.466032          0.465867\n",
       "alpha_5                0.483454          0.483376\n",
       "alpha_10               0.489397          0.489325\n",
       "alpha_20               0.493195          0.493123\n",
       "alpha_25               0.494038          0.493966"
      ]
     },
     "execution_count": 83,
     "metadata": {},
     "output_type": "execute_result"
    }
   ],
   "source": [
    "matrix_ridge['train_error_ridge'] = train_error_ridge\n",
    "matrix_ridge['test_error_ridge'] = test_error_ridge\n",
    "matrix_ridge"
   ]
  },
  {
   "cell_type": "code",
   "execution_count": 84,
   "id": "0dbebb29",
   "metadata": {
    "scrolled": false
   },
   "outputs": [
    {
     "data": {
      "image/png": "[encoded data removed]",
      "text/plain": [
       "<Figure size 432x288 with 1 Axes>"
      ]
     },
     "metadata": {},
     "output_type": "display_data"
    }
   ],
   "source": [
    "# Plotting the Alpha Values VS Error graph\n",
    "\n",
    "matrix_ridge[['train_error_ridge','test_error_ridge']].plot()\n",
    "plt.xlabel('Alpha Values')\n",
    "plt.ylabel('Error')\n",
    "plt.legend(['Train', 'Test'])\n",
    "plt.show()"
   ]
  },
  {
   "cell_type": "markdown",
   "id": "0aa7bc40",
   "metadata": {},
   "source": [
    "##### From the above plot, we can observe that the least error we can get is at **`alpha_0.001`**."
   ]
  },
  {
   "cell_type": "code",
   "execution_count": 85,
   "id": "d561ba88",
   "metadata": {},
   "outputs": [
    {
     "data": {
      "text/plain": [
       "0.45826972692086715"
      ]
     },
     "execution_count": 85,
     "metadata": {},
     "output_type": "execute_result"
    }
   ],
   "source": [
    "matrix_ridge.min()[0]"
   ]
  },
  {
   "cell_type": "markdown",
   "id": "72a39d40",
   "metadata": {},
   "source": [
    "#### Interpreting the coefficients"
   ]
  },
  {
   "cell_type": "code",
   "execution_count": 86,
   "id": "53b5059f",
   "metadata": {},
   "outputs": [
    {
     "data": {
      "image/png": "[encoded data removed]",
      "text/plain": [
       "<Figure size 960x720 with 1 Axes>"
      ]
     },
     "metadata": {},
     "output_type": "display_data"
    }
   ],
   "source": [
    "plt.figure(figsize=(8, 6), dpi=120, facecolor='w', edgecolor='b')\n",
    "x = range(len(train_x.columns))\n",
    "y = R.coef_\n",
    "plt.bar( x, y )\n",
    "plt.xlabel( \"Variables\")\n",
    "plt.ylabel('Coefficients')\n",
    "plt.title('Coefficient plot')\n",
    "plt.show()"
   ]
  },
  {
   "cell_type": "markdown",
   "id": "33ea2f35",
   "metadata": {},
   "source": [
    "###### Interpretation from the linear variable Coefficients -\n",
    "\n",
    "* The above coefficient is normalized which can be used for making final inferences out of it.\n",
    "* From the above coefficient plot, we can interpret that 2 of the variables are mostly contributing in the linear model while rest a=do not have any major impact on the ridge regression model."
   ]
  },
  {
   "cell_type": "markdown",
   "id": "595e0ec2",
   "metadata": {},
   "source": [
    "### Lasso"
   ]
  },
  {
   "cell_type": "code",
   "execution_count": 87,
   "id": "ffa017f9",
   "metadata": {},
   "outputs": [],
   "source": [
    "# Importing Lasso model from sklearn's linear_model module\n",
    "from sklearn.linear_model import Lasso"
   ]
  },
  {
   "cell_type": "code",
   "execution_count": 88,
   "id": "394095d8",
   "metadata": {},
   "outputs": [],
   "source": [
    "# Definining the alpha values to test\n",
    "alpha_lasso = [0, 1e-10, 1e-8, 1e-5,1e-4, 1e-3,1e-2, 1, 5, 10]"
   ]
  },
  {
   "cell_type": "code",
   "execution_count": 89,
   "id": "050b1a8e",
   "metadata": {},
   "outputs": [],
   "source": [
    "train_error_lasso = []\n",
    "test_error_lasso = []\n",
    "\n",
    "for i in alpha_lasso:\n",
    "    \n",
    "    L = Lasso(alpha = i, normalize=True)\n",
    "    L.fit(train_x, train_y)\n",
    "    train_y_pred = L.predict(train_x)\n",
    "    test_y_pred = L.predict(test_x)\n",
    "    \n",
    "    mrss_train = sum((train_y_pred-train_y)**2)/train_x.shape[0]\n",
    "    mrss_test = sum((test_y_pred-test_y)**2)/test_x.shape[0]\n",
    "    \n",
    "    train_error_lasso.append(mrss_train)\n",
    "    test_error_lasso.append(mrss_test)"
   ]
  },
  {
   "cell_type": "code",
   "execution_count": 90,
   "id": "004fa2e3",
   "metadata": {},
   "outputs": [],
   "source": [
    "# Initializing the dataframe to store error\n",
    "\n",
    "col = ['train_error_lasso','test_error_lasso']\n",
    "ind = ['alpha_%.2g'%alpha_lasso[i] for i in range(0,10)]\n",
    "matrix_lasso = pd.DataFrame(index=ind, columns=col)"
   ]
  },
  {
   "cell_type": "code",
   "execution_count": 91,
   "id": "073c88b9",
   "metadata": {
    "scrolled": false
   },
   "outputs": [
    {
     "data": {
      "text/html": [
       "<div>\n",
       "<style scoped>\n",
       "    .dataframe tbody tr th:only-of-type {\n",
       "        vertical-align: middle;\n",
       "    }\n",
       "\n",
       "    .dataframe tbody tr th {\n",
       "        vertical-align: top;\n",
       "    }\n",
       "\n",
       "    .dataframe thead th {\n",
       "        text-align: right;\n",
       "    }\n",
       "</style>\n",
       "<table border=\"1\" class=\"dataframe\">\n",
       "  <thead>\n",
       "    <tr style=\"text-align: right;\">\n",
       "      <th></th>\n",
       "      <th>train_error_lasso</th>\n",
       "      <th>test_error_lasso</th>\n",
       "    </tr>\n",
       "  </thead>\n",
       "  <tbody>\n",
       "    <tr>\n",
       "      <th>alpha_0</th>\n",
       "      <td>0.458270</td>\n",
       "      <td>0.457860</td>\n",
       "    </tr>\n",
       "    <tr>\n",
       "      <th>alpha_1e-10</th>\n",
       "      <td>0.458270</td>\n",
       "      <td>0.457860</td>\n",
       "    </tr>\n",
       "    <tr>\n",
       "      <th>alpha_1e-08</th>\n",
       "      <td>0.458270</td>\n",
       "      <td>0.457860</td>\n",
       "    </tr>\n",
       "    <tr>\n",
       "      <th>alpha_1e-05</th>\n",
       "      <td>0.458405</td>\n",
       "      <td>0.458035</td>\n",
       "    </tr>\n",
       "    <tr>\n",
       "      <th>alpha_0.0001</th>\n",
       "      <td>0.466907</td>\n",
       "      <td>0.466783</td>\n",
       "    </tr>\n",
       "    <tr>\n",
       "      <th>alpha_0.001</th>\n",
       "      <td>0.497738</td>\n",
       "      <td>0.497664</td>\n",
       "    </tr>\n",
       "    <tr>\n",
       "      <th>alpha_0.01</th>\n",
       "      <td>0.497738</td>\n",
       "      <td>0.497664</td>\n",
       "    </tr>\n",
       "    <tr>\n",
       "      <th>alpha_1</th>\n",
       "      <td>0.497738</td>\n",
       "      <td>0.497664</td>\n",
       "    </tr>\n",
       "    <tr>\n",
       "      <th>alpha_5</th>\n",
       "      <td>0.497738</td>\n",
       "      <td>0.497664</td>\n",
       "    </tr>\n",
       "    <tr>\n",
       "      <th>alpha_10</th>\n",
       "      <td>0.497738</td>\n",
       "      <td>0.497664</td>\n",
       "    </tr>\n",
       "  </tbody>\n",
       "</table>\n",
       "</div>"
      ],
      "text/plain": [
       "              train_error_lasso  test_error_lasso\n",
       "alpha_0                0.458270          0.457860\n",
       "alpha_1e-10            0.458270          0.457860\n",
       "alpha_1e-08            0.458270          0.457860\n",
       "alpha_1e-05            0.458405          0.458035\n",
       "alpha_0.0001           0.466907          0.466783\n",
       "alpha_0.001            0.497738          0.497664\n",
       "alpha_0.01             0.497738          0.497664\n",
       "alpha_1                0.497738          0.497664\n",
       "alpha_5                0.497738          0.497664\n",
       "alpha_10               0.497738          0.497664"
      ]
     },
     "execution_count": 91,
     "metadata": {},
     "output_type": "execute_result"
    }
   ],
   "source": [
    "matrix_lasso['train_error_lasso'] = train_error_lasso\n",
    "matrix_lasso['test_error_lasso'] = test_error_lasso\n",
    "matrix_lasso"
   ]
  },
  {
   "cell_type": "code",
   "execution_count": 92,
   "id": "18bec4d8",
   "metadata": {},
   "outputs": [
    {
     "data": {
      "image/png": "[encoded data removed]",
      "text/plain": [
       "<Figure size 432x288 with 1 Axes>"
      ]
     },
     "metadata": {},
     "output_type": "display_data"
    }
   ],
   "source": [
    "# Plotting the Alpha Values VS Error graph\n",
    "\n",
    "matrix_lasso[['train_error_lasso','test_error_lasso']].plot()\n",
    "plt.xlabel('Alpha Values')\n",
    "plt.ylabel('Error')\n",
    "plt.legend(['Train', 'Test'])\n",
    "plt.show()"
   ]
  },
  {
   "cell_type": "markdown",
   "id": "eb88d26b",
   "metadata": {},
   "source": [
    "##### From the above plot, we can observe that the least error we can get is at **`alpha_1e-08`**."
   ]
  },
  {
   "cell_type": "code",
   "execution_count": 93,
   "id": "8005232c",
   "metadata": {},
   "outputs": [
    {
     "data": {
      "text/plain": [
       "train_error_lasso    0.45827\n",
       "test_error_lasso     0.45786\n",
       "dtype: float64"
      ]
     },
     "execution_count": 93,
     "metadata": {},
     "output_type": "execute_result"
    }
   ],
   "source": [
    "matrix_lasso.min()"
   ]
  },
  {
   "cell_type": "markdown",
   "id": "8708fcff",
   "metadata": {},
   "source": [
    "### Plotting the coefficients"
   ]
  },
  {
   "cell_type": "code",
   "execution_count": 94,
   "id": "0bb1a5f7",
   "metadata": {
    "scrolled": true
   },
   "outputs": [
    {
     "data": {
      "text/plain": [
       "array([ 0.,  0., -0.,  0.])"
      ]
     },
     "execution_count": 94,
     "metadata": {},
     "output_type": "execute_result"
    }
   ],
   "source": [
    "L.coef_"
   ]
  },
  {
   "cell_type": "code",
   "execution_count": 95,
   "id": "73c4e30e",
   "metadata": {},
   "outputs": [
    {
     "data": {
      "image/png": "[encoded data removed]",
      "text/plain": [
       "<Figure size 480x480 with 1 Axes>"
      ]
     },
     "metadata": {},
     "output_type": "display_data"
    }
   ],
   "source": [
    "plt.figure(figsize=(4, 4), dpi=120, facecolor='w', edgecolor='b')\n",
    "x = range(len(train_x.columns))\n",
    "y = L.coef_\n",
    "plt.bar( x, y )\n",
    "plt.xlabel( \"Variables\")\n",
    "plt.ylabel('Coefficients')\n",
    "plt.title('Normalized Coefficient plot')\n",
    "plt.show()"
   ]
  },
  {
   "cell_type": "markdown",
   "id": "b15ae5f9",
   "metadata": {},
   "source": [
    "###### Interpretation from the linear variable Coefficients -\n",
    "\n",
    "* The above coefficient is normalized which can be used for making final inferences out of it.\n",
    "* From the above coefficient plot, we can interpret that none of the variables are contributing in the lasso modeling."
   ]
  },
  {
   "cell_type": "markdown",
   "id": "9b66bfd8",
   "metadata": {},
   "source": [
    "---\n",
    "\n",
    "## Q5. Build a Decision tree model for the given dataset. Attempt to interpret the variable importance."
   ]
  },
  {
   "cell_type": "markdown",
   "id": "51b8be87",
   "metadata": {},
   "source": [
    "### Segregating variables: Independent and Dependent Variables"
   ]
  },
  {
   "cell_type": "code",
   "execution_count": 96,
   "id": "3e028e1f",
   "metadata": {},
   "outputs": [
    {
     "data": {
      "text/plain": [
       "((715982, 11), (715982,))"
      ]
     },
     "execution_count": 96,
     "metadata": {},
     "output_type": "execute_result"
    }
   ],
   "source": [
    "# Seperating independent and dependent variables\n",
    "\n",
    "# Features\n",
    "x = data.drop(['log_trip_duration'], axis=1)\n",
    "\n",
    "# Target\n",
    "y = data['log_trip_duration']\n",
    "\n",
    "x.shape, y.shape"
   ]
  },
  {
   "cell_type": "markdown",
   "id": "6b9c5608",
   "metadata": {},
   "source": [
    "### Splitting the data into train set and the test set"
   ]
  },
  {
   "cell_type": "code",
   "execution_count": 97,
   "id": "d01e6b7b",
   "metadata": {},
   "outputs": [],
   "source": [
    "# Importing the train test split function\n",
    "from sklearn.model_selection import train_test_split\n",
    "train_x,test_x,train_y,test_y = train_test_split(x,y, random_state = 56, test_size = 0.25)"
   ]
  },
  {
   "cell_type": "markdown",
   "id": "3c1b9336",
   "metadata": {},
   "source": [
    "### Implementing Decision Tree Regressor"
   ]
  },
  {
   "cell_type": "code",
   "execution_count": 98,
   "id": "82b8e4b7",
   "metadata": {},
   "outputs": [],
   "source": [
    "# Importing decision tree regressor\n",
    "from sklearn.tree import DecisionTreeRegressor"
   ]
  },
  {
   "cell_type": "code",
   "execution_count": 99,
   "id": "d6c3b334",
   "metadata": {},
   "outputs": [],
   "source": [
    "# Creating the decision tree function\n",
    "dt_model = DecisionTreeRegressor(random_state=10)"
   ]
  },
  {
   "cell_type": "code",
   "execution_count": 100,
   "id": "704bfba0",
   "metadata": {},
   "outputs": [
    {
     "data": {
      "text/plain": [
       "DecisionTreeRegressor(random_state=10)"
      ]
     },
     "execution_count": 100,
     "metadata": {},
     "output_type": "execute_result"
    }
   ],
   "source": [
    "# Fitting the model\n",
    "dt_model.fit(train_x, train_y)"
   ]
  },
  {
   "cell_type": "code",
   "execution_count": 101,
   "id": "064a9dfd",
   "metadata": {},
   "outputs": [
    {
     "data": {
      "text/plain": [
       "0.9999950762507785"
      ]
     },
     "execution_count": 101,
     "metadata": {},
     "output_type": "execute_result"
    }
   ],
   "source": [
    "# Checking the training score\n",
    "dt_model.score(train_x, train_y)"
   ]
  },
  {
   "cell_type": "code",
   "execution_count": 102,
   "id": "018f50c0",
   "metadata": {},
   "outputs": [
    {
     "data": {
      "text/plain": [
       "0.5684601912091733"
      ]
     },
     "execution_count": 102,
     "metadata": {},
     "output_type": "execute_result"
    }
   ],
   "source": [
    "# Checking the test score\n",
    "dt_model.score(test_x, test_y)"
   ]
  },
  {
   "cell_type": "code",
   "execution_count": 103,
   "id": "2c90ffc0",
   "metadata": {},
   "outputs": [],
   "source": [
    "# Predictions on test set\n",
    "y_pred = dt_model.predict(test_x)"
   ]
  },
  {
   "cell_type": "markdown",
   "id": "cc8780a2",
   "metadata": {},
   "source": [
    "#### Changing the max_depth"
   ]
  },
  {
   "cell_type": "code",
   "execution_count": 104,
   "id": "2a861c70",
   "metadata": {},
   "outputs": [],
   "source": [
    "train_accuracy = []\n",
    "test_accuracy = []\n",
    "for depth in range(1,30):\n",
    "    dt_model = DecisionTreeRegressor(max_depth=depth, random_state=10)\n",
    "    dt_model.fit(train_x, train_y)\n",
    "    train_accuracy.append(dt_model.score(train_x, train_y))\n",
    "    test_accuracy.append(dt_model.score(test_x, test_y))"
   ]
  },
  {
   "cell_type": "code",
   "execution_count": 105,
   "id": "94e9098c",
   "metadata": {},
   "outputs": [
    {
     "data": {
      "text/html": [
       "<div>\n",
       "<style scoped>\n",
       "    .dataframe tbody tr th:only-of-type {\n",
       "        vertical-align: middle;\n",
       "    }\n",
       "\n",
       "    .dataframe tbody tr th {\n",
       "        vertical-align: top;\n",
       "    }\n",
       "\n",
       "    .dataframe thead th {\n",
       "        text-align: right;\n",
       "    }\n",
       "</style>\n",
       "<table border=\"1\" class=\"dataframe\">\n",
       "  <thead>\n",
       "    <tr style=\"text-align: right;\">\n",
       "      <th></th>\n",
       "      <th>max_depth</th>\n",
       "      <th>train_acc</th>\n",
       "      <th>test_acc</th>\n",
       "    </tr>\n",
       "  </thead>\n",
       "  <tbody>\n",
       "    <tr>\n",
       "      <th>0</th>\n",
       "      <td>1</td>\n",
       "      <td>0.099740</td>\n",
       "      <td>0.098872</td>\n",
       "    </tr>\n",
       "    <tr>\n",
       "      <th>1</th>\n",
       "      <td>2</td>\n",
       "      <td>0.175118</td>\n",
       "      <td>0.175315</td>\n",
       "    </tr>\n",
       "    <tr>\n",
       "      <th>2</th>\n",
       "      <td>3</td>\n",
       "      <td>0.218434</td>\n",
       "      <td>0.217927</td>\n",
       "    </tr>\n",
       "    <tr>\n",
       "      <th>3</th>\n",
       "      <td>4</td>\n",
       "      <td>0.276628</td>\n",
       "      <td>0.275836</td>\n",
       "    </tr>\n",
       "    <tr>\n",
       "      <th>4</th>\n",
       "      <td>5</td>\n",
       "      <td>0.311894</td>\n",
       "      <td>0.310457</td>\n",
       "    </tr>\n",
       "    <tr>\n",
       "      <th>5</th>\n",
       "      <td>6</td>\n",
       "      <td>0.335355</td>\n",
       "      <td>0.334237</td>\n",
       "    </tr>\n",
       "    <tr>\n",
       "      <th>6</th>\n",
       "      <td>7</td>\n",
       "      <td>0.413576</td>\n",
       "      <td>0.412425</td>\n",
       "    </tr>\n",
       "    <tr>\n",
       "      <th>7</th>\n",
       "      <td>8</td>\n",
       "      <td>0.445711</td>\n",
       "      <td>0.442968</td>\n",
       "    </tr>\n",
       "    <tr>\n",
       "      <th>8</th>\n",
       "      <td>9</td>\n",
       "      <td>0.482716</td>\n",
       "      <td>0.479353</td>\n",
       "    </tr>\n",
       "    <tr>\n",
       "      <th>9</th>\n",
       "      <td>10</td>\n",
       "      <td>0.516750</td>\n",
       "      <td>0.510261</td>\n",
       "    </tr>\n",
       "    <tr>\n",
       "      <th>10</th>\n",
       "      <td>11</td>\n",
       "      <td>0.545103</td>\n",
       "      <td>0.535723</td>\n",
       "    </tr>\n",
       "    <tr>\n",
       "      <th>11</th>\n",
       "      <td>12</td>\n",
       "      <td>0.573062</td>\n",
       "      <td>0.559962</td>\n",
       "    </tr>\n",
       "    <tr>\n",
       "      <th>12</th>\n",
       "      <td>13</td>\n",
       "      <td>0.603688</td>\n",
       "      <td>0.585108</td>\n",
       "    </tr>\n",
       "    <tr>\n",
       "      <th>13</th>\n",
       "      <td>14</td>\n",
       "      <td>0.632835</td>\n",
       "      <td>0.605839</td>\n",
       "    </tr>\n",
       "    <tr>\n",
       "      <th>14</th>\n",
       "      <td>15</td>\n",
       "      <td>0.663497</td>\n",
       "      <td>0.626675</td>\n",
       "    </tr>\n",
       "    <tr>\n",
       "      <th>15</th>\n",
       "      <td>16</td>\n",
       "      <td>0.690829</td>\n",
       "      <td>0.642543</td>\n",
       "    </tr>\n",
       "    <tr>\n",
       "      <th>16</th>\n",
       "      <td>17</td>\n",
       "      <td>0.718147</td>\n",
       "      <td>0.654311</td>\n",
       "    </tr>\n",
       "    <tr>\n",
       "      <th>17</th>\n",
       "      <td>18</td>\n",
       "      <td>0.743503</td>\n",
       "      <td>0.662427</td>\n",
       "    </tr>\n",
       "    <tr>\n",
       "      <th>18</th>\n",
       "      <td>19</td>\n",
       "      <td>0.767453</td>\n",
       "      <td>0.663841</td>\n",
       "    </tr>\n",
       "    <tr>\n",
       "      <th>19</th>\n",
       "      <td>20</td>\n",
       "      <td>0.793828</td>\n",
       "      <td>0.666830</td>\n",
       "    </tr>\n",
       "    <tr>\n",
       "      <th>20</th>\n",
       "      <td>21</td>\n",
       "      <td>0.817485</td>\n",
       "      <td>0.663071</td>\n",
       "    </tr>\n",
       "    <tr>\n",
       "      <th>21</th>\n",
       "      <td>22</td>\n",
       "      <td>0.840064</td>\n",
       "      <td>0.657833</td>\n",
       "    </tr>\n",
       "    <tr>\n",
       "      <th>22</th>\n",
       "      <td>23</td>\n",
       "      <td>0.861236</td>\n",
       "      <td>0.648065</td>\n",
       "    </tr>\n",
       "    <tr>\n",
       "      <th>23</th>\n",
       "      <td>24</td>\n",
       "      <td>0.881348</td>\n",
       "      <td>0.640681</td>\n",
       "    </tr>\n",
       "    <tr>\n",
       "      <th>24</th>\n",
       "      <td>25</td>\n",
       "      <td>0.899855</td>\n",
       "      <td>0.631894</td>\n",
       "    </tr>\n",
       "    <tr>\n",
       "      <th>25</th>\n",
       "      <td>26</td>\n",
       "      <td>0.916578</td>\n",
       "      <td>0.623548</td>\n",
       "    </tr>\n",
       "    <tr>\n",
       "      <th>26</th>\n",
       "      <td>27</td>\n",
       "      <td>0.931018</td>\n",
       "      <td>0.614480</td>\n",
       "    </tr>\n",
       "    <tr>\n",
       "      <th>27</th>\n",
       "      <td>28</td>\n",
       "      <td>0.943812</td>\n",
       "      <td>0.607398</td>\n",
       "    </tr>\n",
       "    <tr>\n",
       "      <th>28</th>\n",
       "      <td>29</td>\n",
       "      <td>0.954408</td>\n",
       "      <td>0.601644</td>\n",
       "    </tr>\n",
       "  </tbody>\n",
       "</table>\n",
       "</div>"
      ],
      "text/plain": [
       "    max_depth  train_acc  test_acc\n",
       "0           1   0.099740  0.098872\n",
       "1           2   0.175118  0.175315\n",
       "2           3   0.218434  0.217927\n",
       "3           4   0.276628  0.275836\n",
       "4           5   0.311894  0.310457\n",
       "5           6   0.335355  0.334237\n",
       "6           7   0.413576  0.412425\n",
       "7           8   0.445711  0.442968\n",
       "8           9   0.482716  0.479353\n",
       "9          10   0.516750  0.510261\n",
       "10         11   0.545103  0.535723\n",
       "11         12   0.573062  0.559962\n",
       "12         13   0.603688  0.585108\n",
       "13         14   0.632835  0.605839\n",
       "14         15   0.663497  0.626675\n",
       "15         16   0.690829  0.642543\n",
       "16         17   0.718147  0.654311\n",
       "17         18   0.743503  0.662427\n",
       "18         19   0.767453  0.663841\n",
       "19         20   0.793828  0.666830\n",
       "20         21   0.817485  0.663071\n",
       "21         22   0.840064  0.657833\n",
       "22         23   0.861236  0.648065\n",
       "23         24   0.881348  0.640681\n",
       "24         25   0.899855  0.631894\n",
       "25         26   0.916578  0.623548\n",
       "26         27   0.931018  0.614480\n",
       "27         28   0.943812  0.607398\n",
       "28         29   0.954408  0.601644"
      ]
     },
     "execution_count": 105,
     "metadata": {},
     "output_type": "execute_result"
    }
   ],
   "source": [
    "frame = pd.DataFrame({'max_depth':range(1,30), 'train_acc':train_accuracy, 'test_acc':test_accuracy})\n",
    "frame"
   ]
  },
  {
   "cell_type": "code",
   "execution_count": 106,
   "id": "fc55e61a",
   "metadata": {},
   "outputs": [
    {
     "data": {
      "image/png": "[encoded data removed]",
      "text/plain": [
       "<Figure size 864x432 with 1 Axes>"
      ]
     },
     "metadata": {},
     "output_type": "display_data"
    }
   ],
   "source": [
    "plt.figure(figsize=(12,6))\n",
    "plt.plot(frame['max_depth'], frame['train_acc'], marker='o')\n",
    "plt.plot(frame['max_depth'], frame['test_acc'], marker='o')\n",
    "plt.xlabel('Depth of tree')\n",
    "plt.ylabel('performance')\n",
    "plt.legend(['Train', 'Test'])\n",
    "plt.show()"
   ]
  },
  {
   "cell_type": "code",
   "execution_count": 107,
   "id": "2cf1134d",
   "metadata": {},
   "outputs": [],
   "source": [
    "dt_model = DecisionTreeRegressor(max_depth=18, max_leaf_nodes=80, random_state=10)"
   ]
  },
  {
   "cell_type": "code",
   "execution_count": 108,
   "id": "1e26e50d",
   "metadata": {},
   "outputs": [
    {
     "data": {
      "text/plain": [
       "DecisionTreeRegressor(max_depth=18, max_leaf_nodes=80, random_state=10)"
      ]
     },
     "execution_count": 108,
     "metadata": {},
     "output_type": "execute_result"
    }
   ],
   "source": [
    "# Fitting the model\n",
    "dt_model.fit(train_x, train_y)"
   ]
  },
  {
   "cell_type": "code",
   "execution_count": 109,
   "id": "0d0fd5ea",
   "metadata": {},
   "outputs": [
    {
     "data": {
      "text/plain": [
       "0.5246615145105771"
      ]
     },
     "execution_count": 109,
     "metadata": {},
     "output_type": "execute_result"
    }
   ],
   "source": [
    "# Training score\n",
    "dt_model.score(train_x, train_y)"
   ]
  },
  {
   "cell_type": "code",
   "execution_count": 110,
   "id": "77d3de91",
   "metadata": {},
   "outputs": [
    {
     "data": {
      "text/plain": [
       "0.521722466581197"
      ]
     },
     "execution_count": 110,
     "metadata": {},
     "output_type": "execute_result"
    }
   ],
   "source": [
    "# Test score\n",
    "dt_model.score(test_x, test_y)"
   ]
  },
  {
   "cell_type": "code",
   "execution_count": 111,
   "id": "a18b5707",
   "metadata": {},
   "outputs": [],
   "source": [
    "from sklearn import tree"
   ]
  },
  {
   "cell_type": "code",
   "execution_count": 112,
   "id": "9e214748",
   "metadata": {},
   "outputs": [],
   "source": [
    "decision_tree = tree.export_graphviz(dt_model,out_file='tree.dot',feature_names=train_x.columns,max_depth=2,filled=True)"
   ]
  },
  {
   "cell_type": "code",
   "execution_count": 113,
   "id": "fb4330fa",
   "metadata": {},
   "outputs": [],
   "source": [
    "!dot -Tpng tree.dot -o tree.png"
   ]
  },
  {
   "cell_type": "code",
   "execution_count": 114,
   "id": "2bb50cd1",
   "metadata": {
    "scrolled": false
   },
   "outputs": [
    {
     "data": {
      "image/png": "[encoded data removed]",
      "text/plain": [
       "<Figure size 1080x2880 with 1 Axes>"
      ]
     },
     "metadata": {},
     "output_type": "display_data"
    }
   ],
   "source": [
    "image = plt.imread('tree.png')\n",
    "plt.figure(figsize=(15, 40))\n",
    "plt.imshow(image)\n",
    "plt.show()"
   ]
  },
  {
   "cell_type": "markdown",
   "id": "a7dc0df3",
   "metadata": {},
   "source": [
    "#### Variable Importance -\n",
    "\n",
    "* From the above decision tree model, it can be interpreted that the variable **`pickup_longitude`** is the most suitable root node because after splitting, reduction in varience, i.e., MSE, of the child nodes is least compared to other variables after the split."
   ]
  },
  {
   "cell_type": "markdown",
   "id": "13c23689",
   "metadata": {},
   "source": [
    "---\n",
    "\n",
    "## Q6. Plot the following Barplots:\n",
    "##### a. train score of all the above models.\n",
    "##### b. test (not validation!) score of all the above models.\n",
    "##### c. Attempt to explain the observations from the plots (optional)."
   ]
  },
  {
   "cell_type": "code",
   "execution_count": 115,
   "id": "00415ee1",
   "metadata": {},
   "outputs": [],
   "source": [
    "# Collecting scores from the models and putting them in respective variables.\n",
    "\n",
    "# KNN\n",
    "a = (1 - k_train_knn)*100\n",
    "b = (1 - k_test_knn)*100\n",
    "\n",
    "# Linear Regression\n",
    "c = (1 - mrss_train_regression)*100\n",
    "d = (1 - mrss_test_regression)*100\n",
    "\n",
    "# Ridge Regression\n",
    "e = (1 - matrix_ridge.min()[0])*100\n",
    "f = (1 - matrix_ridge.min()[1])*100\n",
    "\n",
    "# Lasso Regression\n",
    "g = (1 - matrix_lasso.min()[0])*100\n",
    "h = (1 - matrix_lasso.min()[1])*100\n",
    "\n",
    "# Decision Tree\n",
    "i = (dt_model.score(train_x, train_y))*100\n",
    "j = (dt_model.score(test_x, test_y))*100"
   ]
  },
  {
   "cell_type": "markdown",
   "id": "3f91da44",
   "metadata": {},
   "source": [
    "#### Train Error Bar plot"
   ]
  },
  {
   "cell_type": "code",
   "execution_count": 116,
   "id": "7b391245",
   "metadata": {},
   "outputs": [],
   "source": [
    "train_error_name = ['Train Score KNN',\n",
    "                    'Train Score Linear Regression',\n",
    "                    'Train Score Ridge',\n",
    "                    'Train Score Lasso',\n",
    "                    'Train Score Decision Tree']\n",
    "score_train = [a, c, e, g, i]"
   ]
  },
  {
   "cell_type": "code",
   "execution_count": 120,
   "id": "eaf3aca0",
   "metadata": {
    "scrolled": false
   },
   "outputs": [
    {
     "data": {
      "image/png": "[encoded data removed]",
      "text/plain": [
       "<Figure size 720x576 with 1 Axes>"
      ]
     },
     "metadata": {},
     "output_type": "display_data"
    }
   ],
   "source": [
    "plt.figure(figsize = (10, 8))\n",
    "plt.ylim(0, 100)\n",
    "plt.bar(train_error_name, score_train, color=['red', 'orange', 'magenta', 'green', 'yellow'])\n",
    "plt.xlabel('Models')\n",
    "plt.ylabel('Score')\n",
    "plt.title('Train Score of the Models');"
   ]
  },
  {
   "cell_type": "markdown",
   "id": "7a3f95d8",
   "metadata": {},
   "source": [
    "Observation -\n",
    "\n",
    "* From the above bar plot it can be observed that the train score of KNN model has the best score among all of the other models."
   ]
  },
  {
   "cell_type": "markdown",
   "id": "53d39d13",
   "metadata": {},
   "source": [
    "#### Test error Bar plot"
   ]
  },
  {
   "cell_type": "code",
   "execution_count": 118,
   "id": "9240fda2",
   "metadata": {},
   "outputs": [],
   "source": [
    "test_error_name = ['Test Score KNN',\n",
    "                   'Test Score Linear Regression',\n",
    "                   'Test Score Ridge',\n",
    "                   'Test Score Lasso',\n",
    "                   'Test Score Decision Tree']\n",
    "score_test = [b, d, f, h, j]"
   ]
  },
  {
   "cell_type": "code",
   "execution_count": 121,
   "id": "1e56e90e",
   "metadata": {},
   "outputs": [
    {
     "data": {
      "image/png": "[encoded data removed]",
      "text/plain": [
       "<Figure size 720x576 with 1 Axes>"
      ]
     },
     "metadata": {},
     "output_type": "display_data"
    }
   ],
   "source": [
    "plt.figure(figsize = (10, 8))\n",
    "plt.ylim(0, 100)\n",
    "plt.bar(test_error_name, score_test, color=['red', 'orange', 'magenta', 'green', 'yellow'])\n",
    "plt.xlabel('Models')\n",
    "plt.ylabel('Score')\n",
    "plt.title('Test Score of the Models');"
   ]
  },
  {
   "cell_type": "markdown",
   "id": "c332c654",
   "metadata": {},
   "source": [
    "Observation -\n",
    "\n",
    "* From the above test score bar plot, KNN model is performing best with least test error and better score among all the other models."
   ]
  },
  {
   "cell_type": "markdown",
   "id": "d9243ba9",
   "metadata": {},
   "source": [
    "###### **Overall observation** -\n",
    "* From the above bar plots, it can be seen that both the train and test score of all models are in sync with each other and out of all these models, K-Nearest Neighbor model is performing better than the other models."
   ]
  }
 ],
 "metadata": {
  "kernelspec": {
   "display_name": "Python 3",
   "language": "python",
   "name": "python3"
  },
  "language_info": {
   "codemirror_mode": {
    "name": "ipython",
    "version": 3
   },
   "file_extension": ".py",
   "mimetype": "text/x-python",
   "name": "python",
   "nbconvert_exporter": "python",
   "pygments_lexer": "ipython3",
   "version": "3.9.5"
  }
 },
 "nbformat": 4,
 "nbformat_minor": 5
}
