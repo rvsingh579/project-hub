{
 "cells": [
  {
   "cell_type": "markdown",
   "id": "76c689bb",
   "metadata": {},
   "source": [
    "## Problem Definition : Predict the total ride duration of taxi trips in New York City."
   ]
  },
  {
   "cell_type": "markdown",
   "id": "ef74fc63",
   "metadata": {},
   "source": [
    "## Hypothesis Generated:\n",
    "Trip duration  will be affected by following -\n",
    "1. Pickup datetime of trips\n",
    "2. Pickup and Drop location\n",
    "3. Number of passengers\n",
    "4. Traffic condition\n",
    "5. Weather Condition\n",
    "6. Mechanical issue"
   ]
  },
  {
   "cell_type": "markdown",
   "id": "27979b3d",
   "metadata": {},
   "source": [
    "## Data Loading After Extraction:"
   ]
  },
  {
   "cell_type": "code",
   "execution_count": 1,
   "id": "c09ee128",
   "metadata": {},
   "outputs": [],
   "source": [
    "import pandas as pd\n",
    "import matplotlib.pyplot as plt\n",
    "import seaborn as sns\n",
    "import numpy as np\n",
    "%matplotlib inline\n",
    "import warnings\n",
    "warnings.filterwarnings(action = 'ignore')\n",
    "import datetime as dt"
   ]
  },
  {
   "cell_type": "code",
   "execution_count": 2,
   "id": "040b8081",
   "metadata": {},
   "outputs": [],
   "source": [
    "data = pd.read_csv('nyc_taxi_trip_duration.csv')"
   ]
  },
  {
   "cell_type": "code",
   "execution_count": 3,
   "id": "339e9c65",
   "metadata": {},
   "outputs": [
    {
     "data": {
      "text/html": [
       "<div>\n",
       "<style scoped>\n",
       "    .dataframe tbody tr th:only-of-type {\n",
       "        vertical-align: middle;\n",
       "    }\n",
       "\n",
       "    .dataframe tbody tr th {\n",
       "        vertical-align: top;\n",
       "    }\n",
       "\n",
       "    .dataframe thead th {\n",
       "        text-align: right;\n",
       "    }\n",
       "</style>\n",
       "<table border=\"1\" class=\"dataframe\">\n",
       "  <thead>\n",
       "    <tr style=\"text-align: right;\">\n",
       "      <th></th>\n",
       "      <th>id</th>\n",
       "      <th>vendor_id</th>\n",
       "      <th>pickup_datetime</th>\n",
       "      <th>dropoff_datetime</th>\n",
       "      <th>passenger_count</th>\n",
       "      <th>pickup_longitude</th>\n",
       "      <th>pickup_latitude</th>\n",
       "      <th>dropoff_longitude</th>\n",
       "      <th>dropoff_latitude</th>\n",
       "      <th>store_and_fwd_flag</th>\n",
       "      <th>trip_duration</th>\n",
       "    </tr>\n",
       "  </thead>\n",
       "  <tbody>\n",
       "    <tr>\n",
       "      <th>0</th>\n",
       "      <td>id1080784</td>\n",
       "      <td>2</td>\n",
       "      <td>2016-02-29 16:40:21</td>\n",
       "      <td>2016-02-29 16:47:01</td>\n",
       "      <td>1</td>\n",
       "      <td>-73.953918</td>\n",
       "      <td>40.778873</td>\n",
       "      <td>-73.963875</td>\n",
       "      <td>40.771164</td>\n",
       "      <td>N</td>\n",
       "      <td>400</td>\n",
       "    </tr>\n",
       "    <tr>\n",
       "      <th>1</th>\n",
       "      <td>id0889885</td>\n",
       "      <td>1</td>\n",
       "      <td>2016-03-11 23:35:37</td>\n",
       "      <td>2016-03-11 23:53:57</td>\n",
       "      <td>2</td>\n",
       "      <td>-73.988312</td>\n",
       "      <td>40.731743</td>\n",
       "      <td>-73.994751</td>\n",
       "      <td>40.694931</td>\n",
       "      <td>N</td>\n",
       "      <td>1100</td>\n",
       "    </tr>\n",
       "    <tr>\n",
       "      <th>2</th>\n",
       "      <td>id0857912</td>\n",
       "      <td>2</td>\n",
       "      <td>2016-02-21 17:59:33</td>\n",
       "      <td>2016-02-21 18:26:48</td>\n",
       "      <td>2</td>\n",
       "      <td>-73.997314</td>\n",
       "      <td>40.721458</td>\n",
       "      <td>-73.948029</td>\n",
       "      <td>40.774918</td>\n",
       "      <td>N</td>\n",
       "      <td>1635</td>\n",
       "    </tr>\n",
       "    <tr>\n",
       "      <th>3</th>\n",
       "      <td>id3744273</td>\n",
       "      <td>2</td>\n",
       "      <td>2016-01-05 09:44:31</td>\n",
       "      <td>2016-01-05 10:03:32</td>\n",
       "      <td>6</td>\n",
       "      <td>-73.961670</td>\n",
       "      <td>40.759720</td>\n",
       "      <td>-73.956779</td>\n",
       "      <td>40.780628</td>\n",
       "      <td>N</td>\n",
       "      <td>1141</td>\n",
       "    </tr>\n",
       "    <tr>\n",
       "      <th>4</th>\n",
       "      <td>id0232939</td>\n",
       "      <td>1</td>\n",
       "      <td>2016-02-17 06:42:23</td>\n",
       "      <td>2016-02-17 06:56:31</td>\n",
       "      <td>1</td>\n",
       "      <td>-74.017120</td>\n",
       "      <td>40.708469</td>\n",
       "      <td>-73.988182</td>\n",
       "      <td>40.740631</td>\n",
       "      <td>N</td>\n",
       "      <td>848</td>\n",
       "    </tr>\n",
       "  </tbody>\n",
       "</table>\n",
       "</div>"
      ],
      "text/plain": [
       "          id  vendor_id      pickup_datetime     dropoff_datetime  \\\n",
       "0  id1080784          2  2016-02-29 16:40:21  2016-02-29 16:47:01   \n",
       "1  id0889885          1  2016-03-11 23:35:37  2016-03-11 23:53:57   \n",
       "2  id0857912          2  2016-02-21 17:59:33  2016-02-21 18:26:48   \n",
       "3  id3744273          2  2016-01-05 09:44:31  2016-01-05 10:03:32   \n",
       "4  id0232939          1  2016-02-17 06:42:23  2016-02-17 06:56:31   \n",
       "\n",
       "   passenger_count  pickup_longitude  pickup_latitude  dropoff_longitude  \\\n",
       "0                1        -73.953918        40.778873         -73.963875   \n",
       "1                2        -73.988312        40.731743         -73.994751   \n",
       "2                2        -73.997314        40.721458         -73.948029   \n",
       "3                6        -73.961670        40.759720         -73.956779   \n",
       "4                1        -74.017120        40.708469         -73.988182   \n",
       "\n",
       "   dropoff_latitude store_and_fwd_flag  trip_duration  \n",
       "0         40.771164                  N            400  \n",
       "1         40.694931                  N           1100  \n",
       "2         40.774918                  N           1635  \n",
       "3         40.780628                  N           1141  \n",
       "4         40.740631                  N            848  "
      ]
     },
     "execution_count": 3,
     "metadata": {},
     "output_type": "execute_result"
    }
   ],
   "source": [
    "data.head()"
   ]
  },
  {
   "cell_type": "markdown",
   "id": "17702780",
   "metadata": {},
   "source": [
    "## Variable Identification and Typecasting:"
   ]
  },
  {
   "cell_type": "code",
   "execution_count": 4,
   "id": "b275302f",
   "metadata": {
    "scrolled": false
   },
   "outputs": [
    {
     "data": {
      "text/plain": [
       "id                     object\n",
       "vendor_id               int64\n",
       "pickup_datetime        object\n",
       "dropoff_datetime       object\n",
       "passenger_count         int64\n",
       "pickup_longitude      float64\n",
       "pickup_latitude       float64\n",
       "dropoff_longitude     float64\n",
       "dropoff_latitude      float64\n",
       "store_and_fwd_flag     object\n",
       "trip_duration           int64\n",
       "dtype: object"
      ]
     },
     "execution_count": 4,
     "metadata": {},
     "output_type": "execute_result"
    }
   ],
   "source": [
    "data.dtypes"
   ]
  },
  {
   "cell_type": "markdown",
   "id": "072bc0ce",
   "metadata": {},
   "source": [
    "Here we have only numerical data type that needs to be analysed and we will convert the pickup_datetime and dropoff_datetime to datetime module."
   ]
  },
  {
   "cell_type": "code",
   "execution_count": 5,
   "id": "b47782e7",
   "metadata": {},
   "outputs": [],
   "source": [
    "# converting strings to datetime features\n",
    "\n",
    "data['pickup_datetime'] = pd.to_datetime(data.pickup_datetime)\n",
    "data['dropoff_datetime'] = pd.to_datetime(data.dropoff_datetime)"
   ]
  },
  {
   "cell_type": "code",
   "execution_count": 6,
   "id": "94daa5d8",
   "metadata": {
    "scrolled": false
   },
   "outputs": [
    {
     "data": {
      "text/plain": [
       "id                    0\n",
       "vendor_id             0\n",
       "pickup_datetime       0\n",
       "dropoff_datetime      0\n",
       "passenger_count       0\n",
       "pickup_longitude      0\n",
       "pickup_latitude       0\n",
       "dropoff_longitude     0\n",
       "dropoff_latitude      0\n",
       "store_and_fwd_flag    0\n",
       "trip_duration         0\n",
       "dtype: int64"
      ]
     },
     "execution_count": 6,
     "metadata": {},
     "output_type": "execute_result"
    }
   ],
   "source": [
    "data.isnull().sum()"
   ]
  },
  {
   "cell_type": "markdown",
   "id": "7814f26c",
   "metadata": {},
   "source": [
    "There are no missing values, then we don't need to drop NaN values."
   ]
  },
  {
   "cell_type": "code",
   "execution_count": 7,
   "id": "ec274540",
   "metadata": {},
   "outputs": [],
   "source": [
    "# Importing the library which lets us calculate distance from geographical coordinates\n",
    "from geopy.distance import great_circle"
   ]
  },
  {
   "cell_type": "code",
   "execution_count": 8,
   "id": "350599b1",
   "metadata": {},
   "outputs": [],
   "source": [
    "# Defining a function to take coordinates as inputs and return us distance\n",
    "def cal_distance(pickup_lat,pickup_long,dropoff_lat,dropoff_long):\n",
    "    start_coordinates=(pickup_lat,pickup_long)\n",
    "    stop_coordinates=(dropoff_lat,dropoff_long)\n",
    "    return great_circle(start_coordinates,stop_coordinates).km"
   ]
  },
  {
   "cell_type": "code",
   "execution_count": 9,
   "id": "f2df5ac7",
   "metadata": {},
   "outputs": [],
   "source": [
    "# Applying the function to our dataset and creating the feature ‘distance’.\n",
    "data['distance'] = data.apply(lambda x: cal_distance(x['pickup_latitude'],x['pickup_longitude'],\n",
    "                                                     x['dropoff_latitude'],x['dropoff_longitude']), axis=1)"
   ]
  },
  {
   "cell_type": "code",
   "execution_count": 10,
   "id": "731e8b23",
   "metadata": {},
   "outputs": [
    {
     "data": {
      "text/html": [
       "<div>\n",
       "<style scoped>\n",
       "    .dataframe tbody tr th:only-of-type {\n",
       "        vertical-align: middle;\n",
       "    }\n",
       "\n",
       "    .dataframe tbody tr th {\n",
       "        vertical-align: top;\n",
       "    }\n",
       "\n",
       "    .dataframe thead th {\n",
       "        text-align: right;\n",
       "    }\n",
       "</style>\n",
       "<table border=\"1\" class=\"dataframe\">\n",
       "  <thead>\n",
       "    <tr style=\"text-align: right;\">\n",
       "      <th></th>\n",
       "      <th>id</th>\n",
       "      <th>vendor_id</th>\n",
       "      <th>pickup_datetime</th>\n",
       "      <th>dropoff_datetime</th>\n",
       "      <th>passenger_count</th>\n",
       "      <th>pickup_longitude</th>\n",
       "      <th>pickup_latitude</th>\n",
       "      <th>dropoff_longitude</th>\n",
       "      <th>dropoff_latitude</th>\n",
       "      <th>store_and_fwd_flag</th>\n",
       "      <th>trip_duration</th>\n",
       "      <th>distance</th>\n",
       "    </tr>\n",
       "  </thead>\n",
       "  <tbody>\n",
       "    <tr>\n",
       "      <th>0</th>\n",
       "      <td>id1080784</td>\n",
       "      <td>2</td>\n",
       "      <td>2016-02-29 16:40:21</td>\n",
       "      <td>2016-02-29 16:47:01</td>\n",
       "      <td>1</td>\n",
       "      <td>-73.953918</td>\n",
       "      <td>40.778873</td>\n",
       "      <td>-73.963875</td>\n",
       "      <td>40.771164</td>\n",
       "      <td>N</td>\n",
       "      <td>400</td>\n",
       "      <td>1.199074</td>\n",
       "    </tr>\n",
       "    <tr>\n",
       "      <th>1</th>\n",
       "      <td>id0889885</td>\n",
       "      <td>1</td>\n",
       "      <td>2016-03-11 23:35:37</td>\n",
       "      <td>2016-03-11 23:53:57</td>\n",
       "      <td>2</td>\n",
       "      <td>-73.988312</td>\n",
       "      <td>40.731743</td>\n",
       "      <td>-73.994751</td>\n",
       "      <td>40.694931</td>\n",
       "      <td>N</td>\n",
       "      <td>1100</td>\n",
       "      <td>4.129117</td>\n",
       "    </tr>\n",
       "    <tr>\n",
       "      <th>2</th>\n",
       "      <td>id0857912</td>\n",
       "      <td>2</td>\n",
       "      <td>2016-02-21 17:59:33</td>\n",
       "      <td>2016-02-21 18:26:48</td>\n",
       "      <td>2</td>\n",
       "      <td>-73.997314</td>\n",
       "      <td>40.721458</td>\n",
       "      <td>-73.948029</td>\n",
       "      <td>40.774918</td>\n",
       "      <td>N</td>\n",
       "      <td>1635</td>\n",
       "      <td>7.250763</td>\n",
       "    </tr>\n",
       "    <tr>\n",
       "      <th>3</th>\n",
       "      <td>id3744273</td>\n",
       "      <td>2</td>\n",
       "      <td>2016-01-05 09:44:31</td>\n",
       "      <td>2016-01-05 10:03:32</td>\n",
       "      <td>6</td>\n",
       "      <td>-73.961670</td>\n",
       "      <td>40.759720</td>\n",
       "      <td>-73.956779</td>\n",
       "      <td>40.780628</td>\n",
       "      <td>N</td>\n",
       "      <td>1141</td>\n",
       "      <td>2.361101</td>\n",
       "    </tr>\n",
       "    <tr>\n",
       "      <th>4</th>\n",
       "      <td>id0232939</td>\n",
       "      <td>1</td>\n",
       "      <td>2016-02-17 06:42:23</td>\n",
       "      <td>2016-02-17 06:56:31</td>\n",
       "      <td>1</td>\n",
       "      <td>-74.017120</td>\n",
       "      <td>40.708469</td>\n",
       "      <td>-73.988182</td>\n",
       "      <td>40.740631</td>\n",
       "      <td>N</td>\n",
       "      <td>848</td>\n",
       "      <td>4.328540</td>\n",
       "    </tr>\n",
       "  </tbody>\n",
       "</table>\n",
       "</div>"
      ],
      "text/plain": [
       "          id  vendor_id     pickup_datetime    dropoff_datetime  \\\n",
       "0  id1080784          2 2016-02-29 16:40:21 2016-02-29 16:47:01   \n",
       "1  id0889885          1 2016-03-11 23:35:37 2016-03-11 23:53:57   \n",
       "2  id0857912          2 2016-02-21 17:59:33 2016-02-21 18:26:48   \n",
       "3  id3744273          2 2016-01-05 09:44:31 2016-01-05 10:03:32   \n",
       "4  id0232939          1 2016-02-17 06:42:23 2016-02-17 06:56:31   \n",
       "\n",
       "   passenger_count  pickup_longitude  pickup_latitude  dropoff_longitude  \\\n",
       "0                1        -73.953918        40.778873         -73.963875   \n",
       "1                2        -73.988312        40.731743         -73.994751   \n",
       "2                2        -73.997314        40.721458         -73.948029   \n",
       "3                6        -73.961670        40.759720         -73.956779   \n",
       "4                1        -74.017120        40.708469         -73.988182   \n",
       "\n",
       "   dropoff_latitude store_and_fwd_flag  trip_duration  distance  \n",
       "0         40.771164                  N            400  1.199074  \n",
       "1         40.694931                  N           1100  4.129117  \n",
       "2         40.774918                  N           1635  7.250763  \n",
       "3         40.780628                  N           1141  2.361101  \n",
       "4         40.740631                  N            848  4.328540  "
      ]
     },
     "execution_count": 10,
     "metadata": {},
     "output_type": "execute_result"
    }
   ],
   "source": [
    "data.head()"
   ]
  },
  {
   "cell_type": "markdown",
   "id": "cd0bff30",
   "metadata": {},
   "source": [
    "### Target Variable:\n",
    "Let us analyse our target variable trip_duration."
   ]
  },
  {
   "cell_type": "code",
   "execution_count": 11,
   "id": "49cf50f1",
   "metadata": {},
   "outputs": [
    {
     "data": {
      "text/plain": [
       "0.2645080925998545"
      ]
     },
     "execution_count": 11,
     "metadata": {},
     "output_type": "execute_result"
    }
   ],
   "source": [
    "# Trip duration in hours\n",
    "\n",
    "data['trip_duration'].mean()/3600"
   ]
  },
  {
   "cell_type": "code",
   "execution_count": 12,
   "id": "92f85ce5",
   "metadata": {},
   "outputs": [
    {
     "data": {
      "text/plain": [
       "1.0735072770225538"
      ]
     },
     "execution_count": 12,
     "metadata": {},
     "output_type": "execute_result"
    }
   ],
   "source": [
    "data['trip_duration'].std()/3600"
   ]
  },
  {
   "cell_type": "code",
   "execution_count": 13,
   "id": "fbef14a5",
   "metadata": {},
   "outputs": [
    {
     "data": {
      "text/plain": [
       "0.0002777777777777778"
      ]
     },
     "execution_count": 13,
     "metadata": {},
     "output_type": "execute_result"
    }
   ],
   "source": [
    "data['trip_duration'].min()/3600"
   ]
  },
  {
   "cell_type": "code",
   "execution_count": 14,
   "id": "76ce47d2",
   "metadata": {},
   "outputs": [
    {
     "data": {
      "text/plain": [
       "538.8155555555555"
      ]
     },
     "execution_count": 14,
     "metadata": {},
     "output_type": "execute_result"
    }
   ],
   "source": [
    "data['trip_duration'].max()/3600"
   ]
  },
  {
   "cell_type": "code",
   "execution_count": 15,
   "id": "89326643",
   "metadata": {},
   "outputs": [
    {
     "data": {
      "text/plain": [
       "0.18416666666666667"
      ]
     },
     "execution_count": 15,
     "metadata": {},
     "output_type": "execute_result"
    }
   ],
   "source": [
    "data['trip_duration'].median()/3600"
   ]
  },
  {
   "cell_type": "markdown",
   "id": "dbb59232",
   "metadata": {},
   "source": [
    "Or we can use .describe() function"
   ]
  },
  {
   "cell_type": "code",
   "execution_count": 16,
   "id": "aaa8403d",
   "metadata": {},
   "outputs": [
    {
     "data": {
      "text/plain": [
       "count    202.589444\n",
       "mean       0.264508\n",
       "std        1.073507\n",
       "min        0.000278\n",
       "25%        0.110278\n",
       "50%        0.184167\n",
       "75%        0.298611\n",
       "max      538.815556\n",
       "Name: trip_duration, dtype: float64"
      ]
     },
     "execution_count": 16,
     "metadata": {},
     "output_type": "execute_result"
    }
   ],
   "source": [
    "data['trip_duration'].describe()/3600"
   ]
  },
  {
   "cell_type": "code",
   "execution_count": 17,
   "id": "966b59a8",
   "metadata": {
    "scrolled": true
   },
   "outputs": [
    {
     "data": {
      "image/png": "[encoded data removed]",
      "text/plain": [
       "<Figure size 432x288 with 1 Axes>"
      ]
     },
     "metadata": {
      "needs_background": "light"
     },
     "output_type": "display_data"
    }
   ],
   "source": [
    "sns.distplot(data['trip_duration'], bins = 100)\n",
    "plt.show()"
   ]
  },
  {
   "cell_type": "code",
   "execution_count": 18,
   "id": "5f259450",
   "metadata": {
    "scrolled": true
   },
   "outputs": [
    {
     "data": {
      "image/png": "[encoded data removed]",
      "text/plain": [
       "<Figure size 432x288 with 1 Axes>"
      ]
     },
     "metadata": {
      "needs_background": "light"
     },
     "output_type": "display_data"
    }
   ],
   "source": [
    "sns.kdeplot(data['trip_duration'], shade = True)\n",
    "plt.show()"
   ]
  },
  {
   "cell_type": "markdown",
   "id": "f61116dd",
   "metadata": {},
   "source": [
    "Since there is a huge outlier, we will take log of the trip_duration for visualising it better."
   ]
  },
  {
   "cell_type": "code",
   "execution_count": 19,
   "id": "6a80aee5",
   "metadata": {
    "scrolled": true
   },
   "outputs": [
    {
     "data": {
      "image/png": "[encoded data removed]",
      "text/plain": [
       "<Figure size 432x288 with 1 Axes>"
      ]
     },
     "metadata": {
      "needs_background": "light"
     },
     "output_type": "display_data"
    }
   ],
   "source": [
    "data['log_trip_duration'] = np.log(data['trip_duration'].values + 1)\n",
    "sns.kdeplot(data['log_trip_duration'], shade = True)\n",
    "plt.show()"
   ]
  },
  {
   "cell_type": "markdown",
   "id": "ec2c4b5e",
   "metadata": {},
   "source": [
    "1. The trip duration of rides are forming almost normal curve.\n",
    "2. As noticed earlier, there is an outlier present near 12.\n",
    "3. Also there are very short rides present which are of less than 10 seconds, which are suspicious."
   ]
  },
  {
   "cell_type": "markdown",
   "id": "144075fd",
   "metadata": {},
   "source": [
    "# Univariate Analysis:\n",
    "We will check our hypothesis using univariate analysis of variables."
   ]
  },
  {
   "cell_type": "code",
   "execution_count": 20,
   "id": "ffe6fd13",
   "metadata": {},
   "outputs": [
    {
     "data": {
      "text/plain": [
       "0.000000    2901\n",
       "0.000424      20\n",
       "0.000424      19\n",
       "0.000424      16\n",
       "0.000424      11\n",
       "            ... \n",
       "2.929161       1\n",
       "0.977650       1\n",
       "0.925223       1\n",
       "4.112012       1\n",
       "5.945846       1\n",
       "Name: distance, Length: 726243, dtype: int64"
      ]
     },
     "execution_count": 20,
     "metadata": {},
     "output_type": "execute_result"
    }
   ],
   "source": [
    "data['distance'].value_counts()"
   ]
  },
  {
   "cell_type": "markdown",
   "id": "717be47e",
   "metadata": {},
   "source": [
    "We see there are 2893 trips with 0 km distance.\n",
    "\n",
    "Possible reasons for 0 km distance can be:\n",
    "\n",
    "* The dropoff location couldn’t be tracked.\n",
    "* The driver deliberately took this ride to complete a target ride number.\n",
    "* The passengers canceled the trip."
   ]
  },
  {
   "cell_type": "code",
   "execution_count": 21,
   "id": "3d80aad1",
   "metadata": {},
   "outputs": [
    {
     "data": {
      "image/png": "[encoded data removed]",
      "text/plain": [
       "<Figure size 1368x432 with 3 Axes>"
      ]
     },
     "metadata": {
      "needs_background": "light"
     },
     "output_type": "display_data"
    }
   ],
   "source": [
    "plt.figure(figsize=(19, 6))\n",
    "\n",
    "plt.subplot(1, 3, 1)\n",
    "sns.countplot(data['passenger_count'])\n",
    "plt.xlabel('Passenger Count')\n",
    "plt.ylabel('Frequency')\n",
    "\n",
    "plt.subplot(1, 3, 2)\n",
    "sns.countplot(data['vendor_id'])\n",
    "plt.xlabel('Vendor ID')\n",
    "plt.ylabel('Frequency')\n",
    "\n",
    "plt.subplot(1, 3, 3)\n",
    "sns.countplot(data['store_and_fwd_flag'])\n",
    "plt.xlabel('Store And Fwd Flag')\n",
    "plt.ylabel('Frequency')\n",
    "plt.show()"
   ]
  },
  {
   "cell_type": "markdown",
   "id": "749896ab",
   "metadata": {},
   "source": [
    "Observation - \n",
    "1. Most frequent rides include only 1 passenger, while some of the rides include 7 to 9 passengers too and they are very low in number.\n",
    "2. Most of the rides have been completed by vendor 2 as compared to vendor 1.\n",
    "3. There is almost no storing of data taking place in the taxi and being updated later. (Y - Yes, N - No)"
   ]
  },
  {
   "cell_type": "markdown",
   "id": "faa63e4e",
   "metadata": {},
   "source": [
    "##### Observing trend in pickup datetime of trips"
   ]
  },
  {
   "cell_type": "code",
   "execution_count": 22,
   "id": "3f29be75",
   "metadata": {},
   "outputs": [],
   "source": [
    "data['day_of_week'] = data['pickup_datetime'].dt.weekday\n",
    "data['hour_of_day'] = data['pickup_datetime'].dt.hour"
   ]
  },
  {
   "cell_type": "code",
   "execution_count": 23,
   "id": "d13a054b",
   "metadata": {
    "scrolled": true
   },
   "outputs": [
    {
     "data": {
      "image/png": "[encoded data removed]",
      "text/plain": [
       "<Figure size 1296x432 with 2 Axes>"
      ]
     },
     "metadata": {
      "needs_background": "light"
     },
     "output_type": "display_data"
    }
   ],
   "source": [
    "plt.figure(figsize=(18, 6))\n",
    "\n",
    "plt.subplot(1, 2, 1)\n",
    "sns.countplot(data['day_of_week'])\n",
    "plt.xlabel('Days of Week')\n",
    "plt.ylabel('Total number of pickups')\n",
    "\n",
    "plt.subplot(1, 2, 2)\n",
    "sns.countplot(data['hour_of_day'])\n",
    "plt.xlabel('Hour of Day')\n",
    "plt.ylabel('Total number of pickups')\n",
    "plt.show()"
   ]
  },
  {
   "cell_type": "markdown",
   "id": "c64c0f5d",
   "metadata": {},
   "source": [
    "Observation -\n",
    "1. Observing the above trend, we can see that the most of the rides are on Thursday, while on the weekends, there is lowest number of rides (0 is Sunday).\n",
    "2. Total number of rides in 24 hours are mostly around 18-19 hours, i.e. evening. While in the morning peak hour, it is lower than expected."
   ]
  },
  {
   "cell_type": "markdown",
   "id": "6230a50d",
   "metadata": {},
   "source": [
    "##### Observing location of pickup and dropoff"
   ]
  },
  {
   "cell_type": "code",
   "execution_count": 24,
   "id": "11d4104c",
   "metadata": {
    "scrolled": false
   },
   "outputs": [
    {
     "data": {
      "image/png": "[encoded data removed]",
      "text/plain": [
       "<Figure size 720x720 with 4 Axes>"
      ]
     },
     "metadata": {},
     "output_type": "display_data"
    }
   ],
   "source": [
    "sns.set(style=\"white\", palette=\"muted\", color_codes=True)\n",
    "f, axes = plt.subplots(nrows = 2, ncols = 2, figsize=(10, 10), sharex = False, sharey = False)\n",
    "sns.despine(left=True)\n",
    "sns.distplot(data['pickup_latitude'].values, label = 'pickup_latitude', color=\"b\", bins = 100, ax=axes[0,0])\n",
    "sns.distplot(data['pickup_longitude'].values, label = 'pickup_longitude', color=\"r\", bins =100, ax=axes[1,0])\n",
    "sns.distplot(data['dropoff_latitude'].values, label = 'dropoff_latitude', color=\"b\", bins =100, ax=axes[0,1])\n",
    "sns.distplot(data['dropoff_longitude'].values, label = 'dropoff_longitude', color=\"r\", bins =100, ax=axes[1,1])\n",
    "plt.setp(axes, yticks=[])\n",
    "plt.tight_layout()\n",
    "plt.show()"
   ]
  },
  {
   "cell_type": "markdown",
   "id": "b1694c8a",
   "metadata": {},
   "source": [
    "* Latitude - Blue\n",
    "* Longitude - Red\n",
    "\n",
    "Observation -\n",
    "1. Pickup and drop latitudes are denser around 40 to 41, and longitude are denser around -74 to -73.\n",
    "2. Extreme values are present in the data which depicts higher value of distance.\n",
    "\n",
    "We will remove these outliers or extreme values and observe the data closely."
   ]
  },
  {
   "cell_type": "code",
   "execution_count": 25,
   "id": "05cb74e9",
   "metadata": {},
   "outputs": [],
   "source": [
    "# Removal of outliers.\n",
    "\n",
    "data = data.loc[(data.pickup_latitude > 40.6) & (data.pickup_latitude < 40.9)]\n",
    "data = data.loc[(data.dropoff_latitude>40.6) & (data.dropoff_latitude < 40.9)]\n",
    "data = data.loc[(data.dropoff_longitude > -74.05) & (data.dropoff_longitude < -73.7)]\n",
    "data = data.loc[(data.pickup_longitude > -74.05) & (data.pickup_longitude < -73.7)]\n",
    "data_new = data.copy()"
   ]
  },
  {
   "cell_type": "code",
   "execution_count": 26,
   "id": "16bb6a47",
   "metadata": {},
   "outputs": [
    {
     "data": {
      "image/png": "[encoded data removed]",
      "text/plain": [
       "<Figure size 720x720 with 4 Axes>"
      ]
     },
     "metadata": {},
     "output_type": "display_data"
    }
   ],
   "source": [
    "# Visualisation after removing outliers\n",
    "\n",
    "sns.set(style=\"white\", palette=\"muted\", color_codes=True)\n",
    "f, axes = plt.subplots(2,2,figsize=(10, 10), sharex=False, sharey = False)\n",
    "sns.despine(left=True)\n",
    "sns.distplot(data_new['pickup_latitude'].values, label = 'pickup_latitude',color=\"b\",bins = 100, ax=axes[0,0])\n",
    "sns.distplot(data_new['pickup_longitude'].values, label = 'pickup_longitude',color=\"r\",bins =100, ax=axes[1,0])\n",
    "sns.distplot(data_new['dropoff_latitude'].values, label = 'dropoff_latitude',color=\"b\",bins =100, ax=axes[0, 1])\n",
    "sns.distplot(data_new['dropoff_longitude'].values, label = 'dropoff_longitude',color=\"r\",bins =100, ax=axes[1, 1])\n",
    "plt.setp(axes, yticks=[])\n",
    "plt.tight_layout()\n",
    "plt.show()"
   ]
  },
  {
   "cell_type": "markdown",
   "id": "6fd8b740",
   "metadata": {},
   "source": [
    "Observation -\n",
    "* Most of the rides are located between these locations, apart from few outliers outside the above range."
   ]
  },
  {
   "cell_type": "markdown",
   "id": "3d3a96e1",
   "metadata": {},
   "source": [
    "# Bivariate Analysis:\n",
    "We will compare each of the variables with the target variable, 'trip_duration', in order to derive the relation between them."
   ]
  },
  {
   "cell_type": "code",
   "execution_count": 27,
   "id": "e35fcb23",
   "metadata": {},
   "outputs": [
    {
     "data": {
      "text/plain": [
       "Index(['id', 'vendor_id', 'pickup_datetime', 'dropoff_datetime',\n",
       "       'passenger_count', 'pickup_longitude', 'pickup_latitude',\n",
       "       'dropoff_longitude', 'dropoff_latitude', 'store_and_fwd_flag',\n",
       "       'trip_duration', 'distance', 'log_trip_duration', 'day_of_week',\n",
       "       'hour_of_day'],\n",
       "      dtype='object')"
      ]
     },
     "execution_count": 27,
     "metadata": {},
     "output_type": "execute_result"
    }
   ],
   "source": [
    "data.columns"
   ]
  },
  {
   "cell_type": "code",
   "execution_count": 28,
   "id": "73c07316",
   "metadata": {},
   "outputs": [
    {
     "data": {
      "text/html": [
       "<div>\n",
       "<style scoped>\n",
       "    .dataframe tbody tr th:only-of-type {\n",
       "        vertical-align: middle;\n",
       "    }\n",
       "\n",
       "    .dataframe tbody tr th {\n",
       "        vertical-align: top;\n",
       "    }\n",
       "\n",
       "    .dataframe thead th {\n",
       "        text-align: right;\n",
       "    }\n",
       "</style>\n",
       "<table border=\"1\" class=\"dataframe\">\n",
       "  <thead>\n",
       "    <tr style=\"text-align: right;\">\n",
       "      <th></th>\n",
       "      <th>id</th>\n",
       "      <th>vendor_id</th>\n",
       "      <th>pickup_datetime</th>\n",
       "      <th>dropoff_datetime</th>\n",
       "      <th>passenger_count</th>\n",
       "      <th>pickup_longitude</th>\n",
       "      <th>pickup_latitude</th>\n",
       "      <th>dropoff_longitude</th>\n",
       "      <th>dropoff_latitude</th>\n",
       "      <th>store_and_fwd_flag</th>\n",
       "      <th>trip_duration</th>\n",
       "      <th>distance</th>\n",
       "      <th>log_trip_duration</th>\n",
       "      <th>day_of_week</th>\n",
       "      <th>hour_of_day</th>\n",
       "    </tr>\n",
       "  </thead>\n",
       "  <tbody>\n",
       "    <tr>\n",
       "      <th>0</th>\n",
       "      <td>id1080784</td>\n",
       "      <td>2</td>\n",
       "      <td>2016-02-29 16:40:21</td>\n",
       "      <td>2016-02-29 16:47:01</td>\n",
       "      <td>1</td>\n",
       "      <td>-73.953918</td>\n",
       "      <td>40.778873</td>\n",
       "      <td>-73.963875</td>\n",
       "      <td>40.771164</td>\n",
       "      <td>N</td>\n",
       "      <td>400</td>\n",
       "      <td>1.199074</td>\n",
       "      <td>5.993961</td>\n",
       "      <td>0</td>\n",
       "      <td>16</td>\n",
       "    </tr>\n",
       "    <tr>\n",
       "      <th>1</th>\n",
       "      <td>id0889885</td>\n",
       "      <td>1</td>\n",
       "      <td>2016-03-11 23:35:37</td>\n",
       "      <td>2016-03-11 23:53:57</td>\n",
       "      <td>2</td>\n",
       "      <td>-73.988312</td>\n",
       "      <td>40.731743</td>\n",
       "      <td>-73.994751</td>\n",
       "      <td>40.694931</td>\n",
       "      <td>N</td>\n",
       "      <td>1100</td>\n",
       "      <td>4.129117</td>\n",
       "      <td>7.003974</td>\n",
       "      <td>4</td>\n",
       "      <td>23</td>\n",
       "    </tr>\n",
       "    <tr>\n",
       "      <th>2</th>\n",
       "      <td>id0857912</td>\n",
       "      <td>2</td>\n",
       "      <td>2016-02-21 17:59:33</td>\n",
       "      <td>2016-02-21 18:26:48</td>\n",
       "      <td>2</td>\n",
       "      <td>-73.997314</td>\n",
       "      <td>40.721458</td>\n",
       "      <td>-73.948029</td>\n",
       "      <td>40.774918</td>\n",
       "      <td>N</td>\n",
       "      <td>1635</td>\n",
       "      <td>7.250763</td>\n",
       "      <td>7.400010</td>\n",
       "      <td>6</td>\n",
       "      <td>17</td>\n",
       "    </tr>\n",
       "    <tr>\n",
       "      <th>3</th>\n",
       "      <td>id3744273</td>\n",
       "      <td>2</td>\n",
       "      <td>2016-01-05 09:44:31</td>\n",
       "      <td>2016-01-05 10:03:32</td>\n",
       "      <td>6</td>\n",
       "      <td>-73.961670</td>\n",
       "      <td>40.759720</td>\n",
       "      <td>-73.956779</td>\n",
       "      <td>40.780628</td>\n",
       "      <td>N</td>\n",
       "      <td>1141</td>\n",
       "      <td>2.361101</td>\n",
       "      <td>7.040536</td>\n",
       "      <td>1</td>\n",
       "      <td>9</td>\n",
       "    </tr>\n",
       "    <tr>\n",
       "      <th>4</th>\n",
       "      <td>id0232939</td>\n",
       "      <td>1</td>\n",
       "      <td>2016-02-17 06:42:23</td>\n",
       "      <td>2016-02-17 06:56:31</td>\n",
       "      <td>1</td>\n",
       "      <td>-74.017120</td>\n",
       "      <td>40.708469</td>\n",
       "      <td>-73.988182</td>\n",
       "      <td>40.740631</td>\n",
       "      <td>N</td>\n",
       "      <td>848</td>\n",
       "      <td>4.328540</td>\n",
       "      <td>6.744059</td>\n",
       "      <td>2</td>\n",
       "      <td>6</td>\n",
       "    </tr>\n",
       "  </tbody>\n",
       "</table>\n",
       "</div>"
      ],
      "text/plain": [
       "          id  vendor_id     pickup_datetime    dropoff_datetime  \\\n",
       "0  id1080784          2 2016-02-29 16:40:21 2016-02-29 16:47:01   \n",
       "1  id0889885          1 2016-03-11 23:35:37 2016-03-11 23:53:57   \n",
       "2  id0857912          2 2016-02-21 17:59:33 2016-02-21 18:26:48   \n",
       "3  id3744273          2 2016-01-05 09:44:31 2016-01-05 10:03:32   \n",
       "4  id0232939          1 2016-02-17 06:42:23 2016-02-17 06:56:31   \n",
       "\n",
       "   passenger_count  pickup_longitude  pickup_latitude  dropoff_longitude  \\\n",
       "0                1        -73.953918        40.778873         -73.963875   \n",
       "1                2        -73.988312        40.731743         -73.994751   \n",
       "2                2        -73.997314        40.721458         -73.948029   \n",
       "3                6        -73.961670        40.759720         -73.956779   \n",
       "4                1        -74.017120        40.708469         -73.988182   \n",
       "\n",
       "   dropoff_latitude store_and_fwd_flag  trip_duration  distance  \\\n",
       "0         40.771164                  N            400  1.199074   \n",
       "1         40.694931                  N           1100  4.129117   \n",
       "2         40.774918                  N           1635  7.250763   \n",
       "3         40.780628                  N           1141  2.361101   \n",
       "4         40.740631                  N            848  4.328540   \n",
       "\n",
       "   log_trip_duration  day_of_week  hour_of_day  \n",
       "0           5.993961            0           16  \n",
       "1           7.003974            4           23  \n",
       "2           7.400010            6           17  \n",
       "3           7.040536            1            9  \n",
       "4           6.744059            2            6  "
      ]
     },
     "execution_count": 28,
     "metadata": {},
     "output_type": "execute_result"
    }
   ],
   "source": [
    "data.head()"
   ]
  },
  {
   "cell_type": "markdown",
   "id": "f99fe349",
   "metadata": {},
   "source": [
    "## Trip duration and Weekdays\n",
    "##### Do the trips on weekdays have higher trip duration?\n",
    "\n",
    "* We will use Time series plot, 'tsplot', to plot between datetime and a continuous variable.\n",
    "* For plotting each day, we will take central tendency, i.e. median of each day's trip_duration and plot it against the days of week."
   ]
  },
  {
   "cell_type": "code",
   "execution_count": 29,
   "id": "f9af43c4",
   "metadata": {},
   "outputs": [],
   "source": [
    "average_duration_day = pd.DataFrame(data.groupby(['day_of_week'])['trip_duration'].median())\n",
    "average_duration_day.reset_index(inplace = True)\n",
    "average_duration_day['unit']=1"
   ]
  },
  {
   "cell_type": "code",
   "execution_count": 30,
   "id": "422f1274",
   "metadata": {},
   "outputs": [
    {
     "data": {
      "text/html": [
       "<div>\n",
       "<style scoped>\n",
       "    .dataframe tbody tr th:only-of-type {\n",
       "        vertical-align: middle;\n",
       "    }\n",
       "\n",
       "    .dataframe tbody tr th {\n",
       "        vertical-align: top;\n",
       "    }\n",
       "\n",
       "    .dataframe thead th {\n",
       "        text-align: right;\n",
       "    }\n",
       "</style>\n",
       "<table border=\"1\" class=\"dataframe\">\n",
       "  <thead>\n",
       "    <tr style=\"text-align: right;\">\n",
       "      <th></th>\n",
       "      <th>day_of_week</th>\n",
       "      <th>trip_duration</th>\n",
       "      <th>unit</th>\n",
       "    </tr>\n",
       "  </thead>\n",
       "  <tbody>\n",
       "    <tr>\n",
       "      <th>0</th>\n",
       "      <td>0</td>\n",
       "      <td>629.0</td>\n",
       "      <td>1</td>\n",
       "    </tr>\n",
       "    <tr>\n",
       "      <th>1</th>\n",
       "      <td>1</td>\n",
       "      <td>676.0</td>\n",
       "      <td>1</td>\n",
       "    </tr>\n",
       "    <tr>\n",
       "      <th>2</th>\n",
       "      <td>2</td>\n",
       "      <td>695.0</td>\n",
       "      <td>1</td>\n",
       "    </tr>\n",
       "    <tr>\n",
       "      <th>3</th>\n",
       "      <td>3</td>\n",
       "      <td>706.0</td>\n",
       "      <td>1</td>\n",
       "    </tr>\n",
       "    <tr>\n",
       "      <th>4</th>\n",
       "      <td>4</td>\n",
       "      <td>688.0</td>\n",
       "      <td>1</td>\n",
       "    </tr>\n",
       "    <tr>\n",
       "      <th>5</th>\n",
       "      <td>5</td>\n",
       "      <td>634.0</td>\n",
       "      <td>1</td>\n",
       "    </tr>\n",
       "    <tr>\n",
       "      <th>6</th>\n",
       "      <td>6</td>\n",
       "      <td>599.0</td>\n",
       "      <td>1</td>\n",
       "    </tr>\n",
       "  </tbody>\n",
       "</table>\n",
       "</div>"
      ],
      "text/plain": [
       "   day_of_week  trip_duration  unit\n",
       "0            0          629.0     1\n",
       "1            1          676.0     1\n",
       "2            2          695.0     1\n",
       "3            3          706.0     1\n",
       "4            4          688.0     1\n",
       "5            5          634.0     1\n",
       "6            6          599.0     1"
      ]
     },
     "execution_count": 30,
     "metadata": {},
     "output_type": "execute_result"
    }
   ],
   "source": [
    "average_duration_day"
   ]
  },
  {
   "cell_type": "code",
   "execution_count": 31,
   "id": "eec056c6",
   "metadata": {
    "scrolled": false
   },
   "outputs": [
    {
     "data": {
      "image/png": "[encoded data removed]",
      "text/plain": [
       "<Figure size 432x288 with 1 Axes>"
      ]
     },
     "metadata": {},
     "output_type": "display_data"
    }
   ],
   "source": [
    "sns.tsplot(data=average_duration_day, time=\"day_of_week\", unit = 'unit', value=\"trip_duration\");"
   ]
  },
  {
   "cell_type": "markdown",
   "id": "c24203b5",
   "metadata": {},
   "source": [
    "Observation -\n",
    "1. Longest trip duration has been observed on Wednesday.\n",
    "2. Opposite to expectation, trip duration on weekends are lowest."
   ]
  },
  {
   "cell_type": "code",
   "execution_count": 32,
   "id": "17fa5241",
   "metadata": {},
   "outputs": [],
   "source": [
    "average_duration_hour = pd.DataFrame(data.groupby(['hour_of_day'])['trip_duration'].median())\n",
    "average_duration_hour.reset_index(inplace = True)\n",
    "average_duration_hour['unit']=1"
   ]
  },
  {
   "cell_type": "code",
   "execution_count": 33,
   "id": "eafd2920",
   "metadata": {},
   "outputs": [
    {
     "data": {
      "image/png": "[encoded data removed]",
      "text/plain": [
       "<Figure size 432x288 with 1 Axes>"
      ]
     },
     "metadata": {},
     "output_type": "display_data"
    }
   ],
   "source": [
    "sns.tsplot(data=average_duration_hour, time='hour_of_day', unit = 'unit', value='trip_duration')\n",
    "plt.show()"
   ]
  },
  {
   "cell_type": "markdown",
   "id": "61650c6d",
   "metadata": {},
   "source": [
    "Observation -\n",
    "* Trip duration during early morning are comparatively lesser which may be because of low traffic, and highest during evening peak hour.\n",
    "* There is a correlation between the number of pickups and trip duration as it follows the similar trend."
   ]
  },
  {
   "cell_type": "markdown",
   "id": "ee77a25e",
   "metadata": {},
   "source": [
    "## Trip Duration and Vendor ID\n",
    "##### Do the vendors have any impact on the trip duration?\n",
    "We will check the duration of trip for each vendor."
   ]
  },
  {
   "cell_type": "code",
   "execution_count": 34,
   "id": "23367250",
   "metadata": {},
   "outputs": [
    {
     "data": {
      "image/png": "[encoded data removed]",
      "text/plain": [
       "<Figure size 1080x432 with 1 Axes>"
      ]
     },
     "metadata": {},
     "output_type": "display_data"
    }
   ],
   "source": [
    "plt.figure(figsize=(15, 6))\n",
    "sns.boxplot(x = 'vendor_id', y = 'trip_duration', data = data)\n",
    "plt.show()"
   ]
  },
  {
   "cell_type": "markdown",
   "id": "22c942c2",
   "metadata": {},
   "source": [
    "Observation -\n",
    "* As we can see, there is a huge outlier/extreme point for vendor 1 as compared to vendor 2.\n",
    "\n",
    "* Let's remove the outliers and observe the above data closely."
   ]
  },
  {
   "cell_type": "code",
   "execution_count": 35,
   "id": "1e6ae205",
   "metadata": {},
   "outputs": [
    {
     "data": {
      "image/png": "[encoded data removed]",
      "text/plain": [
       "<Figure size 1080x432 with 1 Axes>"
      ]
     },
     "metadata": {},
     "output_type": "display_data"
    }
   ],
   "source": [
    "plt.figure(figsize=(15, 6))\n",
    "trip_no_outliers = data[data['trip_duration'] < 50000]\n",
    "sns.boxplot(x = 'vendor_id', y = 'trip_duration', data = trip_no_outliers)\n",
    "plt.show()"
   ]
  },
  {
   "cell_type": "markdown",
   "id": "dc978fee",
   "metadata": {},
   "source": [
    "Observation -\n",
    "* Here we can see that vendor 2 has much outliers than vendor 1, and we know that the median for trip duration lies around 600."
   ]
  },
  {
   "cell_type": "markdown",
   "id": "3ea6b773",
   "metadata": {},
   "source": [
    "## Trip duration and Passenger Count\n",
    "##### Are passengers with higher count, taking longer duration to complete the trip?\n",
    "We will check the trend in duration of trips as compared to the number of passengers for the trip."
   ]
  },
  {
   "cell_type": "code",
   "execution_count": 36,
   "id": "7b8b6e0d",
   "metadata": {
    "scrolled": true
   },
   "outputs": [
    {
     "data": {
      "text/plain": [
       "1    515243\n",
       "2    104576\n",
       "5     38776\n",
       "3     29561\n",
       "6     24035\n",
       "4     13972\n",
       "0        31\n",
       "9         1\n",
       "Name: passenger_count, dtype: int64"
      ]
     },
     "execution_count": 36,
     "metadata": {},
     "output_type": "execute_result"
    }
   ],
   "source": [
    "data.passenger_count.value_counts()"
   ]
  },
  {
   "cell_type": "markdown",
   "id": "d2c33dc9",
   "metadata": {},
   "source": [
    "As we know the median of trip_duration lies around 600 and we have huge outliers present in the trip_duration data, we will consider the trip_duration data of only less than 10,000 seconds."
   ]
  },
  {
   "cell_type": "code",
   "execution_count": 37,
   "id": "6c9a745a",
   "metadata": {},
   "outputs": [
    {
     "data": {
      "image/png": "[encoded data removed]",
      "text/plain": [
       "<Figure size 1152x432 with 1 Axes>"
      ]
     },
     "metadata": {},
     "output_type": "display_data"
    }
   ],
   "source": [
    "plt.figure(figsize=(16, 6))\n",
    "trip_duration_new = data[data['trip_duration'] < 10000]\n",
    "sns.boxplot(x=\"passenger_count\", y=\"trip_duration\", data = trip_duration_new)\n",
    "plt.show()"
   ]
  },
  {
   "cell_type": "markdown",
   "id": "d46f1e52",
   "metadata": {},
   "source": [
    "Observation -\n",
    "1. There are few trips recorded without any passenger.\n",
    "2. Trips with 1 and 2 numbers of passengers have high amount of outliers present.\n",
    "3. As the number of passengers are increasing, the outliers are decreasing."
   ]
  },
  {
   "cell_type": "markdown",
   "id": "e4943353",
   "metadata": {},
   "source": [
    "## Correlation Heatmap\n",
    "\n",
    "We will check the correlations amongst all of the variables using heatmap."
   ]
  },
  {
   "cell_type": "code",
   "execution_count": 38,
   "id": "ced977cf",
   "metadata": {
    "scrolled": true
   },
   "outputs": [
    {
     "data": {
      "text/html": [
       "<div>\n",
       "<style scoped>\n",
       "    .dataframe tbody tr th:only-of-type {\n",
       "        vertical-align: middle;\n",
       "    }\n",
       "\n",
       "    .dataframe tbody tr th {\n",
       "        vertical-align: top;\n",
       "    }\n",
       "\n",
       "    .dataframe thead th {\n",
       "        text-align: right;\n",
       "    }\n",
       "</style>\n",
       "<table border=\"1\" class=\"dataframe\">\n",
       "  <thead>\n",
       "    <tr style=\"text-align: right;\">\n",
       "      <th></th>\n",
       "      <th>id</th>\n",
       "      <th>vendor_id</th>\n",
       "      <th>pickup_datetime</th>\n",
       "      <th>dropoff_datetime</th>\n",
       "      <th>passenger_count</th>\n",
       "      <th>pickup_longitude</th>\n",
       "      <th>pickup_latitude</th>\n",
       "      <th>dropoff_longitude</th>\n",
       "      <th>dropoff_latitude</th>\n",
       "      <th>store_and_fwd_flag</th>\n",
       "      <th>trip_duration</th>\n",
       "      <th>distance</th>\n",
       "      <th>log_trip_duration</th>\n",
       "      <th>day_of_week</th>\n",
       "      <th>hour_of_day</th>\n",
       "    </tr>\n",
       "  </thead>\n",
       "  <tbody>\n",
       "    <tr>\n",
       "      <th>0</th>\n",
       "      <td>id1080784</td>\n",
       "      <td>2</td>\n",
       "      <td>2016-02-29 16:40:21</td>\n",
       "      <td>2016-02-29 16:47:01</td>\n",
       "      <td>1</td>\n",
       "      <td>-73.953918</td>\n",
       "      <td>40.778873</td>\n",
       "      <td>-73.963875</td>\n",
       "      <td>40.771164</td>\n",
       "      <td>N</td>\n",
       "      <td>400</td>\n",
       "      <td>1.199074</td>\n",
       "      <td>5.993961</td>\n",
       "      <td>0</td>\n",
       "      <td>16</td>\n",
       "    </tr>\n",
       "    <tr>\n",
       "      <th>1</th>\n",
       "      <td>id0889885</td>\n",
       "      <td>1</td>\n",
       "      <td>2016-03-11 23:35:37</td>\n",
       "      <td>2016-03-11 23:53:57</td>\n",
       "      <td>2</td>\n",
       "      <td>-73.988312</td>\n",
       "      <td>40.731743</td>\n",
       "      <td>-73.994751</td>\n",
       "      <td>40.694931</td>\n",
       "      <td>N</td>\n",
       "      <td>1100</td>\n",
       "      <td>4.129117</td>\n",
       "      <td>7.003974</td>\n",
       "      <td>4</td>\n",
       "      <td>23</td>\n",
       "    </tr>\n",
       "    <tr>\n",
       "      <th>2</th>\n",
       "      <td>id0857912</td>\n",
       "      <td>2</td>\n",
       "      <td>2016-02-21 17:59:33</td>\n",
       "      <td>2016-02-21 18:26:48</td>\n",
       "      <td>2</td>\n",
       "      <td>-73.997314</td>\n",
       "      <td>40.721458</td>\n",
       "      <td>-73.948029</td>\n",
       "      <td>40.774918</td>\n",
       "      <td>N</td>\n",
       "      <td>1635</td>\n",
       "      <td>7.250763</td>\n",
       "      <td>7.400010</td>\n",
       "      <td>6</td>\n",
       "      <td>17</td>\n",
       "    </tr>\n",
       "    <tr>\n",
       "      <th>3</th>\n",
       "      <td>id3744273</td>\n",
       "      <td>2</td>\n",
       "      <td>2016-01-05 09:44:31</td>\n",
       "      <td>2016-01-05 10:03:32</td>\n",
       "      <td>6</td>\n",
       "      <td>-73.961670</td>\n",
       "      <td>40.759720</td>\n",
       "      <td>-73.956779</td>\n",
       "      <td>40.780628</td>\n",
       "      <td>N</td>\n",
       "      <td>1141</td>\n",
       "      <td>2.361101</td>\n",
       "      <td>7.040536</td>\n",
       "      <td>1</td>\n",
       "      <td>9</td>\n",
       "    </tr>\n",
       "    <tr>\n",
       "      <th>4</th>\n",
       "      <td>id0232939</td>\n",
       "      <td>1</td>\n",
       "      <td>2016-02-17 06:42:23</td>\n",
       "      <td>2016-02-17 06:56:31</td>\n",
       "      <td>1</td>\n",
       "      <td>-74.017120</td>\n",
       "      <td>40.708469</td>\n",
       "      <td>-73.988182</td>\n",
       "      <td>40.740631</td>\n",
       "      <td>N</td>\n",
       "      <td>848</td>\n",
       "      <td>4.328540</td>\n",
       "      <td>6.744059</td>\n",
       "      <td>2</td>\n",
       "      <td>6</td>\n",
       "    </tr>\n",
       "  </tbody>\n",
       "</table>\n",
       "</div>"
      ],
      "text/plain": [
       "          id  vendor_id     pickup_datetime    dropoff_datetime  \\\n",
       "0  id1080784          2 2016-02-29 16:40:21 2016-02-29 16:47:01   \n",
       "1  id0889885          1 2016-03-11 23:35:37 2016-03-11 23:53:57   \n",
       "2  id0857912          2 2016-02-21 17:59:33 2016-02-21 18:26:48   \n",
       "3  id3744273          2 2016-01-05 09:44:31 2016-01-05 10:03:32   \n",
       "4  id0232939          1 2016-02-17 06:42:23 2016-02-17 06:56:31   \n",
       "\n",
       "   passenger_count  pickup_longitude  pickup_latitude  dropoff_longitude  \\\n",
       "0                1        -73.953918        40.778873         -73.963875   \n",
       "1                2        -73.988312        40.731743         -73.994751   \n",
       "2                2        -73.997314        40.721458         -73.948029   \n",
       "3                6        -73.961670        40.759720         -73.956779   \n",
       "4                1        -74.017120        40.708469         -73.988182   \n",
       "\n",
       "   dropoff_latitude store_and_fwd_flag  trip_duration  distance  \\\n",
       "0         40.771164                  N            400  1.199074   \n",
       "1         40.694931                  N           1100  4.129117   \n",
       "2         40.774918                  N           1635  7.250763   \n",
       "3         40.780628                  N           1141  2.361101   \n",
       "4         40.740631                  N            848  4.328540   \n",
       "\n",
       "   log_trip_duration  day_of_week  hour_of_day  \n",
       "0           5.993961            0           16  \n",
       "1           7.003974            4           23  \n",
       "2           7.400010            6           17  \n",
       "3           7.040536            1            9  \n",
       "4           6.744059            2            6  "
      ]
     },
     "execution_count": 38,
     "metadata": {},
     "output_type": "execute_result"
    }
   ],
   "source": [
    "data.head()"
   ]
  },
  {
   "cell_type": "code",
   "execution_count": 39,
   "id": "3b84a3c3",
   "metadata": {},
   "outputs": [
    {
     "data": {
      "image/png": "[encoded data removed]",
      "text/plain": [
       "<Figure size 864x432 with 2 Axes>"
      ]
     },
     "metadata": {},
     "output_type": "display_data"
    }
   ],
   "source": [
    "# From the above dataset, we will drop those columns which are irrelevant with our target variable trip_duration.\n",
    "\n",
    "data_drop = data.drop(['id', 'pickup_datetime','dropoff_datetime', 'log_trip_duration'], axis=1)\n",
    "\n",
    "plt.figure(figsize=(12, 6))\n",
    "corr = data_drop.corr('pearson')\n",
    "sns.heatmap(corr, linewidth=2)\n",
    "plt.show()"
   ]
  },
  {
   "cell_type": "markdown",
   "id": "b8b6a378",
   "metadata": {},
   "source": [
    "Observation -\n",
    "* From the above correlation heatmap, we see that the latitude and longitude have higher correlation with the target as compared to the others."
   ]
  },
  {
   "cell_type": "markdown",
   "id": "1cdb8b5c",
   "metadata": {},
   "source": [
    "## Conclusion"
   ]
  },
  {
   "cell_type": "markdown",
   "id": "fd0bd206",
   "metadata": {},
   "source": [
    "1. The trip duration of rides are forming almost normal curve.\n",
    "2. As noticed earlier, there is an outlier present near 12.\n",
    "3. Also there are very short rides present which are of less than 10 seconds, which are suspicious.\n",
    "4. Most frequent rides include only 1 passenger, while some of the rides include 7 to 9 passengers too and they are very low in number.\n",
    "5. Most of the rides have been completed by vendor 2 as compared to vendor 1.\n",
    "6. There is almost no storing of data taking place in the taxi and being updated later. (Y - Yes, N - No)\n",
    "7. Observing the above trend, we can see that the most of the rides are on Thursday, while on the weekends, there is lowest number of rides (0 is Sunday).\n",
    "8. Total number of rides in 24 hours are mostly around 18-19 hours, i.e. evening. While in the morning peak hour, it is lower than expected.\n",
    "9. Pickup and drop latitudes are denser around 40 to 41, and longitude are denser around -74 to -73.\n",
    "10. Extreme values are present in the data which depicts higher value of distance.\n",
    "11. Most of the rides are located between these locations, apart from few outliers outside the above range.\n",
    "12. Longest trip duration has been observed on Wednesday.\n",
    "13. Opposite to expectation, trip duration on weekends are lowest.\n",
    "14. Trip duration during early morning are comparatively lesser which may be because of low traffic, and highest during evening peak hour.\n",
    "15. There is a correlation between the number of pickups and trip duration as it follows the similar trend.\n",
    "\n",
    "16. Here we can see that vendor 2 has much outliers than vendor 1, and we know that the median for trip duration lies around 600.\n",
    "17. There are few trips recorded without any passenger.\n",
    "18. Trips with 1 and 2 numbers of passengers have high amount of outliers present.\n",
    "19. As the number of passengers are increasing, the outliers are decreasing.\n",
    "20. From the above correlation heatmap, we see that the latitude and longitude have higher correlation with the target as compared to the others."
   ]
  },
  {
   "cell_type": "code",
   "execution_count": null,
   "id": "2bcc1e93",
   "metadata": {},
   "outputs": [],
   "source": []
  }
 ],
 "metadata": {
  "kernelspec": {
   "display_name": "Python 3",
   "language": "python",
   "name": "python3"
  },
  "language_info": {
   "codemirror_mode": {
    "name": "ipython",
    "version": 3
   },
   "file_extension": ".py",
   "mimetype": "text/x-python",
   "name": "python",
   "nbconvert_exporter": "python",
   "pygments_lexer": "ipython3",
   "version": "3.9.5"
  }
 },
 "nbformat": 4,
 "nbformat_minor": 5
}
