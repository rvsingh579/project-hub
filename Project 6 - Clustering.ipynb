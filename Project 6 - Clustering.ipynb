{
 "cells": [
  {
   "cell_type": "markdown",
   "id": "6a6dd0f9",
   "metadata": {},
   "source": [
    "<div style = \"text-align: right\"><h4>Job Oriented Specialisation in Data Science</h4></div>"
   ]
  },
  {
   "cell_type": "markdown",
   "id": "a86fadc7",
   "metadata": {},
   "source": [
    "---\n",
    "<center><h1>Clustering</h1></center>\n",
    "\n",
    "---"
   ]
  },
  {
   "cell_type": "markdown",
   "id": "fdee02f1",
   "metadata": {},
   "source": [
    "## Project - Segmenting customers into clusters\n",
    "\n",
    "### Perform Customer Segmentation on the transactional data to build an efficient marketing model. This is a transactional data set that contains all the transactions occurring between 01/12/2010 and 09/12/2011 for a registered non-store online retail.\n",
    "\n",
    "#### Invoice No: Invoice number. Nominal, a 6-digit integral number uniquely assigned to each transaction. If this code starts with the letter 'c', it indicates a cancellation.\n",
    "#### StockCode: Product (item) code. Nominal, a 5-digit integral number uniquely assigned to each distinct product.\n",
    "#### Description: Product (item) name. Nominal.\n",
    "#### Quantity: The quantities of each product (item) per transaction. Numeric.\n",
    "#### Invoice Date: Invoice Date and time. Numeric, the day and time when each transaction was generated.\n",
    "#### UnitPrice: Unit price. Numeric, Product price per unit in sterling.\n",
    "#### CustomerID: Customer number. Nominal, a 5-digit integral number uniquely assigned to each customer.\n",
    "#### Country: Country name. Nominal, the name of the country where each customer resides.\n",
    "\n",
    "---"
   ]
  },
  {
   "cell_type": "code",
   "execution_count": 1,
   "id": "838b6e8f",
   "metadata": {},
   "outputs": [],
   "source": [
    "# Importing libraries\n",
    "import pandas as pd\n",
    "import numpy as np\n",
    "import matplotlib.pyplot as plt\n",
    "%matplotlib inline\n",
    "from sklearn.cluster import KMeans\n",
    "import warnings\n",
    "warnings.filterwarnings('ignore')"
   ]
  },
  {
   "cell_type": "markdown",
   "id": "d6ea27ff",
   "metadata": {},
   "source": [
    "### Loading the dataset"
   ]
  },
  {
   "cell_type": "code",
   "execution_count": 2,
   "id": "28476795",
   "metadata": {},
   "outputs": [],
   "source": [
    "# Reading the dataset\n",
    "data = pd.read_excel('Project 6-Segmenting customers into clusters-Dataset.xlsx')"
   ]
  },
  {
   "cell_type": "code",
   "execution_count": 3,
   "id": "73d689b6",
   "metadata": {},
   "outputs": [
    {
     "data": {
      "text/html": [
       "<div>\n",
       "<style scoped>\n",
       "    .dataframe tbody tr th:only-of-type {\n",
       "        vertical-align: middle;\n",
       "    }\n",
       "\n",
       "    .dataframe tbody tr th {\n",
       "        vertical-align: top;\n",
       "    }\n",
       "\n",
       "    .dataframe thead th {\n",
       "        text-align: right;\n",
       "    }\n",
       "</style>\n",
       "<table border=\"1\" class=\"dataframe\">\n",
       "  <thead>\n",
       "    <tr style=\"text-align: right;\">\n",
       "      <th></th>\n",
       "      <th>InvoiceNo</th>\n",
       "      <th>StockCode</th>\n",
       "      <th>Description</th>\n",
       "      <th>Quantity</th>\n",
       "      <th>InvoiceDate</th>\n",
       "      <th>UnitPrice</th>\n",
       "      <th>CustomerID</th>\n",
       "      <th>Country</th>\n",
       "    </tr>\n",
       "  </thead>\n",
       "  <tbody>\n",
       "    <tr>\n",
       "      <th>0</th>\n",
       "      <td>536365</td>\n",
       "      <td>85123A</td>\n",
       "      <td>WHITE HANGING HEART T-LIGHT HOLDER</td>\n",
       "      <td>6</td>\n",
       "      <td>2010-12-01 08:26:00</td>\n",
       "      <td>2.55</td>\n",
       "      <td>17850.0</td>\n",
       "      <td>United Kingdom</td>\n",
       "    </tr>\n",
       "    <tr>\n",
       "      <th>1</th>\n",
       "      <td>536365</td>\n",
       "      <td>71053</td>\n",
       "      <td>WHITE METAL LANTERN</td>\n",
       "      <td>6</td>\n",
       "      <td>2010-12-01 08:26:00</td>\n",
       "      <td>3.39</td>\n",
       "      <td>17850.0</td>\n",
       "      <td>United Kingdom</td>\n",
       "    </tr>\n",
       "    <tr>\n",
       "      <th>2</th>\n",
       "      <td>536365</td>\n",
       "      <td>84406B</td>\n",
       "      <td>CREAM CUPID HEARTS COAT HANGER</td>\n",
       "      <td>8</td>\n",
       "      <td>2010-12-01 08:26:00</td>\n",
       "      <td>2.75</td>\n",
       "      <td>17850.0</td>\n",
       "      <td>United Kingdom</td>\n",
       "    </tr>\n",
       "    <tr>\n",
       "      <th>3</th>\n",
       "      <td>536365</td>\n",
       "      <td>84029G</td>\n",
       "      <td>KNITTED UNION FLAG HOT WATER BOTTLE</td>\n",
       "      <td>6</td>\n",
       "      <td>2010-12-01 08:26:00</td>\n",
       "      <td>3.39</td>\n",
       "      <td>17850.0</td>\n",
       "      <td>United Kingdom</td>\n",
       "    </tr>\n",
       "    <tr>\n",
       "      <th>4</th>\n",
       "      <td>536365</td>\n",
       "      <td>84029E</td>\n",
       "      <td>RED WOOLLY HOTTIE WHITE HEART.</td>\n",
       "      <td>6</td>\n",
       "      <td>2010-12-01 08:26:00</td>\n",
       "      <td>3.39</td>\n",
       "      <td>17850.0</td>\n",
       "      <td>United Kingdom</td>\n",
       "    </tr>\n",
       "  </tbody>\n",
       "</table>\n",
       "</div>"
      ],
      "text/plain": [
       "  InvoiceNo StockCode                          Description  Quantity  \\\n",
       "0    536365    85123A   WHITE HANGING HEART T-LIGHT HOLDER         6   \n",
       "1    536365     71053                  WHITE METAL LANTERN         6   \n",
       "2    536365    84406B       CREAM CUPID HEARTS COAT HANGER         8   \n",
       "3    536365    84029G  KNITTED UNION FLAG HOT WATER BOTTLE         6   \n",
       "4    536365    84029E       RED WOOLLY HOTTIE WHITE HEART.         6   \n",
       "\n",
       "          InvoiceDate  UnitPrice  CustomerID         Country  \n",
       "0 2010-12-01 08:26:00       2.55     17850.0  United Kingdom  \n",
       "1 2010-12-01 08:26:00       3.39     17850.0  United Kingdom  \n",
       "2 2010-12-01 08:26:00       2.75     17850.0  United Kingdom  \n",
       "3 2010-12-01 08:26:00       3.39     17850.0  United Kingdom  \n",
       "4 2010-12-01 08:26:00       3.39     17850.0  United Kingdom  "
      ]
     },
     "execution_count": 3,
     "metadata": {},
     "output_type": "execute_result"
    }
   ],
   "source": [
    "# Reading first few lines of data\n",
    "data.head()"
   ]
  },
  {
   "cell_type": "code",
   "execution_count": 4,
   "id": "23dc0574",
   "metadata": {},
   "outputs": [
    {
     "data": {
      "text/plain": [
       "(541909, 8)"
      ]
     },
     "execution_count": 4,
     "metadata": {},
     "output_type": "execute_result"
    }
   ],
   "source": [
    "# Shape of the data\n",
    "data.shape"
   ]
  },
  {
   "cell_type": "markdown",
   "id": "4ed3c050",
   "metadata": {},
   "source": [
    "### Data Preprocessing"
   ]
  },
  {
   "cell_type": "markdown",
   "id": "4888c34d",
   "metadata": {},
   "source": [
    "#### Checking missing values"
   ]
  },
  {
   "cell_type": "code",
   "execution_count": 5,
   "id": "5657bd01",
   "metadata": {
    "scrolled": true
   },
   "outputs": [
    {
     "data": {
      "text/plain": [
       "InvoiceNo       0.000000\n",
       "StockCode       0.000000\n",
       "Description     0.268311\n",
       "Quantity        0.000000\n",
       "InvoiceDate     0.000000\n",
       "UnitPrice       0.000000\n",
       "CustomerID     24.926694\n",
       "Country         0.000000\n",
       "dtype: float64"
      ]
     },
     "execution_count": 5,
     "metadata": {},
     "output_type": "execute_result"
    }
   ],
   "source": [
    "# Percentage of missing values in each variable\n",
    "data.isnull().sum()/len(data)*100"
   ]
  },
  {
   "cell_type": "code",
   "execution_count": 6,
   "id": "e41892ff",
   "metadata": {
    "scrolled": true
   },
   "outputs": [
    {
     "data": {
      "image/png": "[encoded data removed]",
      "text/plain": [
       "<Figure size 360x360 with 1 Axes>"
      ]
     },
     "metadata": {
      "needs_background": "light"
     },
     "output_type": "display_data"
    }
   ],
   "source": [
    "# Visualizing ratio of missing values\n",
    "plt.figure(figsize=(5, 5))\n",
    "data.isnull().mean(axis=0).plot.barh()\n",
    "plt.title(\"Ratio of missing values per columns\")\n",
    "plt.show()"
   ]
  },
  {
   "cell_type": "markdown",
   "id": "4bb30361",
   "metadata": {},
   "source": [
    "We can't keep the data without any value in the **`CustomerID`** column since we want to classify the customers. So we'll drop the lines with NaN values on the CustomerID column."
   ]
  },
  {
   "cell_type": "code",
   "execution_count": 7,
   "id": "b33d07b1",
   "metadata": {},
   "outputs": [],
   "source": [
    "# Dropping the null values from CustomerID column\n",
    "data = data.dropna(subset=[\"CustomerID\"])"
   ]
  },
  {
   "cell_type": "code",
   "execution_count": 8,
   "id": "1af7e922",
   "metadata": {},
   "outputs": [
    {
     "data": {
      "text/plain": [
       "InvoiceNo      0.0\n",
       "StockCode      0.0\n",
       "Description    0.0\n",
       "Quantity       0.0\n",
       "InvoiceDate    0.0\n",
       "UnitPrice      0.0\n",
       "CustomerID     0.0\n",
       "Country        0.0\n",
       "dtype: float64"
      ]
     },
     "execution_count": 8,
     "metadata": {},
     "output_type": "execute_result"
    }
   ],
   "source": [
    "# percentage of missing values in each variable\n",
    "data.isnull().sum()/len(data)*100"
   ]
  },
  {
   "cell_type": "code",
   "execution_count": 9,
   "id": "9ea47395",
   "metadata": {
    "scrolled": true
   },
   "outputs": [
    {
     "data": {
      "image/png": "[encoded data removed]",
      "text/plain": [
       "<Figure size 360x360 with 1 Axes>"
      ]
     },
     "metadata": {
      "needs_background": "light"
     },
     "output_type": "display_data"
    }
   ],
   "source": [
    "# Ratio of missing values\n",
    "\n",
    "plt.figure(figsize=(5, 5))\n",
    "data.isnull().mean(axis=0).plot.barh()\n",
    "plt.title(\"Ratio of missing values per columns\")\n",
    "plt.show()"
   ]
  },
  {
   "cell_type": "markdown",
   "id": "d0b42112",
   "metadata": {},
   "source": [
    "As we can see after removing null values from the **`CustomerID`** variable, null values from the **`Description`** variable have also been removed."
   ]
  },
  {
   "cell_type": "markdown",
   "id": "e173fcc4",
   "metadata": {},
   "source": [
    "#### Checking data type of variables"
   ]
  },
  {
   "cell_type": "code",
   "execution_count": 10,
   "id": "da5f88d0",
   "metadata": {
    "scrolled": true
   },
   "outputs": [
    {
     "data": {
      "text/plain": [
       "InvoiceNo              object\n",
       "StockCode              object\n",
       "Description            object\n",
       "Quantity                int64\n",
       "InvoiceDate    datetime64[ns]\n",
       "UnitPrice             float64\n",
       "CustomerID            float64\n",
       "Country                object\n",
       "dtype: object"
      ]
     },
     "execution_count": 10,
     "metadata": {},
     "output_type": "execute_result"
    }
   ],
   "source": [
    "# Checking the data types of each feaure\n",
    "data.dtypes"
   ]
  },
  {
   "cell_type": "code",
   "execution_count": 11,
   "id": "e3da8115",
   "metadata": {},
   "outputs": [],
   "source": [
    "# Since our dataset is containing features `InvoiceNo` and `StockCode` having mixed values as int and str type, we will convert\n",
    "# them to string.\n",
    "data.InvoiceNo = data.InvoiceNo.astype(str)\n",
    "data.StockCode = data.StockCode.astype(str)"
   ]
  },
  {
   "cell_type": "code",
   "execution_count": 12,
   "id": "71d039ba",
   "metadata": {},
   "outputs": [],
   "source": [
    "# Extracting the Month, Weekday and Hour of the invoice\n",
    "data['InvoiceDate_month'] = data['InvoiceDate'].dt.month\n",
    "data['InvoiceDate_weekday'] = data['InvoiceDate'].dt.weekday\n",
    "data['InvoiceDate_hour'] = data['InvoiceDate'].dt.hour"
   ]
  },
  {
   "cell_type": "markdown",
   "id": "68abc341",
   "metadata": {},
   "source": [
    "### Since the **`InvoiceNo`** is containing cancelled orders also, we will check the amount of cancelled orders if it is significant or not."
   ]
  },
  {
   "cell_type": "code",
   "execution_count": 13,
   "id": "188ec4b6",
   "metadata": {},
   "outputs": [],
   "source": [
    "# Constucting a groupby dataframe\n",
    "temp = data.groupby(by=['CustomerID', 'InvoiceNo'], as_index=False)['InvoiceDate'].count()\n",
    "number_of_products_per_group = temp.rename(columns = {'InvoiceDate':'Number of products'})"
   ]
  },
  {
   "cell_type": "code",
   "execution_count": 14,
   "id": "a9445981",
   "metadata": {},
   "outputs": [
    {
     "data": {
      "text/plain": [
       "16.466876971608833"
      ]
     },
     "execution_count": 14,
     "metadata": {},
     "output_type": "execute_result"
    }
   ],
   "source": [
    "# Finding the cancelled orders and imputing 1 if it is cancelled otherwise 0.\n",
    "number_of_products_per_group['order_cancelled'] = number_of_products_per_group['InvoiceNo'].apply(lambda x:int('C' in x))\n",
    "\n",
    "# Percent cancelled orders.\n",
    "len(number_of_products_per_group[number_of_products_per_group['order_cancelled']==1])/len(number_of_products_per_group)*100"
   ]
  },
  {
   "cell_type": "markdown",
   "id": "f9d201d4",
   "metadata": {},
   "source": [
    "It appears that more than **`16%`** of the transactions were cancelled which is **significant**."
   ]
  },
  {
   "cell_type": "markdown",
   "id": "92779c9b",
   "metadata": {},
   "source": [
    "Let us take these cancelled order in account to the main dataframe."
   ]
  },
  {
   "cell_type": "code",
   "execution_count": 15,
   "id": "5df1cdaf",
   "metadata": {},
   "outputs": [],
   "source": [
    "# Applying lambda function over the whole dataset\n",
    "data['order_cancelled'] = data['InvoiceNo'].apply(lambda x:int('C' in x))"
   ]
  },
  {
   "cell_type": "code",
   "execution_count": 16,
   "id": "e7912b97",
   "metadata": {},
   "outputs": [
    {
     "data": {
      "text/html": [
       "<div>\n",
       "<style scoped>\n",
       "    .dataframe tbody tr th:only-of-type {\n",
       "        vertical-align: middle;\n",
       "    }\n",
       "\n",
       "    .dataframe tbody tr th {\n",
       "        vertical-align: top;\n",
       "    }\n",
       "\n",
       "    .dataframe thead th {\n",
       "        text-align: right;\n",
       "    }\n",
       "</style>\n",
       "<table border=\"1\" class=\"dataframe\">\n",
       "  <thead>\n",
       "    <tr style=\"text-align: right;\">\n",
       "      <th></th>\n",
       "      <th>InvoiceNo</th>\n",
       "      <th>StockCode</th>\n",
       "      <th>Description</th>\n",
       "      <th>Quantity</th>\n",
       "      <th>InvoiceDate</th>\n",
       "      <th>UnitPrice</th>\n",
       "      <th>CustomerID</th>\n",
       "      <th>Country</th>\n",
       "      <th>InvoiceDate_month</th>\n",
       "      <th>InvoiceDate_weekday</th>\n",
       "      <th>InvoiceDate_hour</th>\n",
       "      <th>order_cancelled</th>\n",
       "    </tr>\n",
       "  </thead>\n",
       "  <tbody>\n",
       "    <tr>\n",
       "      <th>141</th>\n",
       "      <td>C536379</td>\n",
       "      <td>D</td>\n",
       "      <td>Discount</td>\n",
       "      <td>-1</td>\n",
       "      <td>2010-12-01 09:41:00</td>\n",
       "      <td>27.50</td>\n",
       "      <td>14527.0</td>\n",
       "      <td>United Kingdom</td>\n",
       "      <td>12</td>\n",
       "      <td>2</td>\n",
       "      <td>9</td>\n",
       "      <td>1</td>\n",
       "    </tr>\n",
       "    <tr>\n",
       "      <th>154</th>\n",
       "      <td>C536383</td>\n",
       "      <td>35004C</td>\n",
       "      <td>SET OF 3 COLOURED  FLYING DUCKS</td>\n",
       "      <td>-1</td>\n",
       "      <td>2010-12-01 09:49:00</td>\n",
       "      <td>4.65</td>\n",
       "      <td>15311.0</td>\n",
       "      <td>United Kingdom</td>\n",
       "      <td>12</td>\n",
       "      <td>2</td>\n",
       "      <td>9</td>\n",
       "      <td>1</td>\n",
       "    </tr>\n",
       "    <tr>\n",
       "      <th>235</th>\n",
       "      <td>C536391</td>\n",
       "      <td>22556</td>\n",
       "      <td>PLASTERS IN TIN CIRCUS PARADE</td>\n",
       "      <td>-12</td>\n",
       "      <td>2010-12-01 10:24:00</td>\n",
       "      <td>1.65</td>\n",
       "      <td>17548.0</td>\n",
       "      <td>United Kingdom</td>\n",
       "      <td>12</td>\n",
       "      <td>2</td>\n",
       "      <td>10</td>\n",
       "      <td>1</td>\n",
       "    </tr>\n",
       "    <tr>\n",
       "      <th>236</th>\n",
       "      <td>C536391</td>\n",
       "      <td>21984</td>\n",
       "      <td>PACK OF 12 PINK PAISLEY TISSUES</td>\n",
       "      <td>-24</td>\n",
       "      <td>2010-12-01 10:24:00</td>\n",
       "      <td>0.29</td>\n",
       "      <td>17548.0</td>\n",
       "      <td>United Kingdom</td>\n",
       "      <td>12</td>\n",
       "      <td>2</td>\n",
       "      <td>10</td>\n",
       "      <td>1</td>\n",
       "    </tr>\n",
       "    <tr>\n",
       "      <th>237</th>\n",
       "      <td>C536391</td>\n",
       "      <td>21983</td>\n",
       "      <td>PACK OF 12 BLUE PAISLEY TISSUES</td>\n",
       "      <td>-24</td>\n",
       "      <td>2010-12-01 10:24:00</td>\n",
       "      <td>0.29</td>\n",
       "      <td>17548.0</td>\n",
       "      <td>United Kingdom</td>\n",
       "      <td>12</td>\n",
       "      <td>2</td>\n",
       "      <td>10</td>\n",
       "      <td>1</td>\n",
       "    </tr>\n",
       "  </tbody>\n",
       "</table>\n",
       "</div>"
      ],
      "text/plain": [
       "    InvoiceNo StockCode                       Description  Quantity  \\\n",
       "141   C536379         D                          Discount        -1   \n",
       "154   C536383    35004C   SET OF 3 COLOURED  FLYING DUCKS        -1   \n",
       "235   C536391     22556    PLASTERS IN TIN CIRCUS PARADE        -12   \n",
       "236   C536391     21984  PACK OF 12 PINK PAISLEY TISSUES        -24   \n",
       "237   C536391     21983  PACK OF 12 BLUE PAISLEY TISSUES        -24   \n",
       "\n",
       "            InvoiceDate  UnitPrice  CustomerID         Country  \\\n",
       "141 2010-12-01 09:41:00      27.50     14527.0  United Kingdom   \n",
       "154 2010-12-01 09:49:00       4.65     15311.0  United Kingdom   \n",
       "235 2010-12-01 10:24:00       1.65     17548.0  United Kingdom   \n",
       "236 2010-12-01 10:24:00       0.29     17548.0  United Kingdom   \n",
       "237 2010-12-01 10:24:00       0.29     17548.0  United Kingdom   \n",
       "\n",
       "     InvoiceDate_month  InvoiceDate_weekday  InvoiceDate_hour  order_cancelled  \n",
       "141                 12                    2                 9                1  \n",
       "154                 12                    2                 9                1  \n",
       "235                 12                    2                10                1  \n",
       "236                 12                    2                10                1  \n",
       "237                 12                    2                10                1  "
      ]
     },
     "execution_count": 16,
     "metadata": {},
     "output_type": "execute_result"
    }
   ],
   "source": [
    "# Looking at the cancelled order rows\n",
    "data[data['order_cancelled']==1].head()"
   ]
  },
  {
   "cell_type": "code",
   "execution_count": 17,
   "id": "6bc6ac06",
   "metadata": {
    "scrolled": false
   },
   "outputs": [
    {
     "data": {
      "text/plain": [
       "InvoiceNo                      object\n",
       "StockCode                      object\n",
       "Description                    object\n",
       "Quantity                        int64\n",
       "InvoiceDate            datetime64[ns]\n",
       "UnitPrice                     float64\n",
       "CustomerID                    float64\n",
       "Country                        object\n",
       "InvoiceDate_month               int64\n",
       "InvoiceDate_weekday             int64\n",
       "InvoiceDate_hour                int64\n",
       "order_cancelled                 int64\n",
       "dtype: object"
      ]
     },
     "execution_count": 17,
     "metadata": {},
     "output_type": "execute_result"
    }
   ],
   "source": [
    "# Checking the data type\n",
    "data.dtypes"
   ]
  },
  {
   "cell_type": "code",
   "execution_count": 18,
   "id": "d8f5ac01",
   "metadata": {},
   "outputs": [],
   "source": [
    "# dropping the InvoiceDate column as we have extracted the datetime variables.\n",
    "data = data.drop('InvoiceDate', axis = 1)"
   ]
  },
  {
   "cell_type": "markdown",
   "id": "5a6a0277",
   "metadata": {},
   "source": [
    "#### Label encoding the string variables"
   ]
  },
  {
   "cell_type": "code",
   "execution_count": 19,
   "id": "6a5845ef",
   "metadata": {},
   "outputs": [],
   "source": [
    "# Importing Label Encoder for converting the categorical values to numeric value\n",
    "from sklearn.preprocessing import LabelEncoder"
   ]
  },
  {
   "cell_type": "code",
   "execution_count": 20,
   "id": "46952e16",
   "metadata": {},
   "outputs": [],
   "source": [
    "# Transforming each feature\n",
    "le = LabelEncoder()\n",
    "label_InvoiceNo = le.fit_transform(data['InvoiceNo'])\n",
    "label_StockCode = le.fit_transform(data['StockCode'])\n",
    "label_Description = le.fit_transform(data['Description'])\n",
    "label_Country = le.fit_transform(data['Country'])"
   ]
  },
  {
   "cell_type": "code",
   "execution_count": 21,
   "id": "475e1f58",
   "metadata": {},
   "outputs": [],
   "source": [
    "# Storing the generated label in their respective columns\n",
    "data['InvoiceNo'] = label_InvoiceNo\n",
    "data['StockCode'] = label_StockCode\n",
    "data['Description'] = label_Description\n",
    "data['Country'] = label_Country"
   ]
  },
  {
   "cell_type": "markdown",
   "id": "d1b7305e",
   "metadata": {},
   "source": [
    "#### Scaling the data"
   ]
  },
  {
   "cell_type": "code",
   "execution_count": 22,
   "id": "0c27a7d6",
   "metadata": {},
   "outputs": [],
   "source": [
    "# Importing Standard Scaler and fitting the scaled data\n",
    "from sklearn.preprocessing import StandardScaler\n",
    "\n",
    "scaler = StandardScaler()\n",
    "\n",
    "data_scaled = scaler.fit_transform(data)"
   ]
  },
  {
   "cell_type": "code",
   "execution_count": 23,
   "id": "014b1b2a",
   "metadata": {
    "scrolled": true
   },
   "outputs": [
    {
     "data": {
      "text/html": [
       "<div>\n",
       "<style scoped>\n",
       "    .dataframe tbody tr th:only-of-type {\n",
       "        vertical-align: middle;\n",
       "    }\n",
       "\n",
       "    .dataframe tbody tr th {\n",
       "        vertical-align: top;\n",
       "    }\n",
       "\n",
       "    .dataframe thead th {\n",
       "        text-align: right;\n",
       "    }\n",
       "</style>\n",
       "<table border=\"1\" class=\"dataframe\">\n",
       "  <thead>\n",
       "    <tr style=\"text-align: right;\">\n",
       "      <th></th>\n",
       "      <th>0</th>\n",
       "      <th>1</th>\n",
       "      <th>2</th>\n",
       "      <th>3</th>\n",
       "      <th>4</th>\n",
       "      <th>5</th>\n",
       "      <th>6</th>\n",
       "      <th>7</th>\n",
       "      <th>8</th>\n",
       "      <th>9</th>\n",
       "      <th>10</th>\n",
       "    </tr>\n",
       "  </thead>\n",
       "  <tbody>\n",
       "    <tr>\n",
       "      <th>count</th>\n",
       "      <td>4.068290e+05</td>\n",
       "      <td>4.068290e+05</td>\n",
       "      <td>4.068290e+05</td>\n",
       "      <td>4.068290e+05</td>\n",
       "      <td>4.068290e+05</td>\n",
       "      <td>4.068290e+05</td>\n",
       "      <td>4.068290e+05</td>\n",
       "      <td>4.068290e+05</td>\n",
       "      <td>4.068290e+05</td>\n",
       "      <td>4.068290e+05</td>\n",
       "      <td>4.068290e+05</td>\n",
       "    </tr>\n",
       "    <tr>\n",
       "      <th>mean</th>\n",
       "      <td>-5.365368e-17</td>\n",
       "      <td>-5.952205e-17</td>\n",
       "      <td>3.807455e-18</td>\n",
       "      <td>-4.523536e-18</td>\n",
       "      <td>5.868371e-18</td>\n",
       "      <td>-3.051553e-16</td>\n",
       "      <td>3.906659e-16</td>\n",
       "      <td>-2.235570e-18</td>\n",
       "      <td>-1.318986e-16</td>\n",
       "      <td>-1.933768e-16</td>\n",
       "      <td>2.333376e-17</td>\n",
       "    </tr>\n",
       "    <tr>\n",
       "      <th>std</th>\n",
       "      <td>1.000001e+00</td>\n",
       "      <td>1.000001e+00</td>\n",
       "      <td>1.000001e+00</td>\n",
       "      <td>1.000001e+00</td>\n",
       "      <td>1.000001e+00</td>\n",
       "      <td>1.000001e+00</td>\n",
       "      <td>1.000001e+00</td>\n",
       "      <td>1.000001e+00</td>\n",
       "      <td>1.000001e+00</td>\n",
       "      <td>1.000001e+00</td>\n",
       "      <td>1.000001e+00</td>\n",
       "    </tr>\n",
       "    <tr>\n",
       "      <th>min</th>\n",
       "      <td>-1.792216e+00</td>\n",
       "      <td>-1.863931e+00</td>\n",
       "      <td>-1.858922e+00</td>\n",
       "      <td>-3.257311e+02</td>\n",
       "      <td>-4.992379e-02</td>\n",
       "      <td>-1.716675e+00</td>\n",
       "      <td>-4.871627e+00</td>\n",
       "      <td>-1.932163e+00</td>\n",
       "      <td>-1.356156e+00</td>\n",
       "      <td>-2.948631e+00</td>\n",
       "      <td>-1.495949e-01</td>\n",
       "    </tr>\n",
       "    <tr>\n",
       "      <th>25%</th>\n",
       "      <td>-8.808803e-01</td>\n",
       "      <td>-7.538118e-01</td>\n",
       "      <td>-8.095044e-01</td>\n",
       "      <td>-4.045671e-02</td>\n",
       "      <td>-3.189019e-02</td>\n",
       "      <td>-7.788819e-01</td>\n",
       "      <td>3.223641e-01</td>\n",
       "      <td>-7.622096e-01</td>\n",
       "      <td>-8.358387e-01</td>\n",
       "      <td>-7.603986e-01</td>\n",
       "      <td>-1.495949e-01</td>\n",
       "    </tr>\n",
       "    <tr>\n",
       "      <th>50%</th>\n",
       "      <td>6.467571e-02</td>\n",
       "      <td>-6.072778e-02</td>\n",
       "      <td>-3.460664e-02</td>\n",
       "      <td>-2.839365e-02</td>\n",
       "      <td>-2.179138e-02</td>\n",
       "      <td>-7.918459e-02</td>\n",
       "      <td>3.223641e-01</td>\n",
       "      <td>1.152558e-01</td>\n",
       "      <td>-3.155215e-01</td>\n",
       "      <td>1.148945e-01</td>\n",
       "      <td>-1.495949e-01</td>\n",
       "    </tr>\n",
       "    <tr>\n",
       "      <th>75%</th>\n",
       "      <td>8.465154e-01</td>\n",
       "      <td>6.311714e-01</td>\n",
       "      <td>8.449574e-01</td>\n",
       "      <td>-2.465022e-04</td>\n",
       "      <td>4.176999e-03</td>\n",
       "      <td>8.772823e-01</td>\n",
       "      <td>3.223641e-01</td>\n",
       "      <td>9.927212e-01</td>\n",
       "      <td>7.251129e-01</td>\n",
       "      <td>5.525410e-01</td>\n",
       "      <td>-1.495949e-01</td>\n",
       "    </tr>\n",
       "    <tr>\n",
       "      <th>max</th>\n",
       "      <td>2.204154e+00</td>\n",
       "      <td>2.499536e+00</td>\n",
       "      <td>1.717176e+00</td>\n",
       "      <td>3.256341e+02</td>\n",
       "      <td>5.621654e+02</td>\n",
       "      <td>1.750299e+00</td>\n",
       "      <td>4.707639e-01</td>\n",
       "      <td>1.285210e+00</td>\n",
       "      <td>1.765747e+00</td>\n",
       "      <td>3.178420e+00</td>\n",
       "      <td>6.684718e+00</td>\n",
       "    </tr>\n",
       "  </tbody>\n",
       "</table>\n",
       "</div>"
      ],
      "text/plain": [
       "                 0             1             2             3             4   \\\n",
       "count  4.068290e+05  4.068290e+05  4.068290e+05  4.068290e+05  4.068290e+05   \n",
       "mean  -5.365368e-17 -5.952205e-17  3.807455e-18 -4.523536e-18  5.868371e-18   \n",
       "std    1.000001e+00  1.000001e+00  1.000001e+00  1.000001e+00  1.000001e+00   \n",
       "min   -1.792216e+00 -1.863931e+00 -1.858922e+00 -3.257311e+02 -4.992379e-02   \n",
       "25%   -8.808803e-01 -7.538118e-01 -8.095044e-01 -4.045671e-02 -3.189019e-02   \n",
       "50%    6.467571e-02 -6.072778e-02 -3.460664e-02 -2.839365e-02 -2.179138e-02   \n",
       "75%    8.465154e-01  6.311714e-01  8.449574e-01 -2.465022e-04  4.176999e-03   \n",
       "max    2.204154e+00  2.499536e+00  1.717176e+00  3.256341e+02  5.621654e+02   \n",
       "\n",
       "                 5             6             7             8             9   \\\n",
       "count  4.068290e+05  4.068290e+05  4.068290e+05  4.068290e+05  4.068290e+05   \n",
       "mean  -3.051553e-16  3.906659e-16 -2.235570e-18 -1.318986e-16 -1.933768e-16   \n",
       "std    1.000001e+00  1.000001e+00  1.000001e+00  1.000001e+00  1.000001e+00   \n",
       "min   -1.716675e+00 -4.871627e+00 -1.932163e+00 -1.356156e+00 -2.948631e+00   \n",
       "25%   -7.788819e-01  3.223641e-01 -7.622096e-01 -8.358387e-01 -7.603986e-01   \n",
       "50%   -7.918459e-02  3.223641e-01  1.152558e-01 -3.155215e-01  1.148945e-01   \n",
       "75%    8.772823e-01  3.223641e-01  9.927212e-01  7.251129e-01  5.525410e-01   \n",
       "max    1.750299e+00  4.707639e-01  1.285210e+00  1.765747e+00  3.178420e+00   \n",
       "\n",
       "                 10  \n",
       "count  4.068290e+05  \n",
       "mean   2.333376e-17  \n",
       "std    1.000001e+00  \n",
       "min   -1.495949e-01  \n",
       "25%   -1.495949e-01  \n",
       "50%   -1.495949e-01  \n",
       "75%   -1.495949e-01  \n",
       "max    6.684718e+00  "
      ]
     },
     "execution_count": 23,
     "metadata": {},
     "output_type": "execute_result"
    }
   ],
   "source": [
    "# Checking the scaled data\n",
    "pd.DataFrame(data_scaled).describe()"
   ]
  },
  {
   "cell_type": "markdown",
   "id": "8efbb664",
   "metadata": {},
   "source": [
    "### Kmeans clustering"
   ]
  },
  {
   "cell_type": "code",
   "execution_count": 24,
   "id": "fa7a0f7b",
   "metadata": {},
   "outputs": [],
   "source": [
    "# Appending the result of inertia in a blank list named SSE, after fitting the scaled data into kmeansfor each number\n",
    "# of clusters.\n",
    "SSE_scaled = []\n",
    "\n",
    "for cluster in range(1,15):\n",
    "    kmeans = KMeans(n_jobs = -1, n_clusters = cluster)\n",
    "    kmeans.fit(data_scaled)\n",
    "    SSE_scaled.append(kmeans.inertia_)"
   ]
  },
  {
   "cell_type": "code",
   "execution_count": 25,
   "id": "c33ad3ab",
   "metadata": {},
   "outputs": [],
   "source": [
    "# Creating a dataframe\n",
    "frame_scaled = pd.DataFrame({'Cluster':range(1,15), 'SSE':SSE_scaled})"
   ]
  },
  {
   "cell_type": "markdown",
   "id": "faa0f1ea",
   "metadata": {},
   "source": [
    "#### Elbow Curve for clusters"
   ]
  },
  {
   "cell_type": "code",
   "execution_count": 26,
   "id": "8225dfbd",
   "metadata": {},
   "outputs": [
    {
     "data": {
      "image/png": "[encoded data removed]",
      "text/plain": [
       "<Figure size 864x432 with 1 Axes>"
      ]
     },
     "metadata": {
      "needs_background": "light"
     },
     "output_type": "display_data"
    }
   ],
   "source": [
    "# Plotting the Elbow curve\n",
    "plt.figure(figsize=(12,6))\n",
    "plt.plot(frame_scaled['Cluster'], frame_scaled['SSE'], marker='o')\n",
    "plt.xlabel(\"Clusters\")\n",
    "plt.ylabel(\"SSE\")\n",
    "plt.show()"
   ]
  },
  {
   "cell_type": "markdown",
   "id": "b9fefee2",
   "metadata": {},
   "source": [
    "*From the above elbow curve, we can observe that the optimum value for number of clusters is 7.*"
   ]
  },
  {
   "cell_type": "code",
   "execution_count": 27,
   "id": "9ca02afe",
   "metadata": {},
   "outputs": [],
   "source": [
    "# Fitting the data and predicting the clusters\n",
    "kmeans = KMeans(n_jobs = -1, n_clusters = 7)\n",
    "kmeans.fit(data_scaled)\n",
    "pred = kmeans.predict(data_scaled)"
   ]
  },
  {
   "cell_type": "code",
   "execution_count": 28,
   "id": "c5bc4512",
   "metadata": {},
   "outputs": [
    {
     "data": {
      "text/plain": [
       "array([0, 0, 0, ..., 2, 2, 2])"
      ]
     },
     "execution_count": 28,
     "metadata": {},
     "output_type": "execute_result"
    }
   ],
   "source": [
    "# predicted clusters\n",
    "pred"
   ]
  },
  {
   "cell_type": "code",
   "execution_count": 29,
   "id": "bd4b509c",
   "metadata": {},
   "outputs": [],
   "source": [
    "# Creating a dataframe of scaled data\n",
    "frame = pd.DataFrame(data_scaled)"
   ]
  },
  {
   "cell_type": "code",
   "execution_count": 30,
   "id": "7652215f",
   "metadata": {},
   "outputs": [],
   "source": [
    "# Inserting a column name cluster and putting the predicted values of clusters\n",
    "frame['cluster'] = pred"
   ]
  },
  {
   "cell_type": "code",
   "execution_count": 31,
   "id": "6a8c7d0b",
   "metadata": {},
   "outputs": [
    {
     "data": {
      "text/plain": [
       "6    111061\n",
       "0     97192\n",
       "3     85672\n",
       "1     69835\n",
       "2     34164\n",
       "4      8904\n",
       "5         1\n",
       "Name: cluster, dtype: int64"
      ]
     },
     "execution_count": 31,
     "metadata": {},
     "output_type": "execute_result"
    }
   ],
   "source": [
    "# Number of data points allocated to each cluster\n",
    "frame['cluster'].value_counts()"
   ]
  },
  {
   "cell_type": "code",
   "execution_count": 32,
   "id": "1a09e035",
   "metadata": {},
   "outputs": [
    {
     "data": {
      "text/html": [
       "<div>\n",
       "<style scoped>\n",
       "    .dataframe tbody tr th:only-of-type {\n",
       "        vertical-align: middle;\n",
       "    }\n",
       "\n",
       "    .dataframe tbody tr th {\n",
       "        vertical-align: top;\n",
       "    }\n",
       "\n",
       "    .dataframe thead th {\n",
       "        text-align: right;\n",
       "    }\n",
       "</style>\n",
       "<table border=\"1\" class=\"dataframe\">\n",
       "  <thead>\n",
       "    <tr style=\"text-align: right;\">\n",
       "      <th></th>\n",
       "      <th>0</th>\n",
       "      <th>1</th>\n",
       "      <th>2</th>\n",
       "      <th>3</th>\n",
       "      <th>4</th>\n",
       "      <th>5</th>\n",
       "      <th>6</th>\n",
       "      <th>7</th>\n",
       "      <th>8</th>\n",
       "      <th>9</th>\n",
       "      <th>10</th>\n",
       "      <th>cluster</th>\n",
       "    </tr>\n",
       "  </thead>\n",
       "  <tbody>\n",
       "    <tr>\n",
       "      <th>0</th>\n",
       "      <td>-1.792216</td>\n",
       "      <td>1.985351</td>\n",
       "      <td>1.552832</td>\n",
       "      <td>-0.024373</td>\n",
       "      <td>-0.013135</td>\n",
       "      <td>1.49528</td>\n",
       "      <td>0.322364</td>\n",
       "      <td>1.28521</td>\n",
       "      <td>-0.315521</td>\n",
       "      <td>-2.073338</td>\n",
       "      <td>-0.149595</td>\n",
       "      <td>0</td>\n",
       "    </tr>\n",
       "    <tr>\n",
       "      <th>1</th>\n",
       "      <td>-1.792216</td>\n",
       "      <td>1.274496</td>\n",
       "      <td>1.560177</td>\n",
       "      <td>-0.024373</td>\n",
       "      <td>-0.001017</td>\n",
       "      <td>1.49528</td>\n",
       "      <td>0.322364</td>\n",
       "      <td>1.28521</td>\n",
       "      <td>-0.315521</td>\n",
       "      <td>-2.073338</td>\n",
       "      <td>-0.149595</td>\n",
       "      <td>0</td>\n",
       "    </tr>\n",
       "    <tr>\n",
       "      <th>2</th>\n",
       "      <td>-1.792216</td>\n",
       "      <td>1.518556</td>\n",
       "      <td>-1.068416</td>\n",
       "      <td>-0.016331</td>\n",
       "      <td>-0.010250</td>\n",
       "      <td>1.49528</td>\n",
       "      <td>0.322364</td>\n",
       "      <td>1.28521</td>\n",
       "      <td>-0.315521</td>\n",
       "      <td>-2.073338</td>\n",
       "      <td>-0.149595</td>\n",
       "      <td>0</td>\n",
       "    </tr>\n",
       "    <tr>\n",
       "      <th>3</th>\n",
       "      <td>-1.792216</td>\n",
       "      <td>1.456948</td>\n",
       "      <td>-0.194360</td>\n",
       "      <td>-0.024373</td>\n",
       "      <td>-0.001017</td>\n",
       "      <td>1.49528</td>\n",
       "      <td>0.322364</td>\n",
       "      <td>1.28521</td>\n",
       "      <td>-0.315521</td>\n",
       "      <td>-2.073338</td>\n",
       "      <td>-0.149595</td>\n",
       "      <td>0</td>\n",
       "    </tr>\n",
       "    <tr>\n",
       "      <th>4</th>\n",
       "      <td>-1.792216</td>\n",
       "      <td>1.455764</td>\n",
       "      <td>0.689794</td>\n",
       "      <td>-0.024373</td>\n",
       "      <td>-0.001017</td>\n",
       "      <td>1.49528</td>\n",
       "      <td>0.322364</td>\n",
       "      <td>1.28521</td>\n",
       "      <td>-0.315521</td>\n",
       "      <td>-2.073338</td>\n",
       "      <td>-0.149595</td>\n",
       "      <td>0</td>\n",
       "    </tr>\n",
       "  </tbody>\n",
       "</table>\n",
       "</div>"
      ],
      "text/plain": [
       "          0         1         2         3         4        5         6  \\\n",
       "0 -1.792216  1.985351  1.552832 -0.024373 -0.013135  1.49528  0.322364   \n",
       "1 -1.792216  1.274496  1.560177 -0.024373 -0.001017  1.49528  0.322364   \n",
       "2 -1.792216  1.518556 -1.068416 -0.016331 -0.010250  1.49528  0.322364   \n",
       "3 -1.792216  1.456948 -0.194360 -0.024373 -0.001017  1.49528  0.322364   \n",
       "4 -1.792216  1.455764  0.689794 -0.024373 -0.001017  1.49528  0.322364   \n",
       "\n",
       "         7         8         9        10  cluster  \n",
       "0  1.28521 -0.315521 -2.073338 -0.149595        0  \n",
       "1  1.28521 -0.315521 -2.073338 -0.149595        0  \n",
       "2  1.28521 -0.315521 -2.073338 -0.149595        0  \n",
       "3  1.28521 -0.315521 -2.073338 -0.149595        0  \n",
       "4  1.28521 -0.315521 -2.073338 -0.149595        0  "
      ]
     },
     "execution_count": 32,
     "metadata": {},
     "output_type": "execute_result"
    }
   ],
   "source": [
    "# Checking the dataframe with clusters\n",
    "frame.head()"
   ]
  },
  {
   "cell_type": "markdown",
   "id": "02667387",
   "metadata": {},
   "source": [
    "***After we predicted the clusters for each of the data elements, above dataframe shows that out of the 7 clusters, which data item will belong to which cluster.***"
   ]
  },
  {
   "cell_type": "code",
   "execution_count": null,
   "id": "d679ebb1",
   "metadata": {},
   "outputs": [],
   "source": []
  }
 ],
 "metadata": {
  "kernelspec": {
   "display_name": "Python 3",
   "language": "python",
   "name": "python3"
  },
  "language_info": {
   "codemirror_mode": {
    "name": "ipython",
    "version": 3
   },
   "file_extension": ".py",
   "mimetype": "text/x-python",
   "name": "python",
   "nbconvert_exporter": "python",
   "pygments_lexer": "ipython3",
   "version": "3.9.5"
  }
 },
 "nbformat": 4,
 "nbformat_minor": 5
}
